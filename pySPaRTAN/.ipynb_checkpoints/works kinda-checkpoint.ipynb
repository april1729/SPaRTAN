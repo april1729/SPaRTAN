{
 "cells": [
  {
   "cell_type": "code",
   "execution_count": 2,
   "metadata": {
    "pycharm": {
     "name": "#%%\n"
    }
   },
   "outputs": [],
   "source": [
    "\n",
    "#!/usr/bin/env python3\n",
    "# -*- coding: utf-8 -*-\n",
    "# =============================================================================\n",
    "# Created By  : Xiaojun Ma\n",
    "# Created Date: Mar 18 10:54:00 PDT 2020\n",
    "# =============================================================================\n",
    "\"\"\"\n",
    "This script contains the major class of SPaRTAN model and its dependencies.\n",
    "\n",
    "This script requires numpy, Scipy, matplotlib to be installed within the Python\n",
    "environment you are running this script in\n",
    "\n",
    "This script requires Cython modules present in the current directory\n",
    "\n",
    "This file contains the following classes and functions\n",
    "\n",
    "    class Timer: a class to convert time period in seconds to the format of h:m:s\n",
    "\n",
    "    class pySPaRTAN: The major class for SPaRTAN, establishing an interaction matrix between\n",
    "    surface proteins (P) and TFs (D) that predict target gene expression (Y).\n",
    "\n",
    "    function normalize_column(): perform l2 normalization column-wize of given matrix\n",
    "\n",
    "\"\"\"\n",
    "import numpy as np\n",
    "import cythKronPlus as krnP\n",
    "import cythLeastR as leastR\n",
    "import scipy.linalg\n",
    "import gc\n",
    "from copy import deepcopy\n",
    "import statsmodels\n",
    "# import matplotlib.pyplot as plt\n",
    "from scipy import stats\n",
    "import warnings\n",
    "\n",
    "class SPaRTAN:\n",
    "    \"\"\"\n",
    "    The major class for SPaRTAN, establishing an interaction matrix between\n",
    "    surface proteins (P) and TFs (D) that predicts target gene expression (Y).\n",
    "\n",
    "    Methods\n",
    "    -------\n",
    "    fit(self, D, P, Y, lamda=0.001, rsL2=0.001,\n",
    "        spectrumP=0.7):\n",
    "        train a SPaRTAN model\n",
    "\n",
    "    ar_model2w(self):\n",
    "        converts a trained model to intermidiat vaiable W\n",
    "\n",
    "    ar_reconstruction(self, pred_test=None):\n",
    "        reconstruction function\n",
    "\n",
    "    predict(self, P_test=None):\n",
    "        predict target gene expression\n",
    "\n",
    "    get_corr(self, Y_pred, Y_test, plot=False):\n",
    "        get the correlation between predicted Y_pred and Y_test\n",
    "\n",
    "    get_W(self):\n",
    "        get coefficient matrix\n",
    "\n",
    "    get_projP(self, Y=None):\n",
    "        get projected protein expression\n",
    "\n",
    "    get_projD(self, P=None):\n",
    "        get projected TF activity\n",
    "    \"\"\"\n",
    "    def __init__(self, lamda=0.01, alpha=0.5, corrtype='spearman',grid_search_steps=5, verbose=False, solver=\"SVD\"):\n",
    "        '''\n",
    "\n",
    "        Parameters\n",
    "        ----------\n",
    "        lamda\n",
    "        alpha\n",
    "        corrtype\n",
    "        grid_search_steps\n",
    "        verbose\n",
    "        solver\n",
    "        '''\n",
    "\n",
    "        self.solver=solver\n",
    "        self.lamda=lamda\n",
    "        self.alpha=alpha\n",
    "        self.corrtype=corrtype\n",
    "        if corrtype=='spearman':\n",
    "            self.corr=scipy.stats.spearmanr\n",
    "        elif corrtype=='pearson':\n",
    "            self.corr=scipy.stats.pearsonr\n",
    "        else:\n",
    "            warnings.warn(\"Unrecognized corrtype, using Spearman correlation\")\n",
    "            self.corr=scipy.stats.spearmanr\n",
    "            \n",
    "        self.grid_search_steps=grid_search_steps\n",
    "        self.verbose=verbose\n",
    "\n",
    "        self.obs_names=None\n",
    "        self.gene_names=None\n",
    "        self.tf_names=None\n",
    "        self.protein_names=None\n",
    "\n",
    "    def fit(self, adata=None, D=\"tf_gene\", P=\"protein\", Y=\"log1p\"):\n",
    "        '''\n",
    "\n",
    "        IMPORTANT: the protein and gene expression matrices must be normalized prior to calling this function.  See ... for recomendations\n",
    "\n",
    "        Parameters\n",
    "        ----------\n",
    "        adata : AnnData, if specified, the object contains the TF-gene interaction matrix, gene expression, and protein expression\n",
    "        D : str or array-like, either the TF-gene interaction matrix or the key in adata.varm containing the TF-gene interaction matrix.\n",
    "        P : str or array-like, either the protein expression  matrix or the key in adata.obsm containing the protein expression interaction matrix.\n",
    "        Y : str or array-like, either the gene expression  matrix or the key in adata.obsm containing the gene expression interaction matrix.\n",
    "        Returns\n",
    "        -------\n",
    "\n",
    "        '''\n",
    "\n",
    "        if adata is not None:\n",
    "            D=adata.varm[D]\n",
    "            P=adata.obsm[P]\n",
    "            Y=adata.layers[Y]\n",
    "            self.obs_names=adata.obs_names\n",
    "            self.gene_names=adata.var_names\n",
    "\n",
    "        if type(D)==pd.DataFrame:\n",
    "            self.tf_names=D.columns\n",
    "        if type(P)==pd.DataFrame:\n",
    "            self.protein_names=protein.columns\n",
    "        if type(Y)==pd.DataFrame:\n",
    "            self.obs_names=Y.index\n",
    "            self.gene_names=Y.columns\n",
    "\n",
    "        if scipy.sparse.issparse(Y):\n",
    "            Y=Y.todense()\n",
    "        if scipy.sparse.issparse(D):\n",
    "            D=D.todense()\n",
    "        if scipy.sparse.issparse(P):\n",
    "            P=P.todense()\n",
    "\n",
    "\n",
    "        D=np.asarray(D)\n",
    "        P=np.asarray(P)\n",
    "        Y=np.asarray(Y)\n",
    "\n",
    "        if type(self.lamda) is list or type(self.alpha) is list:\n",
    "            self.lamda, self.alpha=self._cv_grid_search(D, P, Y)\n",
    "\n",
    "        self.YTD=Y.dot(D)\n",
    "        self.P=P\n",
    "        self.YTY=Y.dot(Y.T)\n",
    "        self.Y=Y.T\n",
    "        self.D=D\n",
    "\n",
    "        self.svdYTD=np.linalg.svd(self.YTD)\n",
    "        self.svdP=np.linalg.svd(self.P)\n",
    "\n",
    "        self._fit(self.lamda,self.alpha)\n",
    "\n",
    "        return self\n",
    "\n",
    "    def _cv_grid_search(self, D, P, Y):\n",
    "\n",
    "        n_steps=5\n",
    "\n",
    "        alpha_list=np.linspace(self.alpha[0], self.alpha[1], num=n_steps)\n",
    "        lamda_list=np.geomspace(self.lamda[0], self.lamda[1], num=n_steps)\n",
    "\n",
    "        best_lamda=[None]*5\n",
    "        best_alpha=[None]*5\n",
    "        folds=np.round(np.random.rand(P.shape[0])*5)\n",
    "\n",
    "        for fold in range(5):\n",
    "            P_train=P[folds==fold,:]\n",
    "            P_test=P[~(folds==fold),:]\n",
    "            Y_train=Y[folds==fold,:]\n",
    "            Y_test=Y[~(folds==fold),:]\n",
    "            \n",
    "            self.YTD=Y_train.dot(D)\n",
    "            self.P=P_train\n",
    "            self.YTY=Y_train.dot(Y.T)\n",
    "            self.Y=Y_train.T\n",
    "            self.D=D\n",
    "\n",
    "            self.svdYTD=np.linalg.svd(self.YTD)\n",
    "            self.svdP=np.linalg.svd(self.P)\n",
    "\n",
    "            best_score=0\n",
    "            for l in lamda_list:\n",
    "                for a in alpha_list:\n",
    "                    self._fit(l,a)\n",
    "                    s=self.score(P_test, Y_test)\n",
    "                    if s>best_score:\n",
    "                        best_lamda[fold]=l\n",
    "                        best_alpha[fold]=a\n",
    "\n",
    "        alpha=np.mean(best_alpha)\n",
    "        lamda=np.mean(best_lamda)\n",
    "\n",
    "        return (lamda, alpha)\n",
    "\n",
    "    def _fit(self,l,a):\n",
    "        if self.solver==\"SVD\":\n",
    "            self.W=aff_reg_svd(self.YTD, self.P.T, self.YTY,l)\n",
    "\n",
    "        elif self.solver==\"Kron\":\n",
    "            self.W=aff_reg_kron(self.D, self.P, self.Y,l*a,l*(1-a), svdA=self.svdYTD, svdB=self.svdP)\n",
    "\n",
    "    def ar_reconstruction(self, pred_test=None):\n",
    "        \"\"\" reconstruction function\n",
    "        Parameters\n",
    "        ----------\n",
    "        pred_test: prediction on test data\n",
    "\n",
    "        \"\"\"\n",
    "        A = self.Y.T @ pred_test\n",
    "        B = scipy.linalg.orth(self.Y)\n",
    "        cm = scipy.linalg.lstsq(B, self.Y)[0]\n",
    "        ct = scipy.linalg.lstsq(cm.T, A)[0]\n",
    "        pred = B @ ct\n",
    "        return pred\n",
    "\n",
    "    def predict(self, P_test=None):\n",
    "        \"\"\" predict target gene expression\n",
    "\n",
    "        Parameters\n",
    "        ----------\n",
    "        P_test: Protein expression on test data\n",
    "\n",
    "        Returns\n",
    "        -------\n",
    "        Y_pred: array of shape (N, Mtest)\n",
    "                The predicted Y matrix on test data set which has N genes and Mtest cells\n",
    "        \"\"\"\n",
    "\n",
    "        pred = self.D @ (self.W @ P_test.T)\n",
    "\n",
    "        aff_rec = self.ar_reconstruction(pred)\n",
    "\n",
    "        self.Y_pred = aff_rec\n",
    "        return self.Y_pred\n",
    "\n",
    "    def score(P_test, Y_test):\n",
    "        Y_pred=self.predict(P_test)\n",
    "        return self.corr(Y_pred.flatten(), Y_test.flatten())[0]\n",
    "\n",
    "    def get_W(self):\n",
    "        # get coefficient matrix\n",
    "        return self.W\n",
    "\n",
    "    def get_projP(self, Y=None):\n",
    "        \"\"\" get projected protein expression\n",
    "\n",
    "        Parameters\n",
    "        ----------\n",
    "        Y:  array of shape (optional, default is (N, M))\n",
    "            input gene expression with N genes and M cells\n",
    "\n",
    "        Returns\n",
    "        -------\n",
    "        projP: array of shape (M, S)\n",
    "               projected protein expression with M cells and S proteins\n",
    "\n",
    "        \"\"\"\n",
    "        if Y is None:\n",
    "            Y = self.Y\n",
    "        W = self.W\n",
    "        return (Y.T @ self.D @ W).T\n",
    "\n",
    "    def get_projD(self, P=None, n_trials=0):\n",
    "        \"\"\" get projected TF activity\n",
    "        Parameters\n",
    "        ----------\n",
    "        P: array of shape (optional, default is (M, S) )\n",
    "           input protein expression with M cells and S proteins\n",
    "\n",
    "        Returns\n",
    "        -------\n",
    "        projD:  array of shape (Q, M)\n",
    "            projected TF activities with Q TFs and M cells\n",
    "\n",
    "        \"\"\"\n",
    "\n",
    "        if P is None:\n",
    "            P = self.P\n",
    "        tf_activity=self.W @ P.T\n",
    "        if n_trials==0:\n",
    "            return tf_activity\n",
    "        else:\n",
    "            permuted_model=deepcopy(self)\n",
    "            tf_p_val=np.zeros(tf_activity.shape)\n",
    "            for i in range(n_trials):\n",
    "                permuted_model.Y=permuted_model.Y[:,np.random.permutation(self.Y.shape[1])]\n",
    "                permuted_model.YTD=permuted_model.Y.T.dot(permuted_model.D)\n",
    "                permuted_model.svdYTD=np.linalg.svd(permuted_model.YTD)\n",
    "\n",
    "                permuted_model._fit(self.lamda,self.alpha)\n",
    "                tf_activity_perm=permuted_model.W @ P.T\n",
    "\n",
    "                tf_p_val+=(tf_activity_perm>permuted_model)\n",
    "\n",
    "            tf_p_val=(tf_p_val+1)/(n_trials+1)\n",
    "            tf_p_val=statsmodels.stats.multitest.multipletests(tf_p_val.reshape((1,-1)), alpha=0.15, method='holm').reshape(tf_activity.shape)\n",
    "\n",
    "            return tf_activity, tf_p_val\n",
    "    def get_tf_activity(self, adata=None, P=None):\n",
    "        pass\n",
    "\n",
    "    def get_tf_protein_cor(self,P=None):\n",
    "        if P is None:\n",
    "            P=self.P\n",
    "        tf_activity=self.get_projD(P)\n",
    "\n",
    "        X=scipy.stats.spearmanr(\n",
    "                tf_activity,\n",
    "                P,\n",
    "                axis=0)\n",
    "\n",
    "        if self.tf_names is not None and self.protein_names is not None:\n",
    "            X=pd.DataFrame(\n",
    "                X,\n",
    "                index=self.tf_names,\n",
    "                columns=self.protein_names)\n",
    "        return X\n",
    "\n",
    "def normalize_column(A, T=0):\n",
    "    \"\"\" perform l2 normalization column-wize of given matrix\n",
    "\n",
    "    Parameters:\n",
    "        A : the matrix that works on\n",
    "        T : switch of column-wize and row-wize.\n",
    "            T=0: column-wize\n",
    "            T=1: row-wize\n",
    "    \"\"\"\n",
    "    \n",
    "    if (T == 0):\n",
    "        return np.divide(A, np.sqrt(np.sum(A**2, 0)))\n",
    "    else:\n",
    "        At = np.transpose(A)\n",
    "        return np.transpose(np.divide(At, np.sqrt(np.sum(At**2, 0))))\n",
    "def clr(X):\n",
    "    if type(X) is pd.DataFrame:\n",
    "        x=X.to_numpy()\n",
    "    else:\n",
    "        x=X.copy()\n",
    "    x_norm=np.log1p(x/np.exp(np.mean(np.log1p(x), axis=1)).reshape((-1,1)))\n",
    "    if type(X) is pd.DataFrame:\n",
    "        x_norm=pd.DataFrame(x_norm, columns=X.columns, index=X.index)\n",
    "    return x_norm\n",
    "\n",
    "\n",
    "\n",
    "def aff_reg_kron(D, P, Y,l1,l2, svdA=None, svdB=None):\n",
    "\n",
    "    \"\"\" trains a SPaRTAN model\n",
    "\n",
    "    Parameters\n",
    "    ----------\n",
    "    D : array of shape (N, Q)\n",
    "        The data matrix with N genes and Q TFs\n",
    "\n",
    "    P : array of shape (M, S)\n",
    "        The data matrix with M cells and S proteins\n",
    "\n",
    "    Y : array of shape (N, M)\n",
    "        The data matrix with N genes and M cells\n",
    "\n",
    "    lamda : float > 0, default=0.001\n",
    "        LASSO regularization for linear regression\n",
    "\n",
    "    rsL2 : float > 0, default=0.001\n",
    "        ridge regularization for linear regression\n",
    "\n",
    "    corrtype: string, default='spearman'\n",
    "        correlation type used to evaluate the performance\n",
    "\n",
    "    \"\"\"\n",
    "\n",
    "    spectrumA = 1\n",
    "    spectrumP = 0.7\n",
    "\n",
    "\n",
    "    # transformation\n",
    "    A = Y.T @ D\n",
    "    B = P.T\n",
    "    Y = Y.T @ Y\n",
    "\n",
    "    # SVD(A) SVD(B)\n",
    "    if svdA is None:\n",
    "        svdA= np.linalg.svd(A)\n",
    "    if svdB is None:\n",
    "        svdB=np.linalg.svd(B)\n",
    "\n",
    "    UA, SA, VhA = svdA\n",
    "    VA = VhA.T\n",
    "    UB, SB, VhB = svdB\n",
    "    VB = VhB.T\n",
    "\n",
    "    a_cum_spectrum = np.cumsum(SA) / sum(SA)\n",
    "    b_cum_spectrum = np.cumsum(SB) / sum(SB)\n",
    "\n",
    "    da = np.nonzero(a_cum_spectrum >= spectrumA)[0][0] + 1\n",
    "    db = np.nonzero(b_cum_spectrum >= spectrumP)[0][0] + 1\n",
    "\n",
    "    Ua = UA[:, :da]\n",
    "    Sa = SA[:da]\n",
    "    Va = VA[:, :da]\n",
    "\n",
    "    Ub = UB[:, :db]\n",
    "    Sb = SB[:db]\n",
    "    Vb = VB[:, :db]\n",
    "\n",
    "    Yv = (Y.T).flatten()\n",
    "\n",
    "    Vb = Vb.copy(order='C')\n",
    "    Ua = Ua.copy(order='C')\n",
    "    L = krnP.kron(Vb, Ua)\n",
    "\n",
    "    d = np.eye(Y.shape[0], Y.shape[1])\n",
    "    cidex = np.where(d.flatten() != 0)\n",
    "    diag = np.array(cidex, dtype=np.int32).flatten()\n",
    "\n",
    "    # make it c-like contiguous array\n",
    "    Yv = Yv.copy(order='C')\n",
    "    diag = diag.copy(order='C')\n",
    "\n",
    "    L, Yv = krnP.removeDiagC(L, Yv, diag)\n",
    "\n",
    "    opts = dict()\n",
    "    opts['rsL2'] = l2\n",
    "\n",
    "    # reshape Yv to 2darry\n",
    "    Yv = Yv.reshape(Yv.shape[0], 1)\n",
    "    beta, b = leastR.LeastR(L, Yv, l1, opts)\n",
    "\n",
    "    del L, Yv\n",
    "    gc.collect()\n",
    "\n",
    "    Sa = np.diag(Sa)\n",
    "    Sb = np.diag(Sb)\n",
    "\n",
    "    m1 = Va\n",
    "    m2 = np.linalg.pinv(Sa)\n",
    "    m3 = beta.reshape(Va.shape[1], Ub.shape[1], order=\"F\")\n",
    "    m4 = np.linalg.pinv(Sb)\n",
    "    m5 = Ub.T\n",
    "    W = m1 @ m2 @ m3 @ m4 @ m5\n",
    "\n",
    "    return W\n",
    "\n",
    "def aff_reg_svd(a, b, c, l2, svdA=None, svdB=None):\n",
    "\n",
    "    (d1, d2)=a.shape\n",
    "    (d3, d4)=b.shape\n",
    "    \n",
    "\n",
    "    if svdA is None:\n",
    "        [ua,sa,va]=np.linalg.svd(a, full_matrices=False)\n",
    "    else:\n",
    "        [ua,sa,va]=svdA\n",
    "    if svdB is None:\n",
    "        [ub,sb,vb]=np.linalg.svd(b, full_matrices=False)\n",
    "    else:\n",
    "        [ub,sb,vb]=svdB\n",
    "\n",
    "    scale=np.multiply(sa.reshape((len(sa), 1)), sb.reshape((1,len(sb)))) **2\n",
    "    scale=np.divide(1, scale+(d1*d4*l2))\n",
    "\n",
    "    return va.T.dot(np.multiply(scale, va.dot(a.T.dot(c).dot(b.T)).dot(ub))).dot(ub.T)\n",
    "\n",
    "\n",
    "def load_dorthea():\n",
    "    return pd.read_csv(\"../data/GenevsTF_SPaRTAN_sample.csv\", index_col=0)"
   ]
  },
  {
   "cell_type": "raw",
   "metadata": {},
   "source": [
    "tf_ct=pd.DataFrame()\n",
    "\n",
    "adata.obsm[\"tf_activity\"]=pd.DataFrame(\n",
    "    None,\n",
    "    index=adata.obs_names,\n",
    "    columns=adata.varm[\"tf_gene\"].columns)\n",
    "\n",
    "adata.obsm[\"tf_activity_p_val\"]=pd.DataFrame(\n",
    "    None,\n",
    "    index=adata.obs_names,\n",
    "    columns=adata.varm[\"tf_gene\"].columns)\n",
    "\n",
    "for ct in np.unique(adata.obs[\"cell_types\"]):\n",
    "    tf, tf_p_val =models[ct].get_TF_activites(\n",
    "        adata[(adata.obs[\"cell_types\"] == ct)],\n",
    "        n_trials=100)\n",
    "\n",
    "    adata.obsm[\"tf_activity\"].loc[tf.index]=tf\n",
    "    adata.obsm[\"tf_activity_p_val\"].loc[tf_p_val.index]=tf_p_val\n",
    "\n",
    "    tf_ct[ct]=(tf_p_val<0.15).mean()"
   ]
  },
  {
   "cell_type": "raw",
   "metadata": {},
   "source": [
    "\n",
    "scanpy.pl.DotPlot(adata, \n",
    "                  var_names, \n",
    "                  groupby, \n",
    "                  use_raw=None, \n",
    "                  log=False, \n",
    "                  num_categories=7, \n",
    "                  categories_order=None, \n",
    "                  title=None, \n",
    "                  figsize=None, \n",
    "                  gene_symbols=None, \n",
    "                  var_group_positions=None, \n",
    "                  var_group_labels=None, \n",
    "                  var_group_rotation=None, \n",
    "                  layer=None, \n",
    "                  expression_cutoff=0.0, \n",
    "                  mean_only_expressed=False, \n",
    "                  standard_scale=None, \n",
    "                  dot_color_df=None, \n",
    "                  dot_size_df=None, \n",
    "                  ax=None, \n",
    "                  vmin=None, \n",
    "                  vmax=None, \n",
    "                  vcenter=None, \n",
    "                  norm=None, **kwds)"
   ]
  },
  {
   "cell_type": "markdown",
   "metadata": {},
   "source": [
    "## 3.1 Importing and pre-processing CITE-seq data\n",
    "\n",
    "Import all the packages used in the pipeline."
   ]
  },
  {
   "cell_type": "code",
   "execution_count": null,
   "metadata": {},
   "outputs": [],
   "source": [
    "import scanpy as sc\n",
    "import seaborn as sns\n",
    "import matplotlib as mpl\n",
    "import pandas as pd\n",
    "from matplotlib import pyplot as plt\n",
    "from scipy.sparse import find\n",
    "import numpy as np"
   ]
  },
  {
   "cell_type": "markdown",
   "metadata": {},
   "source": [
    "Load CITE-seq data into memory using one of Scanpy’s i/o functions. In this case, the counts for mRNA and protein ADTs are stored in the same .h5 file, and so we use the `sc.read_10x_h5` function. Refer to the Scanpy documentation for other formats, such as h5ad, loom, csv, or excel files, for example.\n",
    "\n",
    "A breif note on Scanpy and AnnDat...\n",
    "\n",
    "After the data is loaded into an AnnData object, use the `var_names_make_unique` function appends a number to the end of gene names that are not unique.\n"
   ]
  },
  {
   "cell_type": "code",
   "execution_count": 3,
   "metadata": {
    "pycharm": {
     "name": "#%%\n"
    }
   },
   "outputs": [
    {
     "name": "stdout",
     "output_type": "stream",
     "text": [
      "--2022-07-03 17:54:11--  https://cf.10xgenomics.com/samples/cell-exp/3.1.0/5k_pbmc_protein_v3_nextgem/5k_pbmc_protein_v3_nextgem_filtered_feature_bc_matrix.h5\n",
      "Resolving cf.10xgenomics.com (cf.10xgenomics.com)... 104.18.0.173, 104.18.1.173, 2606:4700::6812:ad, ...\n",
      "Connecting to cf.10xgenomics.com (cf.10xgenomics.com)|104.18.0.173|:443... connected.\n",
      "HTTP request sent, awaiting response... 200 OK\n",
      "Length: 18083112 (17M) [binary/octet-stream]\n",
      "Saving to: ‘../data/cite-seq/5k_pbmc_protein_v3_nextgem_filtered_feature_bc_matrix.h5’\n",
      "\n",
      "../data/cite-seq/5k 100%[===================>]  17.25M  --.-KB/s    in 0.1s    \n",
      "\n",
      "2022-07-03 17:54:11 (124 MB/s) - ‘../data/cite-seq/5k_pbmc_protein_v3_nextgem_filtered_feature_bc_matrix.h5’ saved [18083112/18083112]\n",
      "\n"
     ]
    },
    {
     "name": "stderr",
     "output_type": "stream",
     "text": [
      "Variable names are not unique. To make them unique, call `.var_names_make_unique`.\n"
     ]
    }
   ],
   "source": [
    "#!wget https://cf.10xgenomics.com/samples/cell-exp/3.1.0/5k_pbmc_protein_v3_nextgem/5k_pbmc_protein_v3_nextgem_filtered_feature_bc_matrix.h5 -O ../data/cite-seq/5k_pbmc_protein_v3_nextgem_filtered_feature_bc_matrix.h5\n",
    "path=\"../data/cite-seq/5k_pbmc_protein_v3_nextgem_filtered_feature_bc_matrix.h5\"\n",
    "adata=sc.read_10x_h5(path, gex_only=False)\n",
    "\n",
    "adata.var_names_make_unique()"
   ]
  },
  {
   "cell_type": "markdown",
   "metadata": {
    "pycharm": {
     "name": "#%% md\n"
    }
   },
   "source": [
    "Separate the gene expression counts from the ADT counts. Variables are annotated as either “Antibody Capture” or “Gene Expression” in the `adata.var[\"feature_types\"]` field. We move the proteomics data (“Antibody Capture”) to a separate data frame."
   ]
  },
  {
   "cell_type": "code",
   "execution_count": 4,
   "metadata": {
    "pycharm": {
     "name": "#%%\n"
    }
   },
   "outputs": [],
   "source": [
    "protein=adata[:,adata.var[\"feature_types\"] == \"Antibody Capture\"].copy()\n",
    "protein=protein[:, [ x  for x in protein.var_names if \"control\" not in x]]\n",
    "adata.obsm[\"protein_raw_counts\"]=protein.to_df()\n",
    "\n",
    "adata = adata[:, adata.var[\"feature_types\"] == \"Gene Expression\"]\n",
    "adata.layers[\"counts\"] = adata.X.copy()\n"
   ]
  },
  {
   "cell_type": "markdown",
   "metadata": {
    "pycharm": {
     "name": "#%% md\n"
    }
   },
   "source": [
    "Some cells have a sequencing depth that is too low to use for our analysis.  We recommend filtering out cells where less than 5000 unique genes are sequenced, and cells where more than 30% of genes are originate from the mitochondria.  \n",
    "\n",
    "The function `sc.pp.filter_genes` is used to remove genes that are not present in any cells, `sc.pp.calculate_qc_metrics` computes the metrics used to filter cells and stores the results in `adata.obs` and `adata.var`.  "
   ]
  },
  {
   "cell_type": "code",
   "execution_count": 5,
   "metadata": {
    "pycharm": {
     "name": "#%%\n"
    }
   },
   "outputs": [],
   "source": [
    "sc.pp.filter_genes(adata, min_counts=1)\n",
    "\n",
    "adata.var['mt'] = adata.var_names.str.startswith('MT-')\n",
    "sc.pp.calculate_qc_metrics(adata, qc_vars=['mt'], percent_top=None,\n",
    "                           log1p=False, inplace=True)\n",
    "\n",
    "adata=adata[adata.obs.query(\"n_genes_by_counts < 5000 and pct_counts_mt<30\").index]"
   ]
  },
  {
   "cell_type": "markdown",
   "metadata": {},
   "source": [
    "Because our analysis is only concerned with genes transcribed in the nucleus, remove all mitocontrial genes from the dataset."
   ]
  },
  {
   "cell_type": "code",
   "execution_count": 55,
   "metadata": {
    "pycharm": {
     "name": "#%% md\n"
    }
   },
   "outputs": [],
   "source": [
    "adata=adata[:, adata.var['mt']==False]"
   ]
  },
  {
   "cell_type": "markdown",
   "metadata": {},
   "source": [
    "Use the `sc.pp.normalize_total` function to scale the raw count data so that the sum is $10^6$ for each cell.  Then, use `sc.pp.log1p` to log-transform the data so that it is more suitable for a linear model.  The normalized, log transform counts are to be stored in `adata.layers[\"log1p\"]`."
   ]
  },
  {
   "cell_type": "code",
   "execution_count": 58,
   "metadata": {
    "pycharm": {
     "name": "#%%\n"
    }
   },
   "outputs": [
    {
     "name": "stdout",
     "output_type": "stream",
     "text": [
      "WARNING: adata.X seems to be already log-transformed.\n"
     ]
    }
   ],
   "source": [
    "adata.layers[\"normalize_total\"]=sc.pp.normalize_total(adata,\n",
    "                                                      target_sum=1000000,\n",
    "                                                      layer=\"counts\",\n",
    "                                                      inplace=False)['X']\n",
    "sc.pp.log1p(adata)\n",
    "adata.layers[\"log1p\"]=adata.X"
   ]
  },
  {
   "cell_type": "markdown",
   "metadata": {},
   "source": [
    "The protein count data  *center log ratio* (CLR) transform using the `clr` function in pySPaRTAN.  The CLR transform scales the data by the geometric mean of each cell, and then log-tranforms the data."
   ]
  },
  {
   "cell_type": "code",
   "execution_count": 59,
   "metadata": {
    "pycharm": {
     "name": "#%%\n"
    }
   },
   "outputs": [],
   "source": [
    "adata.obsm[\"protein\"]=clr(adata.obsm[\"protein_raw_counts\"])"
   ]
  },
  {
   "cell_type": "markdown",
   "metadata": {},
   "source": [
    "## 1.2 Clustering and assigning cell-types\n",
    "SPaRTAN performs best when used to model data from different cell types separately.  Several methods exist for cell-type assignments from CITE-Seq data.  For the purposes of this demonstration, we use the Leiden algorithm to cluster the data using both gene and protein expression, and then manually map the clusters to cell types based on the mean expression of the marker genes and proteins for each cluster.  The process is ommited here, but shown available on the SPaRTAN Github repository.  \n",
    "\n",
    "We use the marker genes and proteins in Table X to assign cell types to each cluster.\n",
    "\n",
    "\n",
    "| Cell Type          | Marker Genes         | Marker Proteins |\n",
    "|--------------------|----------------------|-----------------|\n",
    "| CD8+               | CD8A,  CD8B,  FCER1G | CD8a, CD4       |\n",
    "| Naive CD4+ T       | IL7R,  CCR7,  CD3E   | CD45RA, CD4     |\n",
    "| Memory CD4+        | IL7R, S100A4, CD3E   | CD45RO, CD4     |\n",
    "| NK                 | GNLY,  NKG7          | CD56            |\n",
    "| DC                 | FCER1A, CST3         |                 |\n",
    "| CD14+ Mono         | CD14, LYZ            | CD14            |\n",
    "| FCGR3A+/CD16+ Mono | FCGR3A, MS4A7        | CD16            |\n",
    "| B                  | MS4A1                | CD20,  CD19     |\n",
    "\n",
    "\n"
   ]
  },
  {
   "cell_type": "markdown",
   "metadata": {},
   "source": [
    "Once the cell type assignment has been completed, and the results are stored in a csv file with two columns, one for the cells barcode, and another for its cell type, we read in the data and store is in `adata.obs[\"cell_types\"]`."
   ]
  },
  {
   "cell_type": "code",
   "execution_count": 71,
   "metadata": {},
   "outputs": [],
   "source": [
    "adata.obs[\"cell_types\"] = pd.read_csv(\"cell_types_PBMC.csv\", index_col=0)\n"
   ]
  },
  {
   "cell_type": "markdown",
   "metadata": {},
   "source": [
    "## 1.3 TF-Gene binding data\n",
    "\n",
    "A dataframe containing interactions between TFs and genes is loaded and stored as a variable as follows.  The dataframe has a column for each TF and a row for each gene, with entries being either zero or one indicating if a TF and gene are recorded as interacting in the DoRethEA database.  We use an abridged version of the database, with TFs and genes being filtered out if they have too few interactions."
   ]
  },
  {
   "cell_type": "code",
   "execution_count": 13,
   "metadata": {
    "pycharm": {
     "name": "#%%\n"
    }
   },
   "outputs": [],
   "source": [
    "tf_gene=load_dorthea()"
   ]
  },
  {
   "cell_type": "markdown",
   "metadata": {
    "pycharm": {
     "name": "#%% md\n"
    }
   },
   "source": [
    "We store the dataframe in our AnnData object after keeping only the genes present in both the TF-gene interaction matrix and the CITE-seq dataset.  The dataframe is stored in the AnnData object as `adata.varm[\"tf_gene\"]`."
   ]
  },
  {
   "cell_type": "code",
   "execution_count": 72,
   "metadata": {
    "pycharm": {
     "name": "#%%\n"
    }
   },
   "outputs": [],
   "source": [
    "common_genes=np.intersect1d(tf_gene.index, \n",
    "                            adata.var_names)\n",
    "\n",
    "tf_gene=tf_gene.loc[common_genes]\n",
    "adata= adata[:, common_genes]\n",
    "\n",
    "adata.varm[\"tf_gene\"]=tf_gene"
   ]
  },
  {
   "cell_type": "markdown",
   "metadata": {},
   "source": [
    "# 2. Fitting SPaRTAN Models for each cell-type\n",
    "\n",
    "To recap, after successfully completing part 1, we have an AnnData object with the following fields.\n",
    "\n",
    "- adata.layers[\"log1p\"]\n",
    "- adata.obsm[\"protein\"]\n",
    "- adata.varm[\"tf_gene\"]\n",
    "- adata.obs[\"cell_type\"]]\n",
    "\n",
    "The prerequisite can be verified by printing the model and seeing each feild present in the output."
   ]
  },
  {
   "cell_type": "code",
   "execution_count": 73,
   "metadata": {
    "pycharm": {
     "name": "#%%\n"
    }
   },
   "outputs": [
    {
     "name": "stdout",
     "output_type": "stream",
     "text": [
      "AnnData object with n_obs × n_vars = 4657 × 8087\n",
      "    obs: 'n_genes_by_counts', 'total_counts', 'total_counts_mt', 'pct_counts_mt', 'cell_types', 'training'\n",
      "    var: 'gene_ids', 'feature_types', 'genome', 'n_counts', 'mt', 'n_cells_by_counts', 'mean_counts', 'pct_dropout_by_counts', 'total_counts'\n",
      "    uns: 'log1p'\n",
      "    obsm: 'protein_raw_counts', 'protein'\n",
      "    varm: 'tf_gene'\n",
      "    layers: 'counts', 'normalize_total', 'log1p'\n"
     ]
    }
   ],
   "source": [
    "print(adata)"
   ]
  },
  {
   "cell_type": "markdown",
   "metadata": {
    "pycharm": {
     "name": "#%% md\n"
    }
   },
   "source": [
    "In order to evaluate the model's performance, we will train the model using 80% of all cells in the dataset, and reserve the remaining 20% to be used only for testing the models ability to predict gene expression based on surface protein expression."
   ]
  },
  {
   "cell_type": "code",
   "execution_count": 16,
   "metadata": {
    "pycharm": {
     "name": "#%%\n"
    }
   },
   "outputs": [],
   "source": [
    "adata.obs[\"training\"]= np.random.rand(adata.n_obs) < 0.8"
   ]
  },
  {
   "cell_type": "markdown",
   "metadata": {},
   "source": [
    "Because transcriptional regulation inter-cellular signaling are highly dependent on cell-types, we recommend training SPaRTAN separately on separate cell types.  We start by demonstrating with only CD14+ monocytes.  From the entire dataset, we extract two subsets: one for training the CD14+ monocyte model and one for evaluating the model."
   ]
  },
  {
   "cell_type": "code",
   "execution_count": 17,
   "metadata": {
    "pycharm": {
     "name": "#%%\n"
    },
    "scrolled": false
   },
   "outputs": [],
   "source": [
    "adata_cd14=adata[(adata.obs[\"cell_types\"] == \"CD14+ Mono\")]\n",
    "\n",
    "adata_cd14_training=adata[(adata.obs[\"cell_types\"] == \"CD14+ Mono\")\n",
    "                          & (adata.obs[\"training\"] == True)]\n",
    "adata_cd14_testing =adata[(adata.obs[\"cell_types\"] == \"CD14+ Mono\") \n",
    "                          & (adata.obs[\"training\"] == False)]\n"
   ]
  },
  {
   "cell_type": "markdown",
   "metadata": {},
   "source": [
    "The `SPaRTAN` class in pySPaRTAN is used to perform cross validation, fit the model, make predictions, infer TF activities, and estimate the correlation between proteins and TFs.  The class has the following parameters:\n",
    "\n",
    "- \n",
    "\n",
    "- \n",
    "\n",
    "For our demonstration, we choose to use cross validation and grid search to find the optimal values of `lamda` between 1e-5 and 10, and `alpha` between 0 and 1.  The model is initialized as follows:"
   ]
  },
  {
   "cell_type": "code",
   "execution_count": 18,
   "metadata": {
    "pycharm": {
     "name": "#%%\n"
    },
    "scrolled": true
   },
   "outputs": [],
   "source": [
    "model_cd14= SPaRTAN(lamda=1,\n",
    "                    alpha=0)"
   ]
  },
  {
   "cell_type": "markdown",
   "metadata": {
    "pycharm": {
     "name": "#%% md\n"
    }
   },
   "source": [
    "The simplest way to fit the model is by calling the .fit() function and providing the AnnData object containing the training data."
   ]
  },
  {
   "cell_type": "code",
   "execution_count": null,
   "metadata": {},
   "outputs": [],
   "source": [
    "model_cd14=model_cd14.fit(adata_cd14_training)"
   ]
  },
  {
   "cell_type": "markdown",
   "metadata": {
    "pycharm": {
     "name": "#%% md\n"
    }
   },
   "source": [
    "Alternatively, we can fit the model without using an AnnData structure by directly providing the three matrices needed: the gene expression (Y), the protein expression (P), and the tf-gene matrix (D)."
   ]
  },
  {
   "cell_type": "code",
   "execution_count": 19,
   "metadata": {
    "pycharm": {
     "name": "#%%\n"
    }
   },
   "outputs": [
    {
     "name": "stdout",
     "output_type": "stream",
     "text": [
      "(908, 255)\n",
      "(29, 908)\n",
      "(908, 908)\n"
     ]
    }
   ],
   "source": [
    "gene_expression=adata_cd14_training.layers[\"log1p\"]\n",
    "protein=adata_cd14_training.obsm[\"protein\"]\n",
    "tf_gene_matrix=adata_cd14_training.varm[\"tf_gene\"]\n",
    "\n",
    "model_cd14=model_cd14.fit(Y=gene_expression, \n",
    "                          P=protein, \n",
    "                          D=tf_gene_matrix)"
   ]
  },
  {
   "cell_type": "markdown",
   "metadata": {
    "pycharm": {
     "name": "#%% md\n"
    }
   },
   "source": [
    "We can evaluate the performance  using the `score` function, which predicts gene expression for each cell in the training set using the protein data and compares to the true gene expression."
   ]
  },
  {
   "cell_type": "code",
   "execution_count": null,
   "metadata": {
    "pycharm": {
     "name": "#%%\n"
    }
   },
   "outputs": [],
   "source": [
    "protein_test=adata_cd14_testing.obsm[\"protein\"]\n",
    "\n",
    "gene_expression_test=np.asarray(\n",
    "    adata_cd14_testing.layers[\"log1p\"].todense())\n",
    "\n",
    "model_cd14.score(protein_test,gene_expression_test)"
   ]
  },
  {
   "cell_type": "markdown",
   "metadata": {},
   "source": [
    "The process is repeated for each cell type in a for loop, storing the models in a dictionary."
   ]
  },
  {
   "cell_type": "code",
   "execution_count": null,
   "metadata": {
    "pycharm": {
     "name": "#%%\n"
    }
   },
   "outputs": [],
   "source": [
    "models=dict()\n",
    "\n",
    "for ct in np.unique(adata.obs[\"cell_types\"]):\n",
    "    adata_training=adata[(adata.obs[\"cell_types\"] == ct) \n",
    "                         & (adata.obs[\"training\"] == True)]\n",
    "    adata_testing =adata[(adata.obs[\"cell_types\"] == ct) \n",
    "                         & (adata.obs[\"training\"] == False)]\n",
    "\n",
    "    models[ct]= SPaRTAN()\n",
    "    models[ct].train(adata_training)\n",
    "\n",
    "    print(\"Mean prediction correlation for \"+ct+\" cells: \\t\"+\n",
    "          str(models[ct].score(adata_testing)))"
   ]
  },
  {
   "cell_type": "markdown",
   "metadata": {},
   "source": [
    "The model for a particular cell type, say CD4+ Memory T cells for example, is stored as `model[\"CD4+ Memory T\"]`"
   ]
  },
  {
   "cell_type": "markdown",
   "metadata": {
    "pycharm": {
     "name": "#%% md\n"
    }
   },
   "source": [
    "# 3. Infer TF Activites\n",
    "\n",
    "From the fitted model, TF activity is inferred from protein expression by calculating $WP^T$. TF activity for every CD14+ monocyte cell is calculated by the `get_TF_activites` function, using only the protein expression as input."
   ]
  },
  {
   "cell_type": "code",
   "execution_count": null,
   "metadata": {},
   "outputs": [],
   "source": [
    "tf = model_cd14.get_TF_activites(adata_cd14.obsm[\"protein\"])"
   ]
  },
  {
   "cell_type": "markdown",
   "metadata": {},
   "source": [
    "The significance of the inferred TF activity is assessed using a permutation test.  We generate the distribution for an empirical null hypothesis by shuffling the genes for each cell (randomly permuting the rows of $Y$) a specified number of times (typically, 1000), re-fitting the model, and calculating TF activity.  For each TF in each gene, we compare the inferred TF activity to the empirical null distribution of 1000 inferred TF activities and calculate a p-value as the proportion of values in the null distribution that are higher in absolute value than the true inferred TF activity. The p-value has a minimum value inversely proportional to the number of trials (1/1000, typically). \n",
    "\n",
    "For each cell, P-values are corrected using Bonferroni procedure for multiple hypothesis testing, which is implemented as part of the statsmodel package (`statsmodels.stats.multitest.multipletests`).  We use an adjusted p-value of 0.15 for this example.\n",
    "\n",
    "The permutation test is done using the `get_TF_activites` function, this time specifying the number of permutations to use for the null distribution.\n"
   ]
  },
  {
   "cell_type": "code",
   "execution_count": 14,
   "metadata": {
    "pycharm": {
     "name": "#%%\n"
    }
   },
   "outputs": [
    {
     "ename": "NameError",
     "evalue": "name 'model' is not defined",
     "output_type": "error",
     "traceback": [
      "\u001b[0;31m---------------------------------------------------------------------------\u001b[0m",
      "\u001b[0;31mNameError\u001b[0m                                 Traceback (most recent call last)",
      "\u001b[0;32m<ipython-input-14-497ff0cab46a>\u001b[0m in \u001b[0;36m<module>\u001b[0;34m\u001b[0m\n\u001b[0;32m----> 1\u001b[0;31m tf, tf_p_val = model[\"CD14+ Mono\"].get_TF_activites(adata[(adata.obs[\"cell_types\"] == \"CD14+ Mono\")],\n\u001b[0m\u001b[1;32m      2\u001b[0m                                                     n_trials=100)\n",
      "\u001b[0;31mNameError\u001b[0m: name 'model' is not defined"
     ]
    }
   ],
   "source": [
    "tf, tf_p_val = model_cd14.get_TF_activites(\n",
    "    adata_cd14.obsm[\"protein\"],\n",
    "    n_trials=1000)"
   ]
  },
  {
   "cell_type": "markdown",
   "metadata": {},
   "source": [
    "To identify TFs that are important in CD14+ monocytes, we look for TFs that have a p value of less than 0.15 in a high proportion of cells."
   ]
  },
  {
   "cell_type": "code",
   "execution_count": null,
   "metadata": {},
   "outputs": [],
   "source": [
    "prop_sig=(tf_p_val<0.15).mean()\n",
    "prop_sig.sort_values(ascending=False).head(10)"
   ]
  },
  {
   "cell_type": "markdown",
   "metadata": {},
   "source": [
    "The inferred TF activity and corresponding p-values are stored in the AnnData object."
   ]
  },
  {
   "cell_type": "code",
   "execution_count": null,
   "metadata": {},
   "outputs": [],
   "source": [
    "adata_cd14.obsm[\"tf_activity\"]=tf\n",
    "adata_cd14.obsm[\"tf_p_val\"]=tf_p_val"
   ]
  },
  {
   "cell_type": "markdown",
   "metadata": {},
   "source": [
    "Repeat the process for each cell type, and create a data frame with the proportion of cells where each TF is significant, for each cell type.  (FIX THIS SENTENCE)"
   ]
  },
  {
   "cell_type": "code",
   "execution_count": null,
   "metadata": {
    "pycharm": {
     "name": "#%%\n"
    }
   },
   "outputs": [],
   "source": [
    "tf_ct=dict()\n",
    "tf=dict()\n",
    "tf_p_val=dict()\n",
    "\n",
    "for ct in np.unique(adata.obs[\"cell_types\"]):\n",
    "    tf[ct], tf_p_val[ct] =models[ct].get_TF_activites(\n",
    "        adata[(adata.obs[\"cell_types\"] == ct)],\n",
    "        n_trials=100)\n",
    "\n",
    "    tf_ct[ct]=(tf_p_val<0.15).mean()\n",
    "\n",
    "adata.obsm[\"tf\"]=pd.concat(tf, axis=1)\n",
    "adata.obsm[\"tf_p_val\"]=tf_p_val=pd.concat(tf_p_val, axis=1)\n",
    "tf_ct=pd.concat(tf_ct)"
   ]
  },
  {
   "cell_type": "markdown",
   "metadata": {},
   "source": [
    "Create a dotplot of the importance of TFs across cell-types using seaborn.  We plot only the subset of TFs that are important to the transcriptional program of at least one cell-type."
   ]
  },
  {
   "cell_type": "code",
   "execution_count": null,
   "metadata": {
    "pycharm": {
     "name": "#%%\n"
    }
   },
   "outputs": [],
   "source": [
    "tfs_to_plot=tf_ct.min().sort_values().tail(60).index\n",
    "\n",
    "scanpy.pl.DotPlot(adata, \n",
    "                  tfs_to_plot, \n",
    "                  \"cell-types\", \n",
    "                  figsize=None, \n",
    "                  dot_color_df=adata.obsm[\"tf\"], \n",
    "                  dot_size_df=adata.obsm[\"tf_p_val\"])"
   ]
  },
  {
   "cell_type": "markdown",
   "metadata": {
    "pycharm": {
     "name": "#%% md\n"
    }
   },
   "source": [
    "# 4. Identifying TF-protein relationships\n",
    "\n",
    "The matrix $W$ in the model can be interpreted as interactions(??) between TFs and proteins.  However, due to different proteins being expressed on different scales, we instead look at the correlations between protein expressions ($P$) and the inferred TF activity ($WP$).  The `get_tf_protein_cor` is used to compute the correlation matrix using all cells in the training data.  The function returns a data frame with TFs as columns and proteins as rows."
   ]
  },
  {
   "cell_type": "code",
   "execution_count": null,
   "metadata": {
    "pycharm": {
     "name": "#%%\n"
    }
   },
   "outputs": [],
   "source": [
    "protein_tf=model_cd14.get_tf_protein_cor()\n",
    "print(protein_tf)"
   ]
  },
  {
   "cell_type": "markdown",
   "metadata": {
    "pycharm": {
     "name": "#%% md\n"
    }
   },
   "source": [
    "Repeat the process for each cell type of interest, and store the results in a dictionary."
   ]
  },
  {
   "cell_type": "code",
   "execution_count": null,
   "metadata": {
    "pycharm": {
     "name": "#%%\n"
    }
   },
   "outputs": [],
   "source": [
    "protein_tf=dict()\n",
    "for ct in np.unique(adata.obs[\"cell_types\"]):\n",
    "    protein_tf[ct]=models[ct].get_tf_protein_cor()"
   ]
  },
  {
   "cell_type": "markdown",
   "metadata": {
    "pycharm": {
     "name": "#%%\n"
    }
   },
   "source": [
    "plot the results for the relevant TFs for each cell type ..."
   ]
  }
 ],
 "metadata": {
  "kernelspec": {
   "display_name": "Python 3",
   "language": "python",
   "name": "python3"
  },
  "language_info": {
   "codemirror_mode": {
    "name": "ipython",
    "version": 3
   },
   "file_extension": ".py",
   "mimetype": "text/x-python",
   "name": "python",
   "nbconvert_exporter": "python",
   "pygments_lexer": "ipython3",
   "version": "3.8.5"
  }
 },
 "nbformat": 4,
 "nbformat_minor": 1
}
