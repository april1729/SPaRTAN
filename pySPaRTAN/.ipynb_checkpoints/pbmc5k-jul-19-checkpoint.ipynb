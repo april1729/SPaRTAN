{
 "cells": [
  {
   "cell_type": "code",
   "execution_count": 1,
   "metadata": {
    "pycharm": {
     "name": "#%%\n"
    }
   },
   "outputs": [],
   "source": [
    "\n",
    "#!/usr/bin/env python3\n",
    "# -*- coding: utf-8 -*-\n",
    "# =============================================================================\n",
    "# Created By  : Xiaojun Ma\n",
    "# Created Date: Mar 18 10:54:00 PDT 2020\n",
    "# =============================================================================\n",
    "\"\"\"\n",
    "This script contains the major class of SPaRTAN model and its dependencies.\n",
    "\n",
    "This script requires numpy, Scipy, matplotlib to be installed within the Python\n",
    "environment you are running this script in\n",
    "\n",
    "This script requires Cython modules present in the current directory\n",
    "\n",
    "This file contains the following classes and functions\n",
    "\n",
    "    class Timer: a class to convert time period in seconds to the format of h:m:s\n",
    "\n",
    "    class pySPaRTAN: The major class for SPaRTAN, establishing an interaction matrix between\n",
    "    surface proteins (P) and TFs (D) that predict target gene expression (Y).\n",
    "\n",
    "    function normalize_column(): perform l2 normalization column-wize of given matrix\n",
    "\n",
    "\"\"\"\n",
    "import numpy as np\n",
    "import cythKronPlus as krnP\n",
    "import cythLeastR as leastR\n",
    "import scipy.linalg\n",
    "import gc\n",
    "from copy import deepcopy\n",
    "import statsmodels.stats.multitest\n",
    "# import matplotlib.pyplot as plt\n",
    "from scipy import stats\n",
    "import warnings\n",
    "\n",
    "class SPaRTAN:\n",
    "    \"\"\"\n",
    "    The major class for SPaRTAN, establishing an interaction matrix between\n",
    "    surface proteins (P) and TFs (D) that predicts target gene expression (Y).\n",
    "\n",
    "    Methods\n",
    "    -------\n",
    "    fit(self, D, P, Y, lamda=0.001, rsL2=0.001,\n",
    "        spectrumP=0.7):\n",
    "        train a SPaRTAN model\n",
    "\n",
    "    ar_model2w(self):\n",
    "        converts a trained model to intermidiat vaiable W\n",
    "\n",
    "    ar_reconstruction(self, pred_test=None):\n",
    "        reconstruction function\n",
    "\n",
    "    predict(self, P_test=None):\n",
    "        predict target gene expression\n",
    "\n",
    "    get_corr(self, Y_pred, Y_test, plot=False):\n",
    "        get the correlation between predicted Y_pred and Y_test\n",
    "\n",
    "    get_W(self):\n",
    "        get coefficient matrix\n",
    "\n",
    "    get_projP(self, Y=None):\n",
    "        get projected protein expression\n",
    "\n",
    "    get_projD(self, P=None):\n",
    "        get projected TF activity\n",
    "    \"\"\"\n",
    "    def __init__(self, lamda=0.01, alpha=0.5, corrtype='pearson',grid_search_steps=5, verbose=False, solver=\"SVD\"):\n",
    "        '''\n",
    "\n",
    "        Parameters\n",
    "        ----------\n",
    "        lamda\n",
    "        alpha\n",
    "        corrtype\n",
    "        grid_search_steps\n",
    "        verbose\n",
    "        solver\n",
    "        '''\n",
    "\n",
    "        self.solver=solver\n",
    "        self.lamda=lamda\n",
    "        self.alpha=alpha\n",
    "        self.corrtype=corrtype\n",
    "        if corrtype=='spearman':\n",
    "            self.corr=scipy.stats.spearmanr\n",
    "        elif corrtype=='pearson':\n",
    "            self.corr=scipy.stats.pearsonr\n",
    "        else:\n",
    "            warnings.warn(\"Unrecognized corrtype, using Spearman correlation\")\n",
    "            self.corr=scipy.stats.spearmanr\n",
    "            \n",
    "        self.grid_search_steps=grid_search_steps\n",
    "        self.verbose=verbose\n",
    "\n",
    "        self.obs_names=None\n",
    "        self.gene_names=None\n",
    "        self.tf_names=None\n",
    "        self.protein_names=None\n",
    "\n",
    "    def fit(self, adata=None, D=\"tf_gene\", P=\"protein\", Y=\"log1p\"):\n",
    "        '''\n",
    "\n",
    "        IMPORTANT: the protein and gene expression matrices must be normalized prior to calling this function.  See ... for recomendations\n",
    "\n",
    "        Parameters\n",
    "        ----------\n",
    "        adata : AnnData, if specified, the object contains the TF-gene interaction matrix, gene expression, and protein expression\n",
    "        D : str or array-like, either the TF-gene interaction matrix or the key in adata.varm containing the TF-gene interaction matrix.\n",
    "        P : str or array-like, either the protein expression  matrix or the key in adata.obsm containing the protein expression interaction matrix.\n",
    "        Y : str or array-like, either the gene expression  matrix or the key in adata.obsm containing the gene expression interaction matrix.\n",
    "        Returns\n",
    "        -------\n",
    "\n",
    "        '''\n",
    "\n",
    "        if adata is not None:\n",
    "            D=adata.varm[D]\n",
    "            P=adata.obsm[P]\n",
    "            Y=adata.layers[Y]\n",
    "            self.obs_names=adata.obs_names\n",
    "            self.gene_names=adata.var_names\n",
    "\n",
    "        if type(D)==pd.DataFrame:\n",
    "            self.tf_names=D.columns\n",
    "        if type(P)==pd.DataFrame:\n",
    "            self.protein_names=protein.columns\n",
    "        if type(Y)==pd.DataFrame:\n",
    "            self.obs_names=Y.index\n",
    "            self.gene_names=Y.columns\n",
    "\n",
    "        if scipy.sparse.issparse(Y):\n",
    "            Y=Y.todense()\n",
    "        if scipy.sparse.issparse(D):\n",
    "            D=D.todense()\n",
    "        if scipy.sparse.issparse(P):\n",
    "            P=P.todense()\n",
    "\n",
    "\n",
    "        D=np.asarray(D)\n",
    "        P=np.asarray(P)\n",
    "        Y=np.asarray(Y)\n",
    "\n",
    "        if type(self.lamda) is list or type(self.alpha) is list:\n",
    "            self.lamda, self.alpha=self._cv_grid_search(D, P, Y)\n",
    "\n",
    "        self.YTD=Y.dot(D)\n",
    "        self.P=P\n",
    "        self.YTY=Y.dot(Y.T)\n",
    "        self.Y=Y.T\n",
    "        self.D=D\n",
    "\n",
    "        self.svdYTD=np.linalg.svd(self.YTD)\n",
    "        self.svdP=np.linalg.svd(self.P)\n",
    "\n",
    "        self._fit(self.lamda,self.alpha)\n",
    "\n",
    "        return self\n",
    "\n",
    "    def _cv_grid_search(self, D, P, Y):\n",
    "\n",
    "        n_steps=5\n",
    "\n",
    "        alpha_list=np.linspace(self.alpha[0], self.alpha[1], num=n_steps)\n",
    "        lamda_list=np.geomspace(self.lamda[0], self.lamda[1], num=n_steps)\n",
    "\n",
    "        best_lamda=[None]*5\n",
    "        best_alpha=[None]*5\n",
    "        folds=np.round(np.random.rand(P.shape[0])*5)\n",
    "\n",
    "        for fold in range(5):\n",
    "            P_train=P[folds==fold,:]\n",
    "            P_test=P[~(folds==fold),:]\n",
    "            Y_train=Y[folds==fold,:]\n",
    "            Y_test=Y[~(folds==fold),:]\n",
    "            \n",
    "            self.YTD=Y_train.dot(D)\n",
    "            self.P=P_train\n",
    "            self.YTY=Y_train.dot(Y.T)\n",
    "            self.Y=Y_train.T\n",
    "            self.D=D\n",
    "\n",
    "            self.svdYTD=np.linalg.svd(self.YTD)\n",
    "            self.svdP=np.linalg.svd(self.P)\n",
    "\n",
    "            best_score=0\n",
    "            for l in lamda_list:\n",
    "                for a in alpha_list:\n",
    "                    self._fit(l,a)\n",
    "                    s=self.score(P_test, Y_test)\n",
    "                    if s>best_score:\n",
    "                        best_lamda[fold]=l\n",
    "                        best_alpha[fold]=a\n",
    "\n",
    "        alpha=np.mean(best_alpha)\n",
    "        lamda=np.mean(best_lamda)\n",
    "\n",
    "        return (lamda, alpha)\n",
    "\n",
    "    def _fit(self,l,a):\n",
    "        if self.solver==\"SVD\":\n",
    "            self.W=aff_reg_svd(self.YTD, self.P.T, self.YTY,l)\n",
    "\n",
    "        elif self.solver==\"Kron\":\n",
    "            # svdA=self.svdYTD, svdB=self.svdP\n",
    "            self.W=aff_reg_kron(np.double(self.D), np.double(self.P), np.double(self.Y),l*a,l*(1-a))\n",
    "\n",
    "    def ar_reconstruction(self, pred_test=None):\n",
    "        \"\"\" reconstruction function\n",
    "        Parameters\n",
    "        ----------\n",
    "        pred_test: prediction on test data\n",
    "\n",
    "        \"\"\"\n",
    "        A = self.Y.T @ pred_test\n",
    "        B = scipy.linalg.orth(self.Y)\n",
    "        cm = scipy.linalg.lstsq(B, self.Y)[0]\n",
    "        ct = scipy.linalg.lstsq(cm.T, A)[0]\n",
    "        pred = B @ ct\n",
    "        return pred\n",
    "\n",
    "    def predict(self, P_test=None):\n",
    "        \"\"\" predict target gene expression\n",
    "\n",
    "        Parameters\n",
    "        ----------\n",
    "        P_test: Protein expression on test data\n",
    "\n",
    "        Returns\n",
    "        -------\n",
    "        Y_pred: array of shape (N, Mtest)\n",
    "                The predicted Y matrix on test data set which has N genes and Mtest cells\n",
    "        \"\"\"\n",
    "\n",
    "        pred = self.D @ (self.W @ P_test.T)\n",
    "\n",
    "        aff_rec = self.ar_reconstruction(pred)\n",
    "\n",
    "        self.Y_pred = aff_rec\n",
    "        return self.Y_pred.T\n",
    "\n",
    "    def score(self,P_test, Y_test):\n",
    "        Y_pred=self.predict(P_test)\n",
    "        return self.corr(Y_pred.flatten(), Y_test.flatten())[0]\n",
    "\n",
    "    def get_W(self):\n",
    "        # get coefficient matrix\n",
    "        return self.W\n",
    "\n",
    "    def get_projP(self, Y=None):\n",
    "        \"\"\" get projected protein expression\n",
    "\n",
    "        Parameters\n",
    "        ----------\n",
    "        Y:  array of shape (optional, default is (N, M))\n",
    "            input gene expression with N genes and M cells\n",
    "\n",
    "        Returns\n",
    "        -------\n",
    "        projP: array of shape (M, S)\n",
    "               projected protein expression with M cells and S proteins\n",
    "\n",
    "        \"\"\"\n",
    "        if Y is None:\n",
    "            Y = self.Y\n",
    "        W = self.W\n",
    "        return (Y.T @ self.D @ W).T\n",
    "\n",
    "    def get_projD(self, P=None, n_trials=0):\n",
    "        \"\"\" get projected TF activity\n",
    "        Parameters\n",
    "        ----------\n",
    "        P: array of shape (optional, default is (M, S) )\n",
    "           input protein expression with M cells and S proteins\n",
    "\n",
    "        Returns\n",
    "        -------\n",
    "        projD:  array of shape (Q, M)\n",
    "            projected TF activities with Q TFs and M cells\n",
    "\n",
    "        \"\"\"\n",
    "\n",
    "        if P is None:\n",
    "            P = self.P\n",
    "        tf_activity=self.W @ P.T\n",
    "        if n_trials==0:\n",
    "            return tf_activity\n",
    "        else:\n",
    "            permuted_model=deepcopy(self)\n",
    "            tf_p_val=np.zeros(tf_activity.shape)\n",
    "            for i in range(n_trials):\n",
    "                permuted_model.Y=permuted_model.Y[:,np.random.permutation(self.Y.shape[1])]\n",
    "                permuted_model.YTD=permuted_model.Y.T.dot(permuted_model.D)\n",
    "                permuted_model.svdYTD=np.linalg.svd(permuted_model.YTD)\n",
    "\n",
    "                permuted_model._fit(self.lamda,self.alpha)\n",
    "                tf_activity_perm=permuted_model.W @ P.T\n",
    "\n",
    "                tf_p_val+=(tf_activity_perm>tf_activity)\n",
    "\n",
    "            tf_p_val=(tf_p_val+1)/(n_trials+1)\n",
    "            tf_p_val=pd.DataFrame(statsmodels.stats.multitest.multipletests(\n",
    "                np.asarray(tf_p_val).flatten(), \n",
    "                alpha=0.15, \n",
    "                method='holm'\n",
    "            )[1].reshape(tf_activity.shape),index=tf_activity.index,columns=tf_activity.columns)\n",
    "                                  \n",
    "\n",
    "            return tf_activity, tf_p_val\n",
    "#     def get_tf_activity(self, adata=None, P=None):\n",
    "#         pass\n",
    "\n",
    "    def get_tf_protein_cor(self,P=None):\n",
    "        if P is None:\n",
    "            P=self.P\n",
    "        tf_activity=self.get_projD(P)\n",
    "\n",
    "        X=scipy.stats.spearmanr(\n",
    "                tf_activity,\n",
    "                P,\n",
    "                axis=0)\n",
    "\n",
    "        if self.tf_names is not None and self.protein_names is not None:\n",
    "            X=pd.DataFrame(\n",
    "                X,\n",
    "                index=self.tf_names,\n",
    "                columns=self.protein_names)\n",
    "        return X\n",
    "\n",
    "def normalize_column(A, T=0):\n",
    "    \"\"\" perform l2 normalization column-wize of given matrix\n",
    "\n",
    "    Parameters:\n",
    "        A : the matrix that works on\n",
    "        T : switch of column-wize and row-wize.\n",
    "            T=0: column-wize\n",
    "            T=1: row-wize\n",
    "    \"\"\"\n",
    "    \n",
    "    if (T == 0):\n",
    "        return np.divide(A, np.sqrt(np.sum(A**2, 0)))\n",
    "    else:\n",
    "        At = np.transpose(A)\n",
    "        return np.transpose(np.divide(At, np.sqrt(np.sum(At**2, 0))))\n",
    "def clr(X):\n",
    "    if type(X) is pd.DataFrame:\n",
    "        x=X.to_numpy()\n",
    "    else:\n",
    "        x=X.copy()\n",
    "    x_norm=np.log1p(x/np.exp(np.mean(np.log1p(x), axis=1)).reshape((-1,1)))\n",
    "    if type(X) is pd.DataFrame:\n",
    "        x_norm=pd.DataFrame(x_norm, columns=X.columns, index=X.index)\n",
    "    return x_norm\n",
    "\n",
    "\n",
    "\n",
    "def aff_reg_kron(D, P, Y,l1,l2, svdA=None, svdB=None):\n",
    "\n",
    "    \"\"\" trains a SPaRTAN model\n",
    "\n",
    "    Parameters\n",
    "    ----------\n",
    "    D : array of shape (N, Q)\n",
    "        The data matrix with N genes and Q TFs\n",
    "\n",
    "    P : array of shape (M, S)\n",
    "        The data matrix with M cells and S proteins\n",
    "\n",
    "    Y : array of shape (N, M)\n",
    "        The data matrix with N genes and M cells\n",
    "\n",
    "    lamda : float > 0, default=0.001\n",
    "        LASSO regularization for linear regression\n",
    "\n",
    "    rsL2 : float > 0, default=0.001\n",
    "        ridge regularization for linear regression\n",
    "\n",
    "    corrtype: string, default='spearman'\n",
    "        correlation type used to evaluate the performance\n",
    "\n",
    "    \"\"\"\n",
    "\n",
    "    spectrumA = 1\n",
    "    spectrumP = 0.7\n",
    "\n",
    "\n",
    "    # transformation\n",
    "    A = Y.T @ D\n",
    "    B = P.T\n",
    "    Y = Y.T @ Y\n",
    "\n",
    "    # SVD(A) SVD(B)\n",
    "    if svdA is None:\n",
    "        svdA= np.linalg.svd(A)\n",
    "    if svdB is None:\n",
    "        svdB=np.linalg.svd(B)\n",
    "\n",
    "    UA, SA, VhA = svdA\n",
    "    VA = VhA.T\n",
    "    UB, SB, VhB = svdB\n",
    "    VB = VhB.T\n",
    "\n",
    "    a_cum_spectrum = np.cumsum(SA) / sum(SA)\n",
    "    b_cum_spectrum = np.cumsum(SB) / sum(SB)\n",
    "\n",
    "    da = np.nonzero(a_cum_spectrum >= spectrumA)[0][0] + 1\n",
    "    db = np.nonzero(b_cum_spectrum >= spectrumP)[0][0] + 1\n",
    "\n",
    "    Ua = UA[:, :da]\n",
    "    Sa = SA[:da]\n",
    "    Va = VA[:, :da]\n",
    "\n",
    "    Ub = UB[:, :db]\n",
    "    Sb = SB[:db]\n",
    "    Vb = VB[:, :db]\n",
    "\n",
    "    Yv = (Y.T).flatten()\n",
    "\n",
    "    Vb = Vb.copy(order='C')\n",
    "    Ua = Ua.copy(order='C')\n",
    "    L = krnP.kron(Vb, Ua)\n",
    "\n",
    "    d = np.eye(Y.shape[0], Y.shape[1])\n",
    "    cidex = np.where(d.flatten() != 0)\n",
    "    diag = np.array(cidex, dtype=np.int32).flatten()\n",
    "\n",
    "    # make it c-like contiguous array\n",
    "    Yv = Yv.copy(order='C')\n",
    "    diag = diag.copy(order='C')\n",
    "\n",
    "    L, Yv = krnP.removeDiagC(L, Yv, diag)\n",
    "\n",
    "    opts = dict()\n",
    "    opts['rsL2'] = l2\n",
    "\n",
    "    # reshape Yv to 2darry\n",
    "    Yv = Yv.reshape(Yv.shape[0], 1)\n",
    "    beta, b = leastR.LeastR(L, Yv, l1, opts)\n",
    "\n",
    "    del L, Yv\n",
    "    gc.collect()\n",
    "\n",
    "    Sa = np.diag(Sa)\n",
    "    Sb = np.diag(Sb)\n",
    "\n",
    "    m1 = Va\n",
    "    m2 = np.linalg.pinv(Sa)\n",
    "    m3 = beta.reshape(Va.shape[1], Ub.shape[1], order=\"F\")\n",
    "    m4 = np.linalg.pinv(Sb)\n",
    "    m5 = Ub.T\n",
    "    W = m1 @ m2 @ m3 @ m4 @ m5\n",
    "\n",
    "    return W\n",
    "\n",
    "def aff_reg_svd(a, b, c, l2, svdA=None, svdB=None):\n",
    "\n",
    "    (d1, d2)=a.shape\n",
    "    (d3, d4)=b.shape\n",
    "    \n",
    "\n",
    "    if svdA is None:\n",
    "        [ua,sa,va]=np.linalg.svd(a, full_matrices=False)\n",
    "    else:\n",
    "        [ua,sa,va]=svdA\n",
    "    if svdB is None:\n",
    "        [ub,sb,vb]=np.linalg.svd(b, full_matrices=False)\n",
    "    else:\n",
    "        [ub,sb,vb]=svdB\n",
    "\n",
    "    scale=np.multiply(sa.reshape((len(sa), 1)), sb.reshape((1,len(sb)))) **2\n",
    "    scale=np.divide(1, scale+(d1*d4*l2))\n",
    "\n",
    "    return va.T.dot(np.multiply(scale, va.dot(a.T.dot(c).dot(b.T)).dot(ub))).dot(ub.T)\n",
    "\n",
    "\n",
    "def load_dorthea():\n",
    "    return pd.read_csv(\"../data/GenevsTF_SPaRTAN_sample.csv\", index_col=0)"
   ]
  },
  {
   "cell_type": "markdown",
   "metadata": {},
   "source": [
    "The pySPaRTAN package and the pipeline outlined in this chapter are designed around the Scanpy/scVerse ecosystem, which stores data as `AnnData` objects.  An AnnData object contains a data matrix with columns (observations) as cells and rows (variables) as genes or ADTs.  The object has dataframes `.obs` and `.var` containing information on each cell and each gene, respectively.  Additionally, the fields `.obsm` and `.varm` can be used to store additional dataframes with features describing the cells and genes.  For example, we will store the surface protein count matrix in `.obsm`."
   ]
  },
  {
   "cell_type": "markdown",
   "metadata": {},
   "source": [
    "## 3.1 Importing and pre-processing CITE-seq data\n",
    "\n",
    "Import all the packages used in the pipeline."
   ]
  },
  {
   "cell_type": "code",
   "execution_count": 2,
   "metadata": {},
   "outputs": [],
   "source": [
    "import scanpy as sc\n",
    "import seaborn as sns\n",
    "import pandas as pd\n",
    "from matplotlib import pyplot as plt\n",
    "import numpy as np\n",
    "from sklearn.preprocessing import normalize"
   ]
  },
  {
   "cell_type": "markdown",
   "metadata": {},
   "source": [
    "Load CITE-seq data into memory using one of Scanpy’s i/o functions. In this case, the counts for mRNA and protein ADTs are stored in the same .h5 file, and so we use the `sc.read_10x_h5` function. Refer to the Scanpy documentation for other formats, such as h5ad, loom, csv, or excel files, for example.\n",
    "\n",
    "After the data is loaded into an AnnData object, use the `var_names_make_unique` function appends a number to the end of gene names that are not unique.\n"
   ]
  },
  {
   "cell_type": "code",
   "execution_count": 3,
   "metadata": {
    "pycharm": {
     "name": "#%%\n"
    }
   },
   "outputs": [
    {
     "name": "stderr",
     "output_type": "stream",
     "text": [
      "Variable names are not unique. To make them unique, call `.var_names_make_unique`.\n"
     ]
    }
   ],
   "source": [
    "#!wget https://cf.10xgenomics.com/samples/cell-exp/3.1.0/5k_pbmc_protein_v3_nextgem/5k_pbmc_protein_v3_nextgem_filtered_feature_bc_matrix.h5 -O ../data/cite-seq/5k_pbmc_protein_v3_nextgem_filtered_feature_bc_matrix.h5\n",
    "path=\"../data/cite-seq/5k_pbmc_protein_v3_nextgem_filtered_feature_bc_matrix.h5\"\n",
    "adata=sc.read_10x_h5(path, gex_only=False)\n",
    "\n",
    "adata.var_names_make_unique()"
   ]
  },
  {
   "cell_type": "markdown",
   "metadata": {
    "pycharm": {
     "name": "#%% md\n"
    }
   },
   "source": [
    "Separate the gene expression counts from the ADT counts. Variables are annotated as either “Antibody Capture” or “Gene Expression” in the `adata.var[\"feature_types\"]` field. We move the proteomics data (“Antibody Capture”) to a separate data frame."
   ]
  },
  {
   "cell_type": "code",
   "execution_count": 4,
   "metadata": {
    "pycharm": {
     "name": "#%%\n"
    }
   },
   "outputs": [],
   "source": [
    "protein=adata[:,adata.var[\"feature_types\"]==\"Antibody Capture\"].copy()\n",
    "protein=protein[:,[x for x in protein.var_names if \"control\" not in x]]\n",
    "adata.obsm[\"protein_raw_counts\"]=protein.to_df()\n",
    "\n",
    "adata = adata[:, adata.var[\"feature_types\"] == \"Gene Expression\"]\n",
    "adata.layers[\"raw_counts\"] = adata.X.copy()\n"
   ]
  },
  {
   "cell_type": "markdown",
   "metadata": {
    "pycharm": {
     "name": "#%% md\n"
    }
   },
   "source": [
    "Some cells have a sequencing depth that is too low to use for our analysis.  We recommend filtering out cells where less than 5000 unique genes are sequenced, and cells where more than 30% of genes are originate from the mitochondria.  \n",
    "\n",
    "The function `sc.pp.filter_genes` is used to remove genes that are not present in any cells, `sc.pp.calculate_qc_metrics` computes the metrics used to filter cells and stores the results in `adata.obs` and `adata.var`.  "
   ]
  },
  {
   "cell_type": "code",
   "execution_count": 5,
   "metadata": {
    "pycharm": {
     "name": "#%%\n"
    }
   },
   "outputs": [],
   "source": [
    "sc.pp.filter_cells(adata, min_genes=1000)\n",
    "sc.pp.filter_genes(adata, min_counts=0.03*adata.n_obs)\n",
    "adata.var['mt'] = adata.var_names.str.startswith('MT-')\n",
    "\n",
    "sc.pp.calculate_qc_metrics(adata, \n",
    "                           qc_vars=['mt'], \n",
    "                           percent_top=None,\n",
    "                           log1p=False,\n",
    "                           inplace=True)\n",
    "\n",
    "adata=adata[adata.obs.query(\n",
    "    \"n_genes_by_counts < 5000 and pct_counts_mt<30\").index]"
   ]
  },
  {
   "cell_type": "markdown",
   "metadata": {},
   "source": [
    "Because our analysis is only concerned with genes transcribed in the nucleus, remove all mitocontrial genes from the dataset."
   ]
  },
  {
   "cell_type": "code",
   "execution_count": 6,
   "metadata": {
    "pycharm": {
     "name": "#%% md\n"
    }
   },
   "outputs": [],
   "source": [
    "adata=adata[:, adata.var['mt']==False]"
   ]
  },
  {
   "cell_type": "markdown",
   "metadata": {},
   "source": [
    "Use the `sc.pp.normalize_total` function to scale the raw count data so that the sum is $10^6$ for each cell.  Then, use `sc.pp.log1p` to log-transform the data so that it is more suitable for a linear model.  The normalized, log transform counts are to be stored in `adata.layers[\"log1p\"]`."
   ]
  },
  {
   "cell_type": "code",
   "execution_count": 7,
   "metadata": {
    "pycharm": {
     "name": "#%%\n"
    }
   },
   "outputs": [
    {
     "name": "stderr",
     "output_type": "stream",
     "text": [
      "Trying to set attribute `._uns` of view, copying.\n"
     ]
    }
   ],
   "source": [
    "sc.pp.highly_variable_genes(\n",
    "    adata, \n",
    "    n_top_genes=5000,\n",
    "    subset=False,\n",
    "    flavor='seurat_v3')\n",
    "\n",
    "#adata=adata[:,pd.read_csv(\"../data/inputs/Ypbmc5kn_CD16.csv\", index_col=0).index]\n",
    "\n",
    "adata.X=sc.pp.normalize_total(adata,\n",
    "                              target_sum=10000, \n",
    "                              layer=\"raw_counts\", \n",
    "                              inplace=False)['X']\n",
    "\n",
    "sc.pp.log1p(adata)\n",
    "\n",
    "adata.layers[\"log1p\"]=normalize(\n",
    "    adata.X,\n",
    "    axis=1\n",
    ").todense()"
   ]
  },
  {
   "cell_type": "markdown",
   "metadata": {},
   "source": [
    "The protein count data  *center log ratio* (CLR) transform using the `clr` function in pySPaRTAN.  The CLR transform scales the data by the geometric mean of each cell, and then log-tranforms the data."
   ]
  },
  {
   "cell_type": "code",
   "execution_count": 8,
   "metadata": {
    "pycharm": {
     "name": "#%%\n"
    }
   },
   "outputs": [],
   "source": [
    "adata.obsm[\"protein\"]=clr(adata.obsm[\"protein_raw_counts\"].T).T\n",
    "\n",
    "adata.obsm[\"protein\"].loc[:]=normalize(adata.obsm[\"protein\"],\n",
    "                                       axis=1)\n"
   ]
  },
  {
   "cell_type": "markdown",
   "metadata": {},
   "source": [
    "input_dir=\"../data/inputs\"\n",
    "dataset_D=\"Dpbmc\"\n",
    "dataset_P=\"Ppbmc5kn_CD16\"\n",
    "dataset_Y=\"Ypbmc5kn_CD16\"\n",
    "\n",
    "D_ori = pd.read_csv(input_dir+\"/\"+dataset_D+'.csv', index_col=0)\n",
    "P_ori = pd.read_csv(input_dir+\"/\"+dataset_P+'.csv', index_col=0)\n",
    "Y_ori = pd.read_csv(input_dir+\"/\"+dataset_Y+'.csv', index_col=0).T\n",
    "\n",
    "D_mat = D_ori.values\n",
    "P_mat = P_ori.values\n",
    "Y_mat = Y_ori.values\n",
    "\n",
    "D_mat = normalize(D_mat, norm=\"l2\", axis=0)\n",
    "Y_mat = normalize(Y_mat, norm=\"l2\",axis=0)\n",
    "P_mat = normalize(P_mat, norm=\"l2\", axis=1)\n",
    "\n",
    "P_ori.index=P_ori.index+'-1'\n",
    "Y_ori.index=Y_ori.index+'-1'\n",
    "\n",
    "cd16_index=np.intersect1d(P_ori.index, adata.obs_names)\n",
    "genes=np.intersect1d(Y_ori.columns, adata.var_names)\n",
    "\n",
    "y1=adata[cd16_index,genes].to_df()\n",
    "y2=Y_ori.loc[cd16_index,genes]\n",
    "plt.scatter(y1.iloc[1,:], y2.iloc[1,:])\n",
    "plt.figure()\n",
    "plt.scatter(y1.iloc[:,13], y2.iloc[:,13])\n",
    "plt.figure()\n",
    "plt.scatter(adata.obsm[\"protein\"].loc[cd16_index].CD3_TotalSeqB, P_ori.loc[cd16_index].CD3)\n",
    "plt.figure()\n",
    "plt.scatter(adata.obsm[\"protein\"].loc[cd16_index[0]], P_ori.loc[cd16_index[0]])\n",
    "\n",
    "from anndata import AnnData\n",
    "X=Y_ori\n",
    "adata_cd16=AnnData(X=Y_ori)\n",
    "\n",
    "\n",
    "adata_cd16.obsm[\"protein\"]=P_mat\n",
    "adata_cd16.obsm[\"protein_raw_counts\"]=P_ori\n",
    "adata_cd16.varm[\"tf_gene\"]=D_mat\n",
    "adata_cd16.layers[\"normalized\"]=Y_mat\n",
    "\n"
   ]
  },
  {
   "cell_type": "code",
   "execution_count": null,
   "metadata": {},
   "outputs": [],
   "source": []
  },
  {
   "cell_type": "markdown",
   "metadata": {},
   "source": [
    "## 1.2 Clustering and assigning cell-types\n",
    "SPaRTAN performs best when used to model data from different cell types separately.  Several methods exist for cell-type assignments from CITE-Seq data.  For the purposes of this demonstration, we use the Leiden algorithm to cluster the data using both gene and protein expression, and then manually map the clusters to cell types based on the mean expression of the marker genes and proteins for each cluster.  The process is ommited here, but is available on the SPaRTAN Github repository.  \n",
    "\n",
    "We use the marker genes and proteins in Table X to assign cell types to each cluster.\n",
    "\n",
    "\n",
    "| Cell Type          | Marker Genes         | Marker Proteins |\n",
    "|--------------------|----------------------|-----------------|\n",
    "| CD8+               | CD8A,  CD8B,  FCER1G | CD8a, CD4       |\n",
    "| Naive CD4+ T       | IL7R,  CCR7,  CD3E   | CD45RA, CD4     |\n",
    "| Memory CD4+        | IL7R, S100A4, CD3E   | CD45RO, CD4     |\n",
    "| NK                 | GNLY,  NKG7          | CD56            |\n",
    "| DC                 | FCER1A, CST3         |                 |\n",
    "| CD14+ Mono         | CD14, LYZ            | CD14            |\n",
    "| FCGR3A+/CD16+ Mono | FCGR3A, MS4A7        | CD16            |\n",
    "| B                  | MS4A1                | CD20,  CD19     |\n",
    "\n",
    "\n"
   ]
  },
  {
   "cell_type": "markdown",
   "metadata": {},
   "source": [
    "Once the cell type assignment has been completed, and the results are stored in a csv file with two columns, one for the cells barcode, and another for its cell type, we read in the data and store it in the field `adata.obs[\"cell_types\"]`."
   ]
  },
  {
   "cell_type": "code",
   "execution_count": 9,
   "metadata": {},
   "outputs": [],
   "source": [
    "adata.obs[\"cell_types\"] = pd.read_csv(\"cell_types_PBMC.csv\",\n",
    "                                      index_col=0)"
   ]
  },
  {
   "cell_type": "markdown",
   "metadata": {},
   "source": [
    "## 1.3 TF-Gene binding data\n",
    "\n",
    "A dataframe containing interactions between TFs and genes is loaded and stored in the AnnData object as follows.  The dataframe has a column for each TF and a row for each gene, with entries being either zero or one indicating if a TF and gene are recorded as interacting in the DoRethEA database.  We use an abridged version of the database, with TFs and genes being filtered out if they have too few interactions."
   ]
  },
  {
   "cell_type": "code",
   "execution_count": 10,
   "metadata": {
    "pycharm": {
     "name": "#%%\n"
    }
   },
   "outputs": [],
   "source": [
    "tf_gene=load_dorthea()"
   ]
  },
  {
   "cell_type": "markdown",
   "metadata": {
    "pycharm": {
     "name": "#%% md\n"
    }
   },
   "source": [
    "We store the dataframe in our AnnData object after keeping only the genes present in both the TF-gene interaction matrix and the CITE-seq dataset.  The dataframe is stored in the AnnData object as `adata.varm[\"tf_gene\"]`."
   ]
  },
  {
   "cell_type": "code",
   "execution_count": 11,
   "metadata": {
    "pycharm": {
     "name": "#%%\n"
    }
   },
   "outputs": [],
   "source": [
    "common_genes=np.intersect1d(tf_gene.index, \n",
    "                            adata.var_names)\n",
    "tf_gene=tf_gene.loc[common_genes]\n",
    "adata= adata[:, common_genes]\n",
    "tf_gene.loc[:]=normalize(tf_gene)\n",
    "adata.varm[\"tf_gene\"]=tf_gene\n",
    "\n"
   ]
  },
  {
   "cell_type": "markdown",
   "metadata": {},
   "source": [
    "# 2. Fitting SPaRTAN Models for each cell-type\n",
    "\n",
    "To recap, after successfully completing part 1, we have an AnnData object with the following fields.\n",
    "\n",
    "- `adata.layers[\"log1p\"]`\n",
    "- `adata.obsm[\"protein\"]`\n",
    "- `adata.varm[\"tf_gene\"]`\n",
    "- `adata.obs[\"cell_type\"]`\n",
    "\n",
    "The prerequisite can be verified by printing the AnnData object and seeing each field present in the output."
   ]
  },
  {
   "cell_type": "code",
   "execution_count": 12,
   "metadata": {
    "pycharm": {
     "name": "#%%\n"
    }
   },
   "outputs": [
    {
     "name": "stdout",
     "output_type": "stream",
     "text": [
      "AnnData object with n_obs × n_vars = 4218 × 5511\n",
      "    obs: 'n_genes', 'n_genes_by_counts', 'total_counts', 'total_counts_mt', 'pct_counts_mt', 'cell_types'\n",
      "    var: 'gene_ids', 'feature_types', 'genome', 'n_counts', 'mt', 'n_cells_by_counts', 'mean_counts', 'pct_dropout_by_counts', 'total_counts', 'highly_variable', 'highly_variable_rank', 'means', 'variances', 'variances_norm'\n",
      "    uns: 'hvg', 'log1p'\n",
      "    obsm: 'protein_raw_counts', 'protein'\n",
      "    varm: 'tf_gene'\n",
      "    layers: 'raw_counts', 'log1p'\n"
     ]
    }
   ],
   "source": [
    "print(adata)"
   ]
  },
  {
   "cell_type": "markdown",
   "metadata": {
    "pycharm": {
     "name": "#%% md\n"
    }
   },
   "source": [
    "In order to evaluate the model's performance, we will train the model using 80% of all cells in the dataset, and reserve the remaining 20% to be used only for testing the models ability to predict gene expression based on surface protein expression."
   ]
  },
  {
   "cell_type": "code",
   "execution_count": 13,
   "metadata": {
    "pycharm": {
     "name": "#%%\n"
    }
   },
   "outputs": [],
   "source": [
    "adata.obs[\"training\"]= np.random.rand(adata.n_obs) < 0.8"
   ]
  },
  {
   "cell_type": "markdown",
   "metadata": {},
   "source": [
    "Because transcriptional regulation inter-cellular signaling are highly dependent on cell-types, we train SPaRTAN separately on separate cell types.  We start by demonstrating with only CD14+ monocytes.  From the entire dataset, we extract two subsets: one for training the CD14+ monocyte model and one for evaluating the model."
   ]
  },
  {
   "cell_type": "code",
   "execution_count": 14,
   "metadata": {
    "pycharm": {
     "name": "#%%\n"
    },
    "scrolled": false
   },
   "outputs": [],
   "source": [
    "adata_cd14=adata[(adata.obs[\"cell_types\"] == \"CD14+ Mono\")]\n",
    "\n",
    "adata_cd14_training=adata[(adata.obs[\"cell_types\"] == \"CD14+ Mono\")\n",
    "                          & (adata.obs[\"training\"] == True)]\n",
    "adata_cd14_testing =adata[(adata.obs[\"cell_types\"] == \"CD14+ Mono\") \n",
    "                          & (adata.obs[\"training\"] == False)]\n"
   ]
  },
  {
   "cell_type": "markdown",
   "metadata": {},
   "source": [
    "The `SPaRTAN` class in pySPaRTAN is used to perform cross validation, fit the model, make predictions, infer TF activities, and estimate the correlation between proteins and TFs.  The class has the following parameters:\n",
    "\n",
    "- \n",
    "- \n",
    "-\n",
    "...\n",
    "\n",
    "For our demonstration, we use cross validation and grid search to find the optimal values of `lamda` between 1e-5 and 10, and `alpha` between 0 and 1.  The model is initialized as follows:"
   ]
  },
  {
   "cell_type": "code",
   "execution_count": 15,
   "metadata": {
    "pycharm": {
     "name": "#%%\n"
    },
    "scrolled": true
   },
   "outputs": [],
   "source": [
    "model_cd14= SPaRTAN(lamda=0.01,\n",
    "                    alpha=0.5,\n",
    "                    solver=\"SVD\")"
   ]
  },
  {
   "cell_type": "markdown",
   "metadata": {
    "pycharm": {
     "name": "#%% md\n"
    }
   },
   "source": [
    "The simplest way to fit the model is by calling the `.fit()` function and providing the AnnData object containing the training data."
   ]
  },
  {
   "cell_type": "code",
   "execution_count": 16,
   "metadata": {},
   "outputs": [],
   "source": [
    "#model_cd14=model_cd14.fit(adata_cd14_training)\n"
   ]
  },
  {
   "cell_type": "markdown",
   "metadata": {
    "pycharm": {
     "name": "#%% md\n"
    }
   },
   "source": [
    "Alternatively, we can fit the model without using an AnnData structure by directly providing the three matrices needed: the gene expression (Y), the protein expression (P), and the tf-gene matrix (D)."
   ]
  },
  {
   "cell_type": "code",
   "execution_count": 17,
   "metadata": {
    "pycharm": {
     "name": "#%%\n"
    }
   },
   "outputs": [],
   "source": [
    "gene_expression=adata_cd14_training.layers[\"log1p\"]\n",
    "protein=adata_cd14_training.obsm[\"protein\"]\n",
    "tf_gene_matrix=adata_cd14_training.varm[\"tf_gene\"]\n",
    "\n",
    "model_cd14=model_cd14.fit(Y=gene_expression, \n",
    "                          P=protein, \n",
    "                          D=tf_gene_matrix)"
   ]
  },
  {
   "cell_type": "markdown",
   "metadata": {
    "pycharm": {
     "name": "#%% md\n"
    }
   },
   "source": [
    "We can evaluate the performance  using the `score` function, which predicts gene expression for each cell in the training set using the protein data and compares to the true gene expression."
   ]
  },
  {
   "cell_type": "code",
   "execution_count": 18,
   "metadata": {
    "pycharm": {
     "name": "#%%\n"
    }
   },
   "outputs": [
    {
     "data": {
      "text/plain": [
       "0.47663310945748116"
      ]
     },
     "execution_count": 18,
     "metadata": {},
     "output_type": "execute_result"
    }
   ],
   "source": [
    "protein_test=adata_cd14_testing.obsm[\"protein\"]\n",
    "\n",
    "gene_expression_test=np.asarray(\n",
    "    adata_cd14_testing.layers[\"log1p\"])\n",
    "\n",
    "model_cd14.score(protein_test.to_numpy(),gene_expression_test)"
   ]
  },
  {
   "cell_type": "code",
   "execution_count": 19,
   "metadata": {},
   "outputs": [
    {
     "data": {
      "text/html": [
       "<div>\n",
       "<style scoped>\n",
       "    .dataframe tbody tr th:only-of-type {\n",
       "        vertical-align: middle;\n",
       "    }\n",
       "\n",
       "    .dataframe tbody tr th {\n",
       "        vertical-align: top;\n",
       "    }\n",
       "\n",
       "    .dataframe thead th {\n",
       "        text-align: right;\n",
       "    }\n",
       "</style>\n",
       "<table border=\"1\" class=\"dataframe\">\n",
       "  <thead>\n",
       "    <tr style=\"text-align: right;\">\n",
       "      <th></th>\n",
       "      <th>CD3_TotalSeqB</th>\n",
       "      <th>CD4_TotalSeqB</th>\n",
       "      <th>CD8a_TotalSeqB</th>\n",
       "      <th>CD11b_TotalSeqB</th>\n",
       "      <th>CD14_TotalSeqB</th>\n",
       "      <th>CD15_TotalSeqB</th>\n",
       "      <th>CD16_TotalSeqB</th>\n",
       "      <th>CD19_TotalSeqB</th>\n",
       "      <th>CD20_TotalSeqB</th>\n",
       "      <th>CD25_TotalSeqB</th>\n",
       "      <th>...</th>\n",
       "      <th>CD86_TotalSeqB</th>\n",
       "      <th>CD127_TotalSeqB</th>\n",
       "      <th>CD137_TotalSeqB</th>\n",
       "      <th>CD197_TotalSeqB</th>\n",
       "      <th>CD274_TotalSeqB</th>\n",
       "      <th>CD278_TotalSeqB</th>\n",
       "      <th>CD335_TotalSeqB</th>\n",
       "      <th>PD-1_TotalSeqB</th>\n",
       "      <th>HLA-DR_TotalSeqB</th>\n",
       "      <th>TIGIT_TotalSeqB</th>\n",
       "    </tr>\n",
       "  </thead>\n",
       "  <tbody>\n",
       "    <tr>\n",
       "      <th>AAACCCACAGGCTTGC-1</th>\n",
       "      <td>0.022634</td>\n",
       "      <td>0.160547</td>\n",
       "      <td>0.107130</td>\n",
       "      <td>0.565751</td>\n",
       "      <td>0.450670</td>\n",
       "      <td>0.103356</td>\n",
       "      <td>0.031645</td>\n",
       "      <td>0.094873</td>\n",
       "      <td>0.024012</td>\n",
       "      <td>0.075446</td>\n",
       "      <td>...</td>\n",
       "      <td>0.392123</td>\n",
       "      <td>0.041680</td>\n",
       "      <td>0.120887</td>\n",
       "      <td>0.106676</td>\n",
       "      <td>0.074122</td>\n",
       "      <td>0.041545</td>\n",
       "      <td>0.151460</td>\n",
       "      <td>0.071821</td>\n",
       "      <td>0.137101</td>\n",
       "      <td>0.112918</td>\n",
       "    </tr>\n",
       "    <tr>\n",
       "      <th>AAACCCAGTAGTTAGA-1</th>\n",
       "      <td>0.041086</td>\n",
       "      <td>0.138181</td>\n",
       "      <td>0.119724</td>\n",
       "      <td>0.420362</td>\n",
       "      <td>0.337480</td>\n",
       "      <td>0.108253</td>\n",
       "      <td>0.056108</td>\n",
       "      <td>0.077830</td>\n",
       "      <td>0.097644</td>\n",
       "      <td>0.087021</td>\n",
       "      <td>...</td>\n",
       "      <td>0.511143</td>\n",
       "      <td>0.064844</td>\n",
       "      <td>0.039332</td>\n",
       "      <td>0.076556</td>\n",
       "      <td>0.040415</td>\n",
       "      <td>0.028111</td>\n",
       "      <td>0.147142</td>\n",
       "      <td>0.116734</td>\n",
       "      <td>0.453013</td>\n",
       "      <td>0.127786</td>\n",
       "    </tr>\n",
       "    <tr>\n",
       "      <th>AAACGAAGTAACGATA-1</th>\n",
       "      <td>0.051603</td>\n",
       "      <td>0.111773</td>\n",
       "      <td>0.056676</td>\n",
       "      <td>0.415936</td>\n",
       "      <td>0.282542</td>\n",
       "      <td>0.108620</td>\n",
       "      <td>0.125790</td>\n",
       "      <td>0.030881</td>\n",
       "      <td>0.090160</td>\n",
       "      <td>0.075784</td>\n",
       "      <td>...</td>\n",
       "      <td>0.526280</td>\n",
       "      <td>0.000000</td>\n",
       "      <td>0.091589</td>\n",
       "      <td>0.020715</td>\n",
       "      <td>0.156371</td>\n",
       "      <td>0.044795</td>\n",
       "      <td>0.068804</td>\n",
       "      <td>0.050877</td>\n",
       "      <td>0.411825</td>\n",
       "      <td>0.084668</td>\n",
       "    </tr>\n",
       "    <tr>\n",
       "      <th>AAACGAAGTGGATCAG-1</th>\n",
       "      <td>0.019221</td>\n",
       "      <td>0.083918</td>\n",
       "      <td>0.020448</td>\n",
       "      <td>0.619658</td>\n",
       "      <td>0.542556</td>\n",
       "      <td>0.106621</td>\n",
       "      <td>0.071793</td>\n",
       "      <td>0.079231</td>\n",
       "      <td>0.098300</td>\n",
       "      <td>0.074389</td>\n",
       "      <td>...</td>\n",
       "      <td>0.190541</td>\n",
       "      <td>0.073152</td>\n",
       "      <td>0.174412</td>\n",
       "      <td>0.055348</td>\n",
       "      <td>0.125332</td>\n",
       "      <td>0.018852</td>\n",
       "      <td>0.067537</td>\n",
       "      <td>0.106214</td>\n",
       "      <td>0.267312</td>\n",
       "      <td>0.000000</td>\n",
       "    </tr>\n",
       "    <tr>\n",
       "      <th>AAAGAACCACTTCATT-1</th>\n",
       "      <td>0.040406</td>\n",
       "      <td>0.102000</td>\n",
       "      <td>0.095693</td>\n",
       "      <td>0.503194</td>\n",
       "      <td>0.501410</td>\n",
       "      <td>0.092141</td>\n",
       "      <td>0.062042</td>\n",
       "      <td>0.153196</td>\n",
       "      <td>0.107970</td>\n",
       "      <td>0.024395</td>\n",
       "      <td>...</td>\n",
       "      <td>0.445655</td>\n",
       "      <td>0.087436</td>\n",
       "      <td>0.105883</td>\n",
       "      <td>0.061064</td>\n",
       "      <td>0.000000</td>\n",
       "      <td>0.031084</td>\n",
       "      <td>0.000000</td>\n",
       "      <td>0.043158</td>\n",
       "      <td>0.308363</td>\n",
       "      <td>0.000000</td>\n",
       "    </tr>\n",
       "    <tr>\n",
       "      <th>...</th>\n",
       "      <td>...</td>\n",
       "      <td>...</td>\n",
       "      <td>...</td>\n",
       "      <td>...</td>\n",
       "      <td>...</td>\n",
       "      <td>...</td>\n",
       "      <td>...</td>\n",
       "      <td>...</td>\n",
       "      <td>...</td>\n",
       "      <td>...</td>\n",
       "      <td>...</td>\n",
       "      <td>...</td>\n",
       "      <td>...</td>\n",
       "      <td>...</td>\n",
       "      <td>...</td>\n",
       "      <td>...</td>\n",
       "      <td>...</td>\n",
       "      <td>...</td>\n",
       "      <td>...</td>\n",
       "      <td>...</td>\n",
       "      <td>...</td>\n",
       "    </tr>\n",
       "    <tr>\n",
       "      <th>TTTCATGTCGCCGTGA-1</th>\n",
       "      <td>0.006289</td>\n",
       "      <td>0.142579</td>\n",
       "      <td>0.093570</td>\n",
       "      <td>0.580921</td>\n",
       "      <td>0.420518</td>\n",
       "      <td>0.108566</td>\n",
       "      <td>0.104339</td>\n",
       "      <td>0.113767</td>\n",
       "      <td>0.090933</td>\n",
       "      <td>0.094090</td>\n",
       "      <td>...</td>\n",
       "      <td>0.434236</td>\n",
       "      <td>0.085497</td>\n",
       "      <td>0.222117</td>\n",
       "      <td>0.112054</td>\n",
       "      <td>0.043698</td>\n",
       "      <td>0.061626</td>\n",
       "      <td>0.057071</td>\n",
       "      <td>0.042201</td>\n",
       "      <td>0.161664</td>\n",
       "      <td>0.000000</td>\n",
       "    </tr>\n",
       "    <tr>\n",
       "      <th>TTTCGATAGTCAGCCC-1</th>\n",
       "      <td>0.010773</td>\n",
       "      <td>0.118121</td>\n",
       "      <td>0.062482</td>\n",
       "      <td>0.450724</td>\n",
       "      <td>0.411635</td>\n",
       "      <td>0.113048</td>\n",
       "      <td>0.063171</td>\n",
       "      <td>0.103769</td>\n",
       "      <td>0.026263</td>\n",
       "      <td>0.097974</td>\n",
       "      <td>...</td>\n",
       "      <td>0.463787</td>\n",
       "      <td>0.024375</td>\n",
       "      <td>0.132223</td>\n",
       "      <td>0.034019</td>\n",
       "      <td>0.045502</td>\n",
       "      <td>0.024291</td>\n",
       "      <td>0.032393</td>\n",
       "      <td>0.043943</td>\n",
       "      <td>0.473278</td>\n",
       "      <td>0.073128</td>\n",
       "    </tr>\n",
       "    <tr>\n",
       "      <th>TTTGACTGTATCAGGG-1</th>\n",
       "      <td>0.013919</td>\n",
       "      <td>0.081554</td>\n",
       "      <td>0.105573</td>\n",
       "      <td>0.650096</td>\n",
       "      <td>0.469645</td>\n",
       "      <td>0.158011</td>\n",
       "      <td>0.000000</td>\n",
       "      <td>0.094946</td>\n",
       "      <td>0.074515</td>\n",
       "      <td>0.121460</td>\n",
       "      <td>...</td>\n",
       "      <td>0.356056</td>\n",
       "      <td>0.038276</td>\n",
       "      <td>0.116815</td>\n",
       "      <td>0.080857</td>\n",
       "      <td>0.119493</td>\n",
       "      <td>0.034293</td>\n",
       "      <td>0.111539</td>\n",
       "      <td>0.025399</td>\n",
       "      <td>0.085944</td>\n",
       "      <td>0.108621</td>\n",
       "    </tr>\n",
       "    <tr>\n",
       "      <th>TTTGGTTCAATTTCCT-1</th>\n",
       "      <td>0.013686</td>\n",
       "      <td>0.126524</td>\n",
       "      <td>0.089542</td>\n",
       "      <td>0.489900</td>\n",
       "      <td>0.495079</td>\n",
       "      <td>0.140694</td>\n",
       "      <td>0.058055</td>\n",
       "      <td>0.045587</td>\n",
       "      <td>0.071565</td>\n",
       "      <td>0.136341</td>\n",
       "      <td>...</td>\n",
       "      <td>0.385401</td>\n",
       "      <td>0.041896</td>\n",
       "      <td>0.099078</td>\n",
       "      <td>0.107230</td>\n",
       "      <td>0.101349</td>\n",
       "      <td>0.035557</td>\n",
       "      <td>0.094603</td>\n",
       "      <td>0.040384</td>\n",
       "      <td>0.410612</td>\n",
       "      <td>0.067206</td>\n",
       "    </tr>\n",
       "    <tr>\n",
       "      <th>TTTGTTGCAGGATGAC-1</th>\n",
       "      <td>0.022146</td>\n",
       "      <td>0.103040</td>\n",
       "      <td>0.122439</td>\n",
       "      <td>0.509093</td>\n",
       "      <td>0.477958</td>\n",
       "      <td>0.100606</td>\n",
       "      <td>0.084860</td>\n",
       "      <td>0.151308</td>\n",
       "      <td>0.250095</td>\n",
       "      <td>0.080048</td>\n",
       "      <td>...</td>\n",
       "      <td>0.445475</td>\n",
       "      <td>0.012262</td>\n",
       "      <td>0.042956</td>\n",
       "      <td>0.047242</td>\n",
       "      <td>0.044138</td>\n",
       "      <td>0.030700</td>\n",
       "      <td>0.031423</td>\n",
       "      <td>0.090657</td>\n",
       "      <td>0.257743</td>\n",
       "      <td>0.070937</td>\n",
       "    </tr>\n",
       "  </tbody>\n",
       "</table>\n",
       "<p>831 rows × 29 columns</p>\n",
       "</div>"
      ],
      "text/plain": [
       "                    CD3_TotalSeqB  CD4_TotalSeqB  CD8a_TotalSeqB  \\\n",
       "AAACCCACAGGCTTGC-1       0.022634       0.160547        0.107130   \n",
       "AAACCCAGTAGTTAGA-1       0.041086       0.138181        0.119724   \n",
       "AAACGAAGTAACGATA-1       0.051603       0.111773        0.056676   \n",
       "AAACGAAGTGGATCAG-1       0.019221       0.083918        0.020448   \n",
       "AAAGAACCACTTCATT-1       0.040406       0.102000        0.095693   \n",
       "...                           ...            ...             ...   \n",
       "TTTCATGTCGCCGTGA-1       0.006289       0.142579        0.093570   \n",
       "TTTCGATAGTCAGCCC-1       0.010773       0.118121        0.062482   \n",
       "TTTGACTGTATCAGGG-1       0.013919       0.081554        0.105573   \n",
       "TTTGGTTCAATTTCCT-1       0.013686       0.126524        0.089542   \n",
       "TTTGTTGCAGGATGAC-1       0.022146       0.103040        0.122439   \n",
       "\n",
       "                    CD11b_TotalSeqB  CD14_TotalSeqB  CD15_TotalSeqB  \\\n",
       "AAACCCACAGGCTTGC-1         0.565751        0.450670        0.103356   \n",
       "AAACCCAGTAGTTAGA-1         0.420362        0.337480        0.108253   \n",
       "AAACGAAGTAACGATA-1         0.415936        0.282542        0.108620   \n",
       "AAACGAAGTGGATCAG-1         0.619658        0.542556        0.106621   \n",
       "AAAGAACCACTTCATT-1         0.503194        0.501410        0.092141   \n",
       "...                             ...             ...             ...   \n",
       "TTTCATGTCGCCGTGA-1         0.580921        0.420518        0.108566   \n",
       "TTTCGATAGTCAGCCC-1         0.450724        0.411635        0.113048   \n",
       "TTTGACTGTATCAGGG-1         0.650096        0.469645        0.158011   \n",
       "TTTGGTTCAATTTCCT-1         0.489900        0.495079        0.140694   \n",
       "TTTGTTGCAGGATGAC-1         0.509093        0.477958        0.100606   \n",
       "\n",
       "                    CD16_TotalSeqB  CD19_TotalSeqB  CD20_TotalSeqB  \\\n",
       "AAACCCACAGGCTTGC-1        0.031645        0.094873        0.024012   \n",
       "AAACCCAGTAGTTAGA-1        0.056108        0.077830        0.097644   \n",
       "AAACGAAGTAACGATA-1        0.125790        0.030881        0.090160   \n",
       "AAACGAAGTGGATCAG-1        0.071793        0.079231        0.098300   \n",
       "AAAGAACCACTTCATT-1        0.062042        0.153196        0.107970   \n",
       "...                            ...             ...             ...   \n",
       "TTTCATGTCGCCGTGA-1        0.104339        0.113767        0.090933   \n",
       "TTTCGATAGTCAGCCC-1        0.063171        0.103769        0.026263   \n",
       "TTTGACTGTATCAGGG-1        0.000000        0.094946        0.074515   \n",
       "TTTGGTTCAATTTCCT-1        0.058055        0.045587        0.071565   \n",
       "TTTGTTGCAGGATGAC-1        0.084860        0.151308        0.250095   \n",
       "\n",
       "                    CD25_TotalSeqB  ...  CD86_TotalSeqB  CD127_TotalSeqB  \\\n",
       "AAACCCACAGGCTTGC-1        0.075446  ...        0.392123         0.041680   \n",
       "AAACCCAGTAGTTAGA-1        0.087021  ...        0.511143         0.064844   \n",
       "AAACGAAGTAACGATA-1        0.075784  ...        0.526280         0.000000   \n",
       "AAACGAAGTGGATCAG-1        0.074389  ...        0.190541         0.073152   \n",
       "AAAGAACCACTTCATT-1        0.024395  ...        0.445655         0.087436   \n",
       "...                            ...  ...             ...              ...   \n",
       "TTTCATGTCGCCGTGA-1        0.094090  ...        0.434236         0.085497   \n",
       "TTTCGATAGTCAGCCC-1        0.097974  ...        0.463787         0.024375   \n",
       "TTTGACTGTATCAGGG-1        0.121460  ...        0.356056         0.038276   \n",
       "TTTGGTTCAATTTCCT-1        0.136341  ...        0.385401         0.041896   \n",
       "TTTGTTGCAGGATGAC-1        0.080048  ...        0.445475         0.012262   \n",
       "\n",
       "                    CD137_TotalSeqB  CD197_TotalSeqB  CD274_TotalSeqB  \\\n",
       "AAACCCACAGGCTTGC-1         0.120887         0.106676         0.074122   \n",
       "AAACCCAGTAGTTAGA-1         0.039332         0.076556         0.040415   \n",
       "AAACGAAGTAACGATA-1         0.091589         0.020715         0.156371   \n",
       "AAACGAAGTGGATCAG-1         0.174412         0.055348         0.125332   \n",
       "AAAGAACCACTTCATT-1         0.105883         0.061064         0.000000   \n",
       "...                             ...              ...              ...   \n",
       "TTTCATGTCGCCGTGA-1         0.222117         0.112054         0.043698   \n",
       "TTTCGATAGTCAGCCC-1         0.132223         0.034019         0.045502   \n",
       "TTTGACTGTATCAGGG-1         0.116815         0.080857         0.119493   \n",
       "TTTGGTTCAATTTCCT-1         0.099078         0.107230         0.101349   \n",
       "TTTGTTGCAGGATGAC-1         0.042956         0.047242         0.044138   \n",
       "\n",
       "                    CD278_TotalSeqB  CD335_TotalSeqB  PD-1_TotalSeqB  \\\n",
       "AAACCCACAGGCTTGC-1         0.041545         0.151460        0.071821   \n",
       "AAACCCAGTAGTTAGA-1         0.028111         0.147142        0.116734   \n",
       "AAACGAAGTAACGATA-1         0.044795         0.068804        0.050877   \n",
       "AAACGAAGTGGATCAG-1         0.018852         0.067537        0.106214   \n",
       "AAAGAACCACTTCATT-1         0.031084         0.000000        0.043158   \n",
       "...                             ...              ...             ...   \n",
       "TTTCATGTCGCCGTGA-1         0.061626         0.057071        0.042201   \n",
       "TTTCGATAGTCAGCCC-1         0.024291         0.032393        0.043943   \n",
       "TTTGACTGTATCAGGG-1         0.034293         0.111539        0.025399   \n",
       "TTTGGTTCAATTTCCT-1         0.035557         0.094603        0.040384   \n",
       "TTTGTTGCAGGATGAC-1         0.030700         0.031423        0.090657   \n",
       "\n",
       "                    HLA-DR_TotalSeqB  TIGIT_TotalSeqB  \n",
       "AAACCCACAGGCTTGC-1          0.137101         0.112918  \n",
       "AAACCCAGTAGTTAGA-1          0.453013         0.127786  \n",
       "AAACGAAGTAACGATA-1          0.411825         0.084668  \n",
       "AAACGAAGTGGATCAG-1          0.267312         0.000000  \n",
       "AAAGAACCACTTCATT-1          0.308363         0.000000  \n",
       "...                              ...              ...  \n",
       "TTTCATGTCGCCGTGA-1          0.161664         0.000000  \n",
       "TTTCGATAGTCAGCCC-1          0.473278         0.073128  \n",
       "TTTGACTGTATCAGGG-1          0.085944         0.108621  \n",
       "TTTGGTTCAATTTCCT-1          0.410612         0.067206  \n",
       "TTTGTTGCAGGATGAC-1          0.257743         0.070937  \n",
       "\n",
       "[831 rows x 29 columns]"
      ]
     },
     "execution_count": 19,
     "metadata": {},
     "output_type": "execute_result"
    }
   ],
   "source": [
    "protein"
   ]
  },
  {
   "cell_type": "markdown",
   "metadata": {},
   "source": [
    "from sklearn.linear_model import LinearRegression\n",
    "from scipy.stats import pearsonr\n",
    "\n",
    "reg = LinearRegression().fit(protein, gene_expression)\n",
    "gene_exp_pred=reg.predict(protein_test)\n",
    "pearsonr(gene_expression_test.flatten(),gene_exp_pred.flatten())\n",
    "\n",
    "gene_cor=np.asarray([pearsonr(gene_expression_test[:,i],gene_exp_pred[:,i])[0] for i in range(gene_expression_test.shape[1])])\n",
    "gene_cor = gene_cor[~np.isnan(gene_cor)]\n",
    "np.median(gene_cor)\n",
    "\n",
    "cell_cor=np.asarray([pearsonr(gene_expression_test[i,:],gene_exp_pred[i,:])[0] for i in range(gene_expression_test.shape[0])])\n",
    "np.median(cell_cor)\n",
    "\n",
    "model_cd14.D.shape"
   ]
  },
  {
   "cell_type": "markdown",
   "metadata": {},
   "source": [
    "The process is repeated for each cell type in a for loop, storing the models in a dictionary."
   ]
  },
  {
   "cell_type": "code",
   "execution_count": 20,
   "metadata": {
    "pycharm": {
     "name": "#%%\n"
    }
   },
   "outputs": [
    {
     "name": "stdout",
     "output_type": "stream",
     "text": [
      "R2 value for B cells: \t0.693346633868515\n",
      "R2 value for CD cells: \t0.8069010060604493\n",
      "R2 value for CD14+ Mono cells: \t0.5402587214986687\n",
      "R2 value for CD4+ Memory T cells: \t0.5970625383819181\n",
      "R2 value for CD4+ Naive T cells: \t0.5498413590376826\n",
      "R2 value for CD8+ cells: \t0.6509080915547767\n",
      "R2 value for FCGR3A+/CD16+ Mono cells: \t0.7541213477305228\n",
      "R2 value for NK cells: \t0.6589118559942848\n"
     ]
    },
    {
     "ename": "ValueError",
     "evalue": "Internal work array size computation failed: -10",
     "output_type": "error",
     "traceback": [
      "\u001b[0;31m---------------------------------------------------------------------------\u001b[0m",
      "\u001b[0;31mValueError\u001b[0m                                Traceback (most recent call last)",
      "\u001b[0;32m<ipython-input-20-9a3a12d549a3>\u001b[0m in \u001b[0;36m<module>\u001b[0;34m\u001b[0m\n\u001b[1;32m     13\u001b[0m \u001b[0;34m\u001b[0m\u001b[0m\n\u001b[1;32m     14\u001b[0m     print(\"R2 value for \"+ct+\" cells: \\t\"\n\u001b[0;32m---> 15\u001b[0;31m           +str(models[ct].score(\n\u001b[0m\u001b[1;32m     16\u001b[0m               \u001b[0madata_testing\u001b[0m\u001b[0;34m.\u001b[0m\u001b[0mobsm\u001b[0m\u001b[0;34m[\u001b[0m\u001b[0;34m\"protein\"\u001b[0m\u001b[0;34m]\u001b[0m\u001b[0;34m,\u001b[0m\u001b[0;34m\u001b[0m\u001b[0;34m\u001b[0m\u001b[0m\n\u001b[1;32m     17\u001b[0m               np.asarray(adata_testing.layers[\"log1p\"]))))\n",
      "\u001b[0;32m<ipython-input-1-83a6a5f60cd6>\u001b[0m in \u001b[0;36mscore\u001b[0;34m(self, P_test, Y_test)\u001b[0m\n\u001b[1;32m    241\u001b[0m \u001b[0;34m\u001b[0m\u001b[0m\n\u001b[1;32m    242\u001b[0m     \u001b[0;32mdef\u001b[0m \u001b[0mscore\u001b[0m\u001b[0;34m(\u001b[0m\u001b[0mself\u001b[0m\u001b[0;34m,\u001b[0m\u001b[0mP_test\u001b[0m\u001b[0;34m,\u001b[0m \u001b[0mY_test\u001b[0m\u001b[0;34m)\u001b[0m\u001b[0;34m:\u001b[0m\u001b[0;34m\u001b[0m\u001b[0;34m\u001b[0m\u001b[0m\n\u001b[0;32m--> 243\u001b[0;31m         \u001b[0mY_pred\u001b[0m\u001b[0;34m=\u001b[0m\u001b[0mself\u001b[0m\u001b[0;34m.\u001b[0m\u001b[0mpredict\u001b[0m\u001b[0;34m(\u001b[0m\u001b[0mP_test\u001b[0m\u001b[0;34m)\u001b[0m\u001b[0;34m\u001b[0m\u001b[0;34m\u001b[0m\u001b[0m\n\u001b[0m\u001b[1;32m    244\u001b[0m         \u001b[0;32mreturn\u001b[0m \u001b[0mself\u001b[0m\u001b[0;34m.\u001b[0m\u001b[0mcorr\u001b[0m\u001b[0;34m(\u001b[0m\u001b[0mY_pred\u001b[0m\u001b[0;34m.\u001b[0m\u001b[0mflatten\u001b[0m\u001b[0;34m(\u001b[0m\u001b[0;34m)\u001b[0m\u001b[0;34m,\u001b[0m \u001b[0mY_test\u001b[0m\u001b[0;34m.\u001b[0m\u001b[0mflatten\u001b[0m\u001b[0;34m(\u001b[0m\u001b[0;34m)\u001b[0m\u001b[0;34m)\u001b[0m\u001b[0;34m[\u001b[0m\u001b[0;36m0\u001b[0m\u001b[0;34m]\u001b[0m\u001b[0;34m\u001b[0m\u001b[0;34m\u001b[0m\u001b[0m\n\u001b[1;32m    245\u001b[0m \u001b[0;34m\u001b[0m\u001b[0m\n",
      "\u001b[0;32m<ipython-input-1-83a6a5f60cd6>\u001b[0m in \u001b[0;36mpredict\u001b[0;34m(self, P_test)\u001b[0m\n\u001b[1;32m    235\u001b[0m         \u001b[0mpred\u001b[0m \u001b[0;34m=\u001b[0m \u001b[0mself\u001b[0m\u001b[0;34m.\u001b[0m\u001b[0mD\u001b[0m \u001b[0;34m@\u001b[0m \u001b[0;34m(\u001b[0m\u001b[0mself\u001b[0m\u001b[0;34m.\u001b[0m\u001b[0mW\u001b[0m \u001b[0;34m@\u001b[0m \u001b[0mP_test\u001b[0m\u001b[0;34m.\u001b[0m\u001b[0mT\u001b[0m\u001b[0;34m)\u001b[0m\u001b[0;34m\u001b[0m\u001b[0;34m\u001b[0m\u001b[0m\n\u001b[1;32m    236\u001b[0m \u001b[0;34m\u001b[0m\u001b[0m\n\u001b[0;32m--> 237\u001b[0;31m         \u001b[0maff_rec\u001b[0m \u001b[0;34m=\u001b[0m \u001b[0mself\u001b[0m\u001b[0;34m.\u001b[0m\u001b[0mar_reconstruction\u001b[0m\u001b[0;34m(\u001b[0m\u001b[0mpred\u001b[0m\u001b[0;34m)\u001b[0m\u001b[0;34m\u001b[0m\u001b[0;34m\u001b[0m\u001b[0m\n\u001b[0m\u001b[1;32m    238\u001b[0m \u001b[0;34m\u001b[0m\u001b[0m\n\u001b[1;32m    239\u001b[0m         \u001b[0mself\u001b[0m\u001b[0;34m.\u001b[0m\u001b[0mY_pred\u001b[0m \u001b[0;34m=\u001b[0m \u001b[0maff_rec\u001b[0m\u001b[0;34m\u001b[0m\u001b[0;34m\u001b[0m\u001b[0m\n",
      "\u001b[0;32m<ipython-input-1-83a6a5f60cd6>\u001b[0m in \u001b[0;36mar_reconstruction\u001b[0;34m(self, pred_test)\u001b[0m\n\u001b[1;32m    214\u001b[0m         \"\"\"\n\u001b[1;32m    215\u001b[0m         \u001b[0mA\u001b[0m \u001b[0;34m=\u001b[0m \u001b[0mself\u001b[0m\u001b[0;34m.\u001b[0m\u001b[0mY\u001b[0m\u001b[0;34m.\u001b[0m\u001b[0mT\u001b[0m \u001b[0;34m@\u001b[0m \u001b[0mpred_test\u001b[0m\u001b[0;34m\u001b[0m\u001b[0;34m\u001b[0m\u001b[0m\n\u001b[0;32m--> 216\u001b[0;31m         \u001b[0mB\u001b[0m \u001b[0;34m=\u001b[0m \u001b[0mscipy\u001b[0m\u001b[0;34m.\u001b[0m\u001b[0mlinalg\u001b[0m\u001b[0;34m.\u001b[0m\u001b[0morth\u001b[0m\u001b[0;34m(\u001b[0m\u001b[0mself\u001b[0m\u001b[0;34m.\u001b[0m\u001b[0mY\u001b[0m\u001b[0;34m)\u001b[0m\u001b[0;34m\u001b[0m\u001b[0;34m\u001b[0m\u001b[0m\n\u001b[0m\u001b[1;32m    217\u001b[0m         \u001b[0mcm\u001b[0m \u001b[0;34m=\u001b[0m \u001b[0mscipy\u001b[0m\u001b[0;34m.\u001b[0m\u001b[0mlinalg\u001b[0m\u001b[0;34m.\u001b[0m\u001b[0mlstsq\u001b[0m\u001b[0;34m(\u001b[0m\u001b[0mB\u001b[0m\u001b[0;34m,\u001b[0m \u001b[0mself\u001b[0m\u001b[0;34m.\u001b[0m\u001b[0mY\u001b[0m\u001b[0;34m)\u001b[0m\u001b[0;34m[\u001b[0m\u001b[0;36m0\u001b[0m\u001b[0;34m]\u001b[0m\u001b[0;34m\u001b[0m\u001b[0;34m\u001b[0m\u001b[0m\n\u001b[1;32m    218\u001b[0m         \u001b[0mct\u001b[0m \u001b[0;34m=\u001b[0m \u001b[0mscipy\u001b[0m\u001b[0;34m.\u001b[0m\u001b[0mlinalg\u001b[0m\u001b[0;34m.\u001b[0m\u001b[0mlstsq\u001b[0m\u001b[0;34m(\u001b[0m\u001b[0mcm\u001b[0m\u001b[0;34m.\u001b[0m\u001b[0mT\u001b[0m\u001b[0;34m,\u001b[0m \u001b[0mA\u001b[0m\u001b[0;34m)\u001b[0m\u001b[0;34m[\u001b[0m\u001b[0;36m0\u001b[0m\u001b[0;34m]\u001b[0m\u001b[0;34m\u001b[0m\u001b[0;34m\u001b[0m\u001b[0m\n",
      "\u001b[0;32m/jet/packages/anaconda3/lib/python3.8/site-packages/scipy/linalg/decomp_svd.py\u001b[0m in \u001b[0;36morth\u001b[0;34m(A, rcond)\u001b[0m\n\u001b[1;32m    318\u001b[0m \u001b[0;34m\u001b[0m\u001b[0m\n\u001b[1;32m    319\u001b[0m     \"\"\"\n\u001b[0;32m--> 320\u001b[0;31m     \u001b[0mu\u001b[0m\u001b[0;34m,\u001b[0m \u001b[0ms\u001b[0m\u001b[0;34m,\u001b[0m \u001b[0mvh\u001b[0m \u001b[0;34m=\u001b[0m \u001b[0msvd\u001b[0m\u001b[0;34m(\u001b[0m\u001b[0mA\u001b[0m\u001b[0;34m,\u001b[0m \u001b[0mfull_matrices\u001b[0m\u001b[0;34m=\u001b[0m\u001b[0;32mFalse\u001b[0m\u001b[0;34m)\u001b[0m\u001b[0;34m\u001b[0m\u001b[0;34m\u001b[0m\u001b[0m\n\u001b[0m\u001b[1;32m    321\u001b[0m     \u001b[0mM\u001b[0m\u001b[0;34m,\u001b[0m \u001b[0mN\u001b[0m \u001b[0;34m=\u001b[0m \u001b[0mu\u001b[0m\u001b[0;34m.\u001b[0m\u001b[0mshape\u001b[0m\u001b[0;34m[\u001b[0m\u001b[0;36m0\u001b[0m\u001b[0;34m]\u001b[0m\u001b[0;34m,\u001b[0m \u001b[0mvh\u001b[0m\u001b[0;34m.\u001b[0m\u001b[0mshape\u001b[0m\u001b[0;34m[\u001b[0m\u001b[0;36m1\u001b[0m\u001b[0;34m]\u001b[0m\u001b[0;34m\u001b[0m\u001b[0;34m\u001b[0m\u001b[0m\n\u001b[1;32m    322\u001b[0m     \u001b[0;32mif\u001b[0m \u001b[0mrcond\u001b[0m \u001b[0;32mis\u001b[0m \u001b[0;32mNone\u001b[0m\u001b[0;34m:\u001b[0m\u001b[0;34m\u001b[0m\u001b[0;34m\u001b[0m\u001b[0m\n",
      "\u001b[0;32m/jet/packages/anaconda3/lib/python3.8/site-packages/scipy/linalg/decomp_svd.py\u001b[0m in \u001b[0;36msvd\u001b[0;34m(a, full_matrices, compute_uv, overwrite_a, check_finite, lapack_driver)\u001b[0m\n\u001b[1;32m    119\u001b[0m \u001b[0;34m\u001b[0m\u001b[0m\n\u001b[1;32m    120\u001b[0m     \u001b[0;31m# compute optimal lwork\u001b[0m\u001b[0;34m\u001b[0m\u001b[0;34m\u001b[0m\u001b[0;34m\u001b[0m\u001b[0m\n\u001b[0;32m--> 121\u001b[0;31m     lwork = _compute_lwork(gesXd_lwork, a1.shape[0], a1.shape[1],\n\u001b[0m\u001b[1;32m    122\u001b[0m                            compute_uv=compute_uv, full_matrices=full_matrices)\n\u001b[1;32m    123\u001b[0m \u001b[0;34m\u001b[0m\u001b[0m\n",
      "\u001b[0;32m/jet/packages/anaconda3/lib/python3.8/site-packages/scipy/linalg/lapack.py\u001b[0m in \u001b[0;36m_compute_lwork\u001b[0;34m(routine, *args, **kwargs)\u001b[0m\n\u001b[1;32m    950\u001b[0m     \u001b[0mret\u001b[0m \u001b[0;34m=\u001b[0m \u001b[0mroutine\u001b[0m\u001b[0;34m(\u001b[0m\u001b[0;34m*\u001b[0m\u001b[0margs\u001b[0m\u001b[0;34m,\u001b[0m \u001b[0;34m**\u001b[0m\u001b[0mkwargs\u001b[0m\u001b[0;34m)\u001b[0m\u001b[0;34m\u001b[0m\u001b[0;34m\u001b[0m\u001b[0m\n\u001b[1;32m    951\u001b[0m     \u001b[0;32mif\u001b[0m \u001b[0mret\u001b[0m\u001b[0;34m[\u001b[0m\u001b[0;34m-\u001b[0m\u001b[0;36m1\u001b[0m\u001b[0;34m]\u001b[0m \u001b[0;34m!=\u001b[0m \u001b[0;36m0\u001b[0m\u001b[0;34m:\u001b[0m\u001b[0;34m\u001b[0m\u001b[0;34m\u001b[0m\u001b[0m\n\u001b[0;32m--> 952\u001b[0;31m         raise ValueError(\"Internal work array size computation failed: \"\n\u001b[0m\u001b[1;32m    953\u001b[0m                          \"%d\" % (ret[-1],))\n\u001b[1;32m    954\u001b[0m \u001b[0;34m\u001b[0m\u001b[0m\n",
      "\u001b[0;31mValueError\u001b[0m: Internal work array size computation failed: -10"
     ]
    }
   ],
   "source": [
    "models=dict()\n",
    "\n",
    "for ct in np.unique(adata.obs[\"cell_types\"].tolist()):\n",
    "    adata_training=adata[(adata.obs[\"cell_types\"] == ct) \n",
    "                         & (adata.obs[\"training\"] == True)]\n",
    "    adata_testing =adata[(adata.obs[\"cell_types\"] == ct) \n",
    "                         & (adata.obs[\"training\"] == False)]\n",
    "\n",
    "    models[ct]= SPaRTAN(lamda=0.0001,\n",
    "                        alpha=0,\n",
    "                        solver=\"SVD\")\n",
    "    models[ct].fit(adata_training)\n",
    "\n",
    "    print(\"R2 value for \"+ct+\" cells: \\t\"\n",
    "          +str(models[ct].score(\n",
    "              adata_testing.obsm[\"protein\"],\n",
    "              np.asarray(adata_testing.layers[\"log1p\"]))))"
   ]
  },
  {
   "cell_type": "markdown",
   "metadata": {},
   "source": [
    "The model for a particular cell type, say CD4+ Memory T cells for example, is stored as `model[\"CD4+ Memory T\"]`."
   ]
  },
  {
   "cell_type": "markdown",
   "metadata": {
    "pycharm": {
     "name": "#%% md\n"
    }
   },
   "source": [
    "# 3. Infer TF Activites\n",
    "\n",
    "From the fitted model, TF activity is inferred from protein expression by calculating $WP^T$. TF activity for every CD14+ monocyte cell is calculated by the `get_TF_activites` function, using only the protein expression as input."
   ]
  },
  {
   "cell_type": "code",
   "execution_count": null,
   "metadata": {},
   "outputs": [],
   "source": [
    "tf = model_cd14.get_projD(adata_cd14.obsm[\"protein\"])"
   ]
  },
  {
   "cell_type": "markdown",
   "metadata": {},
   "source": [
    "The significance of the inferred TF activity is assessed using a permutation test.  We generate the distribution for an empirical null hypothesis by shuffling the genes for each cell (randomly permuting the rows of $Y$) a specified number of times (typically, 1000), re-fitting the model, and calculating TF activity.  For each TF in each cell, we compare the inferred TF activity to the empirical null distribution of 1000 inferred TF activities and calculate a p-value as the proportion of values in the null distribution that are higher in absolute value than the true inferred TF activity. The p-value has a minimum value inversely proportional to the number of trials (1/1000, typically). \n",
    "\n",
    "For each cell, P-values are corrected using Bonferroni procedure for multiple hypothesis testing, which is implemented as part of the statsmodel package (`statsmodels.stats.multitest.multipletests`).  We use an adjusted p-value of 0.15 for this example.\n",
    "\n",
    "The permutation test is done using the `get_TF_activites` function, this time specifying the number of permutations to use for the null distribution.\n"
   ]
  },
  {
   "cell_type": "code",
   "execution_count": null,
   "metadata": {
    "pycharm": {
     "name": "#%%\n"
    }
   },
   "outputs": [],
   "source": [
    "tf, tf_p_val = model_cd14.get_projD(\n",
    "    adata_cd14.obsm[\"protein\"],\n",
    "    n_trials=1000)"
   ]
  },
  {
   "cell_type": "markdown",
   "metadata": {},
   "source": [
    "To identify TFs that are important in CD14+ monocytes, we look for TFs that have a p value of less than 0.15 in a high proportion of cells."
   ]
  },
  {
   "cell_type": "code",
   "execution_count": null,
   "metadata": {},
   "outputs": [],
   "source": [
    "prop_sig=(tf_p_val<0.15).mean()\n",
    "prop_sig.sort_values(ascending=False).head(10)"
   ]
  },
  {
   "cell_type": "markdown",
   "metadata": {},
   "source": [
    "The inferred TF activity and corresponding p-values are stored in the AnnData object."
   ]
  },
  {
   "cell_type": "code",
   "execution_count": null,
   "metadata": {},
   "outputs": [],
   "source": [
    "adata_cd14.obsm[\"tf_activity\"]=tf.T\n",
    "adata_cd14.obsm[\"tf_p_val\"]=tf_p_val.T"
   ]
  },
  {
   "cell_type": "markdown",
   "metadata": {},
   "source": [
    "Repeat the process for each cell type, and create a dataframe with the proportion of cells for each cell type where each TF is significant. "
   ]
  },
  {
   "cell_type": "code",
   "execution_count": null,
   "metadata": {
    "pycharm": {
     "name": "#%%\n"
    }
   },
   "outputs": [],
   "source": [
    "tf_ct=dict()\n",
    "tf=dict()\n",
    "tf_p_val=dict()\n",
    "tf_ct_p_vals=dict()\n",
    "tf_ct_mean=dict()\n",
    "for ct in np.unique(adata.obs[\"cell_types\"]):\n",
    "    print(\"Calculating TF activities for \"+ct+\" cells\")\n",
    "    tf[ct], tf_p_val[ct] =models[ct].get_projD(\n",
    "        adata[adata.obs[\"cell_types\"] == ct].obsm[\"protein\"],\n",
    "        n_trials=100 \n",
    "    )\n",
    "\n",
    "    tf_ct_p_vals[ct]=(tf_p_val[ct]<0.15).mean()\n",
    "    tf_ct_mean[ct]=tf[ct].mean()\n",
    "    \n",
    "adata.obsm[\"tf\"]=pd.concat(tf, axis=1, join=\"inner\").T\n",
    "adata.obsm[\"tf_p_val\"]=pd.concat(tf_p_val, axis=1, join=\"inner\").T\n",
    "tf_ct_p_vals=pd.concat(tf_ct_p_vals)\n",
    "tf_ct_mean=pd.concat(tf_ct_mean)\n",
    "pd.concat(tf, axis=1, join=\"inner\")"
   ]
  },
  {
   "cell_type": "markdown",
   "metadata": {},
   "source": [
    "Create a dotplot of the importance of TFs across cell-types using seaborn.  We plot only the subset of TFs that are important to the transcriptional program of at least one cell-type."
   ]
  },
  {
   "cell_type": "code",
   "execution_count": null,
   "metadata": {
    "pycharm": {
     "name": "#%%\n"
    }
   },
   "outputs": [],
   "source": [
    "tfs_to_plot=tf_ct.min().sort_values().tail(60).index\n",
    "tf_ct_mean=tf_ct_mean.divide(\n",
    "    np.sqrt(np.square(tf_ct_mean).sum(axis=1)),\n",
    "    axis=0)\n",
    "\n",
    "plot_df=pd.melt(tf_ct_mean.reset_index(), id_vars='index')\n",
    "\n",
    "plot_df['p_val']=pd.melt(\n",
    "    tf_ct_p_vals.reset_index(), id_vars='index')['value']\n",
    "plot_df.columns=[\"TF\", \"Cell_Type\", \"TF_Activity\", \"Proportion_Significant\"]\n",
    "\n",
    "ax =sns.scatterplot(\n",
    "    data=plot_df.query(\"Proportion_Significant>0.5\"),\n",
    "    y=\"Cell_Type\", x=\"TF\", hue=\"TF_Activity\", size=\"Proportion_Significant\",\n",
    "    palette=\"PiYG\",sizes=(0, 250), hue_norm=(-0.8, 0.8)\n",
    ")\n",
    "\n",
    "#ax.set_xticklabels(ax.get_xticklabels(),rotation = 90)\n",
    "plt.legend(bbox_to_anchor=(0,-2),\n",
    "           loc='upper left',\n",
    "           borderaxespad=0)\n"
   ]
  },
  {
   "cell_type": "markdown",
   "metadata": {
    "pycharm": {
     "name": "#%% md\n"
    }
   },
   "source": [
    "# 4. Identifying TF-protein relationships\n",
    "\n",
    "The matrix $W$ in the model can be interpreted as interactions between TFs and proteins.  However, due to different proteins being expressed on different scales, we instead look at the correlations between protein expressions ($P$) and the inferred TF activity ($WP^T$).  The `get_tf_protein_cor` is used to compute the correlation matrix using all cells in the training data.  The function returns a data frame with TFs as columns and proteins as rows."
   ]
  },
  {
   "cell_type": "code",
   "execution_count": null,
   "metadata": {
    "pycharm": {
     "name": "#%%\n"
    },
    "scrolled": false
   },
   "outputs": [],
   "source": [
    "protein_tf=model_cd14.get_tf_protein_cor()\n",
    "protein_tf.head()"
   ]
  },
  {
   "cell_type": "markdown",
   "metadata": {
    "pycharm": {
     "name": "#%% md\n"
    }
   },
   "source": [
    "Repeat the process for each cell type of interest, and store the results in a dictionary."
   ]
  },
  {
   "cell_type": "code",
   "execution_count": null,
   "metadata": {
    "pycharm": {
     "name": "#%%\n"
    }
   },
   "outputs": [],
   "source": [
    "protein_tf=dict()\n",
    "for ct in np.unique(adata.obs[\"cell_types\"]):\n",
    "    protein_tf[ct]=models[ct].get_tf_protein_cor()"
   ]
  },
  {
   "cell_type": "markdown",
   "metadata": {
    "pycharm": {
     "name": "#%%\n"
    }
   },
   "source": [
    "plot the results for the relevant TFs for each cell type ..."
   ]
  }
 ],
 "metadata": {
  "kernelspec": {
   "display_name": "Python 3",
   "language": "python",
   "name": "python3"
  },
  "language_info": {
   "codemirror_mode": {
    "name": "ipython",
    "version": 3
   },
   "file_extension": ".py",
   "mimetype": "text/x-python",
   "name": "python",
   "nbconvert_exporter": "python",
   "pygments_lexer": "ipython3",
   "version": "3.8.5"
  }
 },
 "nbformat": 4,
 "nbformat_minor": 1
}
