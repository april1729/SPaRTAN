{
 "cells": [
  {
   "cell_type": "code",
   "execution_count": 1,
   "metadata": {
    "pycharm": {
     "name": "#%%\n"
    }
   },
   "outputs": [],
   "source": [
    "import scanpy as sc\n",
    "import seaborn as sns\n",
    "import matplotlib as mpl\n",
    "import pandas as pd\n",
    "from matplotlib import pyplot as plt\n",
    "from scipy.sparse import find\n",
    "import numpy as np"
   ]
  },
  {
   "cell_type": "code",
   "execution_count": 4,
   "metadata": {
    "pycharm": {
     "name": "#%%\n"
    }
   },
   "outputs": [],
   "source": [
    "\n",
    "#!/usr/bin/env python3\n",
    "# -*- coding: utf-8 -*-\n",
    "# =============================================================================\n",
    "# Created By  : Xiaojun Ma\n",
    "# Created Date: Mar 18 10:54:00 PDT 2020\n",
    "# =============================================================================\n",
    "\"\"\"\n",
    "This script contains the major class of SPaRTAN model and its dependencies.\n",
    "\n",
    "This script requires numpy, Scipy, matplotlib to be installed within the Python\n",
    "environment you are running this script in\n",
    "\n",
    "This script requires Cython modules present in the current directory\n",
    "\n",
    "This file contains the following classes and functions\n",
    "\n",
    "    class Timer: a class to convert time period in seconds to the format of h:m:s\n",
    "\n",
    "    class pySPaRTAN: The major class for SPaRTAN, establishing an interaction matrix between\n",
    "    surface proteins (P) and TFs (D) that predict target gene expression (Y).\n",
    "\n",
    "    function normalize_column(): perform l2 normalization column-wize of given matrix\n",
    "\n",
    "\"\"\"\n",
    "import numpy as np\n",
    "import cythKronPlus as krnP\n",
    "import cythLeastR as leastR\n",
    "import scipy.linalg\n",
    "import functools\n",
    "import time\n",
    "import gc\n",
    "# import matplotlib.pyplot as plt\n",
    "from scipy import stats\n",
    "\n",
    "class Timer:\n",
    "    \"\"\" a class to convert time in seconds to the format of h:m:s\n",
    "\n",
    "    Methods\n",
    "    -------\n",
    "    def __init__(self):\n",
    "        initiate a timer\n",
    "\n",
    "    def restart(self):\n",
    "        restart a timer\n",
    "\n",
    "    def get_time_hhmmss(self):\n",
    "        return the period = end_time - start_time in (h, m, s) format\n",
    "\n",
    "    \"\"\"\n",
    "\n",
    "    def __init__(self):\n",
    "        # initiate a timer\n",
    "        self.start = time.time()\n",
    "\n",
    "    def restart(self):\n",
    "        # restart a timer\n",
    "        self.start = time.time()\n",
    "\n",
    "    def get_time_hhmmss(self):\n",
    "        # return the period = end_time - start_time\n",
    "        # in (h, m, s) format\n",
    "        end = time.time()\n",
    "        m, s = divmod(end - self.start, 60)\n",
    "        h, m = divmod(m, 60)\n",
    "        time_str = \"%02d:%02d:%02d\" % (h, m, s)\n",
    "        return time_str\n",
    "\n",
    "def normalize_column(A, T=0):\n",
    "    \"\"\" perform l2 normalization column-wize of given matrix\n",
    "\n",
    "    Parameters:\n",
    "        A : the matrix that works on\n",
    "        T : switch of column-wize and row-wize.\n",
    "            T=0: column-wize\n",
    "            T=1: row-wize\n",
    "\n",
    "    \"\"\"\n",
    "    if (T == 0):\n",
    "        return np.divide(A, np.sqrt(np.sum(A**2, 0)))\n",
    "    else:\n",
    "        At = np.transpose(A)\n",
    "        return np.transpose(np.divide(At, np.sqrt(np.sum(At**2, 0))))\n",
    "\n",
    "class SPaRTAN:\n",
    "    \"\"\"\n",
    "    The major class for SPaRTAN, establishing an interaction matrix between\n",
    "    surface proteins (P) and TFs (D) that predicts target gene expression (Y).\n",
    "\n",
    "    Methods\n",
    "    -------\n",
    "    fit(self, D, P, Y, lamda=0.001, rsL2=0.001,\n",
    "        spectrumP=0.7):\n",
    "        train a SPaRTAN model\n",
    "\n",
    "    ar_model2w(self):\n",
    "        converts a trained model to intermidiat vaiable W\n",
    "\n",
    "    ar_reconstruction(self, pred_test=None):\n",
    "        reconstruction function\n",
    "\n",
    "    predict(self, P_test=None):\n",
    "        predict target gene expression\n",
    "\n",
    "    get_corr(self, Y_pred, Y_test, plot=False):\n",
    "        get the correlation between predicted Y_pred and Y_test\n",
    "\n",
    "    get_W(self):\n",
    "        get coefficient matrix\n",
    "\n",
    "    get_projP(self, Y=None):\n",
    "        get projected protein expression\n",
    "\n",
    "    get_projD(self, P=None):\n",
    "        get projected TF activity\n",
    "    \"\"\"\n",
    "    def __init__(self, lamda=0.01, alpha=0.5, corrtype='spearman',grid_search_steps=5, verbose=False, solver=\"SVD\"):\n",
    "        self.solver=solver\n",
    "        self.lamda=lamda\n",
    "        self.alpha=alpha\n",
    "        self.corrtype=corrtype\n",
    "        self.grid_search_steps=grid_search_steps\n",
    "        self.verbose=verbose\n",
    "\n",
    "    def fit(self, adata=None, D=\"tf-gene\", P=\"protein\", Y=\"logp1\"):\n",
    "        if adata is not None:\n",
    "            D=adata.varm[D]\n",
    "            P=adata.obsm[P]\n",
    "            Y=adata.layers[Y]\n",
    "        D=np.asarray(D)\n",
    "        P=np.asarray(P)\n",
    "        Y=np.asarray(Y)\n",
    "\n",
    "        if len(self.lamda)>1 or len(self.alpha)>1:\n",
    "            self.lamda, self.alpha=self._cv_grid_search(self, D, P, Y)\n",
    "\n",
    "        self.YTD=Y.T.dot(D)\n",
    "        self.P=P\n",
    "        self.YTY=Y.T.dot(Y)\n",
    "        self.Y=Y\n",
    "        self.D=D\n",
    "\n",
    "        self.svdYTD=np.linalg.svd(self.YTD)\n",
    "        self.svdP=np.linalg.svd(self.P)\n",
    "\n",
    "        self._fit(self.lamda,self.alpha)\n",
    "\n",
    "    def _cv_grid_search(self, D, P, Y):\n",
    "\n",
    "        n_steps=5\n",
    "\n",
    "        alpha_list=np.linspace(self.alpha[0], self.alpha[1], num=n_steps)\n",
    "        lamda_list=np.geomspace(self.lamda[0], self.lamda[1], num=n_steps)\n",
    "\n",
    "        best_lamda=[None]*5\n",
    "        best_alpha=[None]*5\n",
    "        folds=np.round(np.random.rand(P.shape[0])*5)\n",
    "\n",
    "        for fold in range(5):\n",
    "            P_train=P[folds==fold,:]\n",
    "            P_test=P[not folds==fold,:]\n",
    "            Y_train=Y[folds==fold,:]\n",
    "            Y_test=Y[not folds==fold,:]\n",
    "\n",
    "            self.YTD=Y_train.T.dot(D)\n",
    "            self.P=P_train\n",
    "            self.YTY=Y_train.T.dot(Y_train)\n",
    "            self.Y=Y_train\n",
    "            self.D=D\n",
    "\n",
    "            self.svdYTD=np.linalg.svd(self.YTD)\n",
    "            self.svdP=np.linalg.svd(self.P)\n",
    "\n",
    "            best_score=0\n",
    "            for l in lamda_list:\n",
    "                for a in alpha_list:\n",
    "                    self._fit(l,a)\n",
    "                    s=self.score(P_test, Y_test)\n",
    "                    if s>best_score:\n",
    "                        best_lamda[fold]=l\n",
    "                        best_alpha[fold]=a\n",
    "\n",
    "        alpha=np.mean(best_alpha)\n",
    "        lamda=np.mean(best_lamda)\n",
    "\n",
    "        return (lamda, alpha)\n",
    "\n",
    "    def _fit(self,l,a):\n",
    "        if self.solver==\"SVD\":\n",
    "            self.W=aff_reg_svd(self, self.YTD, self.P, self.YTY,l, svdA=self.svdYTD, svdB=self.svdP)\n",
    "\n",
    "        elif self.solver==\"Kron\":\n",
    "            self.W=aff_reg_kron(self, self.D, self.P, self.Y,l*a,l*(1-a), svdA=self.svdYTD, svdB=self.svdP)\n",
    "\n",
    "    def ar_reconstruction(self, pred_test=None):\n",
    "        \"\"\" reconstruction function\n",
    "        Parameters\n",
    "        ----------\n",
    "        pred_test: prediction on test data\n",
    "\n",
    "        \"\"\"\n",
    "        A = self.Y.T @ pred_test\n",
    "        B = scipy.linalg.orth(self.Y)\n",
    "        cm = scipy.linalg.lstsq(B, self.Y)[0]\n",
    "        ct = scipy.linalg.lstsq(cm.T, A)[0]\n",
    "        pred = B @ ct\n",
    "        return pred\n",
    "\n",
    "    def predict(self, P_test=None):\n",
    "        \"\"\" predict target gene expression\n",
    "\n",
    "        Parameters\n",
    "        ----------\n",
    "        P_test: Protein expression on test data\n",
    "\n",
    "        Returns\n",
    "        -------\n",
    "        Y_pred: array of shape (N, Mtest)\n",
    "                The predicted Y matrix on test data set which has N genes and Mtest cells\n",
    "        \"\"\"\n",
    "\n",
    "        pred = self.D @ (self.W @ P_test.T)\n",
    "\n",
    "        aff_rec = self.ar_reconstruction(pred)\n",
    "\n",
    "        self.Y_pred = aff_rec\n",
    "        return self.Y_pred\n",
    "\n",
    "    def score(P_test, Y_test):\n",
    "        pass\n",
    "\n",
    "    def get_W(self):\n",
    "        # get coefficient matrix\n",
    "        return self.W\n",
    "\n",
    "    def get_projP(self, Y=None):\n",
    "        \"\"\" get projected protein expression\n",
    "\n",
    "        Parameters\n",
    "        ----------\n",
    "        Y:  array of shape (optional, default is (N, M))\n",
    "            input gene expression with N genes and M cells\n",
    "\n",
    "        Returns\n",
    "        -------\n",
    "        projP: array of shape (M, S)\n",
    "               projected protein expression with M cells and S proteins\n",
    "\n",
    "        \"\"\"\n",
    "        if Y is None:\n",
    "            Y = self.Y\n",
    "        W = self.W\n",
    "        return (Y.T @ self.D @ W).T\n",
    "\n",
    "    def get_projD(self, P=None):\n",
    "        \"\"\" get projected TF activity\n",
    "        Parameters\n",
    "        ----------\n",
    "        P: array of shape (optional, default is (M, S) )\n",
    "           input protein expression with M cells and S proteins\n",
    "\n",
    "        Returns\n",
    "        -------\n",
    "        projD:  array of shape (Q, M)\n",
    "            projected TF activities with Q TFs and M cells\n",
    "\n",
    "        \"\"\"\n",
    "\n",
    "        if P is None:\n",
    "            P = self.P\n",
    "        W = self.W\n",
    "        return W @ P.T\n",
    "\n",
    "def aff_reg_kron(D, P, Y,l1,l2, svdA=None, svdB=None):\n",
    "\n",
    "    \"\"\" trains a SPaRTAN model\n",
    "\n",
    "    Parameters\n",
    "    ----------\n",
    "    D : array of shape (N, Q)\n",
    "        The data matrix with N genes and Q TFs\n",
    "\n",
    "    P : array of shape (M, S)\n",
    "        The data matrix with M cells and S proteins\n",
    "\n",
    "    Y : array of shape (N, M)\n",
    "        The data matrix with N genes and M cells\n",
    "\n",
    "    lamda : float > 0, default=0.001\n",
    "        LASSO regularization for linear regression\n",
    "\n",
    "    rsL2 : float > 0, default=0.001\n",
    "        ridge regularization for linear regression\n",
    "\n",
    "    corrtype: string, default='spearman'\n",
    "        correlation type used to evaluate the performance\n",
    "\n",
    "    \"\"\"\n",
    "\n",
    "    spectrumA = 1\n",
    "    spectrumP = 0.7\n",
    "\n",
    "\n",
    "    # transformation\n",
    "    A = Y.T @ D\n",
    "    B = P.T\n",
    "    Y = Y.T @ Y\n",
    "\n",
    "    # SVD(A) SVD(B)\n",
    "    if svdA is None:\n",
    "        svdA= np.linalg.svd(A)\n",
    "    if svdB is None:\n",
    "        svdB=np.linalg.svd(B)\n",
    "\n",
    "    UA, SA, VhA = svdA\n",
    "    VA = VhA.T\n",
    "    UB, SB, VhB = svdB\n",
    "    VB = VhB.T\n",
    "\n",
    "    a_cum_spectrum = np.cumsum(SA) / sum(SA)\n",
    "    b_cum_spectrum = np.cumsum(SB) / sum(SB)\n",
    "\n",
    "    da = np.nonzero(a_cum_spectrum >= spectrumA)[0][0] + 1\n",
    "    db = np.nonzero(b_cum_spectrum >= spectrumP)[0][0] + 1\n",
    "\n",
    "    Ua = UA[:, :da]\n",
    "    Sa = SA[:da]\n",
    "    Va = VA[:, :da]\n",
    "\n",
    "    Ub = UB[:, :db]\n",
    "    Sb = SB[:db]\n",
    "    Vb = VB[:, :db]\n",
    "\n",
    "    Yv = (Y.T).flatten()\n",
    "\n",
    "    Vb = Vb.copy(order='C')\n",
    "    Ua = Ua.copy(order='C')\n",
    "    L = krnP.kron(Vb, Ua)\n",
    "\n",
    "    d = np.eye(Y.shape[0], Y.shape[1])\n",
    "    cidex = np.where(d.flatten() != 0)\n",
    "    diag = np.array(cidex, dtype=np.int32).flatten()\n",
    "\n",
    "    # make it c-like contiguous array\n",
    "    Yv = Yv.copy(order='C')\n",
    "    diag = diag.copy(order='C')\n",
    "\n",
    "    L, Yv = krnP.removeDiagC(L, Yv, diag)\n",
    "\n",
    "    opts = dict()\n",
    "    opts['rsL2'] = l2\n",
    "\n",
    "    # reshape Yv to 2darry\n",
    "    Yv = Yv.reshape(Yv.shape[0], 1)\n",
    "    beta, b = leastR.LeastR(L, Yv, l1, opts)\n",
    "\n",
    "    del L, Yv\n",
    "    gc.collect()\n",
    "\n",
    "    Sa = np.diag(Sa)\n",
    "    Sb = np.diag(Sb)\n",
    "\n",
    "    m1 = Va\n",
    "    m2 = np.linalg.pinv(Sa)\n",
    "    m3 = beta.reshape(Va.shape[1], Ub.shape[1], order=\"F\")\n",
    "    m4 = np.linalg.pinv(Sb)\n",
    "    m5 = Ub.T\n",
    "    W = m1 @ m2 @ m3 @ m4 @ m5\n",
    "\n",
    "    return W\n",
    "\n",
    "def aff_reg_svd(a, b, c, l2, svdA=None, svdB=None):\n",
    "\n",
    "    (d1, d2)=a.shape\n",
    "    (d3, d4)=b.shape\n",
    "\n",
    "\n",
    "\n",
    "    if svdA is None:\n",
    "        [ua,sa,va]=np.linalg.svd(a, full_matrices=False)\n",
    "    else:\n",
    "        [ua,sa,va]=svdA\n",
    "    if svdB is None:\n",
    "        [ub,sb,vb]=np.linalg.svd(b, full_matrices=False)\n",
    "    else:\n",
    "        [ub,sb,vb]=svdB\n",
    "\n",
    "    scale=np.multiply(sa.reshape((len(sa), 1)), sb.reshape((1,len(sb)))) **2\n",
    "    scale=np.divide(1, scale+(d1*d4*l2))\n",
    "\n",
    "    return va.T.dot(np.multiply(scale, va.dot(a.T.dot(c).dot(b.T)).dot(ub))).dot(ub.T)\n",
    "\n",
    "def clr(X):\n",
    "    if type(X) is pd.DataFrame:\n",
    "        x=X.to_numpy()\n",
    "    else:\n",
    "        x=X.copy()\n",
    "    x_norm=np.log1p(x/np.exp(np.mean(np.log1p(x), axis=1)).reshape((-1,1)))\n",
    "    if type(X) is pd.DataFrame:\n",
    "        x_norm=pd.DataFrame(x_norm, columns=X.columns, index=X.index)\n",
    "    return x_norm\n",
    "\n",
    "def load_dorthea():\n",
    "    return pd.read_csv(\"data/GenevsTF_SPaRTAN_sample.csv\", index_col=0)"
   ]
  },
  {
   "cell_type": "markdown",
   "metadata": {},
   "source": [
    "# 1. Data pre-processing"
   ]
  },
  {
   "cell_type": "code",
   "execution_count": null,
   "metadata": {
    "pycharm": {
     "name": "#%%\n"
    }
   },
   "outputs": [],
   "source": [
    "#!wget https://cf.10xgenomics.com/samples/cell-exp/3.1.0/5k_pbmc_protein_v3_nextgem/5k_pbmc_protein_v3_nextgem_filtered_feature_bc_matrix.h5 -O data/cite-seq/5k_pbmc_protein_v3_nextgem_filtered_feature_bc_matrix.h5"
   ]
  },
  {
   "cell_type": "code",
   "execution_count": 5,
   "metadata": {
    "pycharm": {
     "name": "#%%\n"
    }
   },
   "outputs": [
    {
     "name": "stderr",
     "output_type": "stream",
     "text": [
      "Variable names are not unique. To make them unique, call `.var_names_make_unique`.\n"
     ]
    }
   ],
   "source": [
    "pbmc=sc.read_10x_h5(\"data/cite-seq/5k_pbmc_protein_v3_nextgem_filtered_feature_bc_matrix.h5\", gex_only=False)\n",
    "pbmc.var_names_make_unique()\n",
    "pbmc.layers[\"counts\"] = pbmc.X.copy()\n",
    "sc.pp.filter_genes(pbmc, min_counts=1)"
   ]
  },
  {
   "cell_type": "markdown",
   "metadata": {},
   "source": [
    "## 1.1 Normalize data"
   ]
  },
  {
   "cell_type": "code",
   "execution_count": 6,
   "metadata": {
    "pycharm": {
     "name": "#%%\n"
    }
   },
   "outputs": [
    {
     "name": "stderr",
     "output_type": "stream",
     "text": [
      "/Users/sagana/opt/anaconda3/lib/python3.8/site-packages/scanpy/preprocessing/_normalization.py:155: UserWarning: Revieved a view of an AnnData. Making a copy.\n",
      "  view_to_actual(adata)\n"
     ]
    }
   ],
   "source": [
    "rna = pbmc[:, pbmc.var[\"feature_types\"] == \"Gene Expression\"].copy()\n",
    "rna.var['mt'] = rna.var_names.str.startswith('MT-')\n",
    "sc.pp.calculate_qc_metrics(rna, qc_vars=['mt'], percent_top=None, log1p=False, inplace=True)\n",
    "rna=rna[rna.obs.query(\"n_genes_by_counts < 5000 and pct_counts_mt<30\").index]\n",
    "rna.layers[\"normalize_total\"]=sc.pp.normalize_total(rna,target_sum=1000000, layer=\"counts\", inplace=False)['X']\n",
    "sc.pp.log1p(rna)\n",
    "rna.layers[\"log1p\"]=rna.X"
   ]
  },
  {
   "cell_type": "code",
   "execution_count": 7,
   "metadata": {
    "pycharm": {
     "name": "#%%\n"
    }
   },
   "outputs": [],
   "source": [
    "protein = pbmc[rna.obs_names, pbmc.var[\"feature_types\"] == \"Antibody Capture\"].copy()\n",
    "protein=protein[:, [ x  for x in protein.var_names if \"control\" not in x]]\n",
    "protein.layers[\"clr\"]=clr(protein.to_df())\n",
    "protein.X=protein.layers[\"clr\"]"
   ]
  },
  {
   "cell_type": "markdown",
   "metadata": {},
   "source": [
    "## 1.2 Clustering and assigning cell-types\n",
    "SPaRTAN performs best when used to model data from different cell types seperately.  Several methods exist for cell-type assignments from CITE-Seq data.  For the purposes of this demonstration, we use the Leiden algorithm to cluster the data using both gene and protein expression, and then manually map the clusters to cell types based on the mean expression of the marker genes and proteins for each cluster.  The process is ommited here, but shown available on the SPaRTAN Github repository.\n",
    "\n",
    "| Cell Type          | Marker Genes         | Marker Proteins |\n",
    "|--------------------|----------------------|-----------------|\n",
    "| CD8+               | CD8A,  CD8B,  FCER1G | CD8a, CD4       |\n",
    "| Naive CD4+ T       | IL7R,  CCR7,  CD3E   | CD45RA, CD4     |\n",
    "| Memory CD4+        | IL7R, S100A4, CD3E   | CD45RO, CD4     |\n",
    "| NK                 | GNLY,  NKG7          | CD56            |\n",
    "| DC                 | FCER1A, CST3         |                 |\n",
    "| CD14+ Mono         | CD14, LYZ            | CD14            |\n",
    "| FCGR3A+/CD16+ Mono | FCGR3A, MS4A7        | CD16            |\n",
    "| B                  | MS4A1                | CD20,  CD19     |\n",
    "\n",
    "\n"
   ]
  },
  {
   "cell_type": "code",
   "execution_count": 8,
   "metadata": {
    "pycharm": {
     "name": "#%%\n"
    }
   },
   "outputs": [],
   "source": [
    "\n",
    "def join_graphs_max(g1: \"sparse.spmatrix\", g2: \"sparse.spmatrix\"):\n",
    "    \"\"\"Take the maximum edge value from each graph.\"\"\"\n",
    "    out = g1.copy()\n",
    "    mask = g1 < g2\n",
    "    out[mask] = g2[mask]\n",
    "\n",
    "    return out"
   ]
  },
  {
   "cell_type": "code",
   "execution_count": 9,
   "metadata": {
    "pycharm": {
     "name": "#%%\n"
    }
   },
   "outputs": [
    {
     "name": "stderr",
     "output_type": "stream",
     "text": [
      "/Users/sagana/opt/anaconda3/lib/python3.8/site-packages/scipy/sparse/_index.py:125: SparseEfficiencyWarning: Changing the sparsity structure of a csr_matrix is expensive. lil_matrix is more efficient.\n",
      "  self._set_arrayXarray(i, j, x)\n",
      "... storing 'feature_types' as categorical\n",
      "... storing 'genome' as categorical\n"
     ]
    },
    {
     "data": {
      "image/png": "[encoded data removed]",
      "text/plain": [
       "<Figure size 432x288 with 1 Axes>"
      ]
     },
     "metadata": {},
     "output_type": "display_data"
    }
   ],
   "source": [
    "sc.pp.pca(protein, n_comps=20)\n",
    "sc.pp.neighbors(protein, n_neighbors=30)\n",
    "\n",
    "protein.obsp[\"protein_connectivities\"] = protein.obsp[\"connectivities\"].copy()\n",
    "\n",
    "sc.pp.pca(rna)\n",
    "sc.pp.neighbors(rna, n_neighbors=30)\n",
    "\n",
    "rna.obsm[\"protein\"] = protein.to_df()\n",
    "\n",
    "rna.obsp[\"rna_connectivities\"] = rna.obsp[\"connectivities\"].copy()\n",
    "rna.obsp[\"protein_connectivities\"] = protein.obsp[\"protein_connectivities\"]\n",
    "rna.obsp[\"connectivities\"] = join_graphs_max(rna.obsp[\"rna_connectivities\"], rna.obsp[\"protein_connectivities\"])\n",
    "\n",
    "sc.tl.leiden(rna, key_added=\"joint_leiden\")\n",
    "sc.tl.umap(rna)\n",
    "sc.pl.umap(rna, color=[\"joint_leiden\"], size=5)"
   ]
  },
  {
   "cell_type": "code",
   "execution_count": 10,
   "metadata": {
    "pycharm": {
     "name": "#%%\n"
    }
   },
   "outputs": [
    {
     "name": "stderr",
     "output_type": "stream",
     "text": [
      "Trying to set attribute `.X` of view, copying.\n",
      "/Users/sagana/opt/anaconda3/lib/python3.8/site-packages/scipy/sparse/_index.py:125: SparseEfficiencyWarning: Changing the sparsity structure of a csr_matrix is expensive. lil_matrix is more efficient.\n",
      "  self._set_arrayXarray(i, j, x)\n",
      "... storing 'feature_types' as categorical\n",
      "... storing 'genome' as categorical\n"
     ]
    },
    {
     "data": {
      "image/png": "[encoded data removed]",
      "text/plain": [
       "<Figure size 880.56x273.6 with 5 Axes>"
      ]
     },
     "metadata": {
      "needs_background": "light"
     },
     "output_type": "display_data"
    }
   ],
   "source": [
    "marker_genes={\"CD8+\": [\"CD8A\",\"CD8B\",\"CD8a_TotalSeqB\",\"CD4_TotalSeqB\",\"FCER1G\"],\n",
    "              \"Naive CD4+ T\": [\"IL7R\", \"CCR7\",\"CD3E\",\"CD45RA_TotalSeqB\",\"CD4_TotalSeqB\"],\n",
    "              \"Memory CD4+\": [\"IL7R\", \"S100A4\",\"CD3E\",\"CD45RO_TotalSeqB\",\"CD4_TotalSeqB\"],\n",
    "              \"NK\": [\"GNLY\", \"NKG7\", \"CD56_TotalSeqB\"],\n",
    "              \"DC\": [\"FCER1A\", \"CST3\"],\n",
    "              \"CD14+ Mono\": [\"CD14\", \"LYZ\", \"CD14_TotalSeqB\"],\n",
    "              \"FCGR3A+/CD16+ Mono\": [\"FCGR3A\", \"MS4A7\", \"CD16_TotalSeqB\"],\n",
    "              \"B\": [\"MS4A1\", \"CD20_TotalSeqB\", \"CD19_TotalSeqB\"]\n",
    "              }\n",
    "\n",
    "pbmc=pbmc[rna.obs_names,[ x  for x in pbmc.var_names if \"control\" not in x]]\n",
    "pbmc.X[:, (pbmc.var[\"feature_types\"] == \"Gene Expression\").values] = rna.X\n",
    "pbmc.X[:, (pbmc.var[\"feature_types\"] == \"Antibody Capture\").values] = protein.X\n",
    "pbmc.obsm.update(rna.obsm)\n",
    "pbmc.obs[rna.obs.columns] = rna.obs\n",
    "\n",
    "\n",
    "sc.pl.dotplot(  # Should we use z-scores for the hue in these?\n",
    "    pbmc,\n",
    "    marker_genes,\n",
    "    groupby=\"joint_leiden\",\n",
    "    standard_scale=\"var\"\n",
    ")"
   ]
  },
  {
   "cell_type": "code",
   "execution_count": 11,
   "metadata": {
    "pycharm": {
     "name": "#%%\n"
    }
   },
   "outputs": [],
   "source": [
    "joint_mapping = {\n",
    "    \"0\": \"CD14+ Mono\",\n",
    "    \"1\": \"CD4+ Naive T\",\n",
    "    \"2\": \"CD4+ Memory T\",\n",
    "    \"3\": \"CD8+\",\n",
    "    \"4\": \"NK\",\n",
    "    \"5\": \"B\",\n",
    "    \"6\": \"FCGR3A+/CD16+ Mono\",\n",
    "    \"7\": \"CD\",\n",
    "}\n",
    "\n",
    "pbmc.obs[\"cell_types\"] = pbmc.obs[\"joint_leiden\"].map(joint_mapping)\n",
    "\n",
    "#sc.pl.umap(pbmc, color=\"cell_types\")"
   ]
  },
  {
   "cell_type": "markdown",
   "metadata": {},
   "source": [
    "## 1.3 TF-Gene binding data\n",
    "\n",
    "A dataframe containing interactions between TFs and genes is loaded and stored as a variable as follows.  The dataframe has a column for each TF and a row for each gene, with entries being either zero or one indicating if a TF and gene are recorded as interacting in the DoRethEA database.  We use an abridged version of the database, with TFs and genes being filtered out if they have too few interactions."
   ]
  },
  {
   "cell_type": "code",
   "execution_count": 18,
   "metadata": {
    "pycharm": {
     "name": "#%%\n"
    }
   },
   "outputs": [],
   "source": [
    "tf_gene=load_dorthea()"
   ]
  },
  {
   "cell_type": "markdown",
   "metadata": {
    "pycharm": {
     "name": "#%% md\n"
    }
   },
   "source": [
    "We store the dataframe in our AnnData object after keeping only the genes present in both the TF-gene interaction matrix and the CITE-seq dataset."
   ]
  },
  {
   "cell_type": "code",
   "execution_count": 16,
   "metadata": {
    "pycharm": {
     "name": "#%%\n"
    }
   },
   "outputs": [],
   "source": [
    "common_genes=np.intersect1d(tf_gene.index, pbmc.var_names)\n",
    "tf_gene=tf_gene.loc[common_genes]\n",
    "pbmc=pbmc[:,common_genes]\n",
    "\n",
    "pbmc.varm[\"tf_gene\"]=tf_gene"
   ]
  },
  {
   "cell_type": "markdown",
   "metadata": {},
   "source": [
    "# 2. Fitting SPaRTAN Models for each cell-type\n",
    "\n",
    "To recap, after successfully completing step 1, we have an AnnData object with the following fields.\n",
    "\n",
    "- adata.layers[\"log1p\"]\n",
    "- adata.obsm[\"protein\"]\n",
    "- adata.varm[\"tf_gene\"]\n",
    "- adata.obs[\"cell_type\"]]\n",
    "\n",
    "We can verify that each of these fields are present by printing the model."
   ]
  },
  {
   "cell_type": "code",
   "execution_count": 21,
   "metadata": {
    "pycharm": {
     "name": "#%%\n"
    }
   },
   "outputs": [
    {
     "name": "stdout",
     "output_type": "stream",
     "text": [
      "AnnData object with n_obs × n_vars = 4657 × 8087\n",
      "    obs: 'n_genes_by_counts', 'total_counts', 'total_counts_mt', 'pct_counts_mt', 'joint_leiden', 'cell_types'\n",
      "    var: 'gene_ids', 'feature_types', 'genome', 'n_counts'\n",
      "    obsm: 'X_pca', 'protein', 'X_umap'\n",
      "    varm: 'tf_gene'\n",
      "    layers: 'counts'\n"
     ]
    }
   ],
   "source": [
    "print(pbmc)"
   ]
  },
  {
   "cell_type": "markdown",
   "metadata": {
    "pycharm": {
     "name": "#%% md\n"
    }
   },
   "source": [
    "In order to evaluate the models performace, we will train the model using 80% of all cells in the dataset, and reserve the remaining 20% to be used only for testing the models ability to predict gene expression based on surface protein expression."
   ]
  },
  {
   "cell_type": "code",
   "execution_count": 22,
   "metadata": {
    "pycharm": {
     "name": "#%%\n"
    }
   },
   "outputs": [],
   "source": [
    "pbmc.obs[\"training\"]=np.random.rand(pbmc.n_obs)<0.8"
   ]
  },
  {
   "cell_type": "markdown",
   "metadata": {},
   "source": [
    "Because transcriptional regulation inter-cellular signalling are highly dependent on cell-types, we recommend training SPaRTAN separately on separate cell types.  We start by demonstrating with only CD14+ monocytes.  From the entire dataset, we extract two subsets: one for training the CD14+ monocyte model and one for evaluating the model."
   ]
  },
  {
   "cell_type": "code",
   "execution_count": 24,
   "metadata": {
    "pycharm": {
     "name": "#%%\n"
    }
   },
   "outputs": [],
   "source": [
    "adata_cd14_training=pbmc[(pbmc.obs[\"cell_types\"] == \"CD14+ Mono\") & (pbmc.obs[\"training\"] == True)]\n",
    "adata_cd14_testing =pbmc[(pbmc.obs[\"cell_types\"] == \"CD14+ Mono\") & (pbmc.obs[\"training\"] == False)]"
   ]
  },
  {
   "cell_type": "markdown",
   "metadata": {},
   "source": []
  },
  {
   "cell_type": "code",
   "execution_count": null,
   "metadata": {
    "pycharm": {
     "is_executing": true,
     "name": "#%%\n"
    },
    "scrolled": true
   },
   "outputs": [],
   "source": [
    "model= SPaRTAN(lamda=[0.001, 1], alpha=[0,1], folds=5, grid_search_steps=5)"
   ]
  },
  {
   "cell_type": "markdown",
   "metadata": {
    "pycharm": {
     "name": "#%% md\n"
    }
   },
   "source": [
    "The simpliest way to fit the model is by calling the .fit() function and providing the AnnData object containing the training data."
   ]
  },
  {
   "cell_type": "code",
   "execution_count": null,
   "metadata": {
    "pycharm": {
     "name": "#%%\n"
    }
   },
   "outputs": [],
   "source": [
    "model.fit(adata_cd14_training)"
   ]
  },
  {
   "cell_type": "markdown",
   "metadata": {
    "pycharm": {
     "name": "#%% md\n"
    }
   },
   "source": [
    "Alternatively, we can fit the model without using an AnnData structure by directly providing the three matrices needed: the gene expression (Y), the protien expression (P), and the tf-gene matrix (D)."
   ]
  },
  {
   "cell_type": "code",
   "execution_count": null,
   "metadata": {
    "pycharm": {
     "name": "#%%\n"
    }
   },
   "outputs": [],
   "source": [
    "gene_expression=adata_cd14_training.layers[\"logp1\"]\n",
    "protein=adata_cd14_training.obsm[\"protein\"]\n",
    "tf_gene_matrix=adata_cd14_training.varm[\"tf_gene\"]\n",
    "\n",
    "model.fit(Y=gene_expression, P=protein, D=tf_gene_matrix)"
   ]
  },
  {
   "cell_type": "markdown",
   "metadata": {
    "pycharm": {
     "name": "#%% md\n"
    }
   },
   "source": [
    "We can evaluate the perfomance using the score function, which predicts gene expression the each cell"
   ]
  },
  {
   "cell_type": "code",
   "execution_count": null,
   "metadata": {
    "pycharm": {
     "is_executing": true,
     "name": "#%%\n"
    }
   },
   "outputs": [],
   "source": [
    "model.score(adata_cd14_testing)"
   ]
  },
  {
   "cell_type": "markdown",
   "metadata": {},
   "source": [
    "Next, we extend repeat the process of fitting the SPaRTAN model"
   ]
  },
  {
   "cell_type": "code",
   "execution_count": null,
   "metadata": {
    "pycharm": {
     "name": "#%%\n"
    }
   },
   "outputs": [],
   "source": [
    "models=dict()\n",
    "\n",
    "for ct in np.unique(pbmc.obs[\"cell_types\"]):\n",
    "    adata_training=pbmc[(pbmc.obs[\"cell_types\"] == ct) & (pbmc.obs[\"training\"] == True)]\n",
    "    adata_testing =pbmc[(pbmc.obs[\"cell_types\"] == ct) & (pbmc.obs[\"training\"] == False)]\n",
    "\n",
    "    models[ct]= SPaRTAN()\n",
    "    models[ct].train(adata_training)\n",
    "\n",
    "    print(\"Mean prediction correlation for \"+ct+\" cells: \\t\"+str(model[ct].score(adata_testing)))"
   ]
  },
  {
   "cell_type": "markdown",
   "metadata": {
    "pycharm": {
     "name": "#%% md\n"
    }
   },
   "source": [
    "# 3. Infer TF Activites\n",
    "\n",
    "WP^T gives TF activites, permutation test gives p-values"
   ]
  },
  {
   "cell_type": "code",
   "execution_count": null,
   "metadata": {
    "pycharm": {
     "name": "#%%\n"
    }
   },
   "outputs": [],
   "source": [
    "tf, tf_p_val = model[\"CD14+ Mono\"].get_TF_activites(pbmc[(pbmc.obs[\"cell_types\"] == \"CD14+ Mono\")])"
   ]
  },
  {
   "cell_type": "markdown",
   "metadata": {
    "pycharm": {
     "name": "#%% md\n"
    }
   },
   "source": [
    "Repeat for all cts, store in adata"
   ]
  },
  {
   "cell_type": "code",
   "execution_count": null,
   "metadata": {},
   "outputs": [],
   "source": [
    "for ct in np.unique(pbmc.obs[\"cell_types\"]):\n",
    "    TF[ct]=model[ct].get_projD(pbmc[(pbmc.obs[\"cell_types\"] == ct)])\n",
    "    TF_sig[ct]=model[ct].get_projD(pbmc[(pbmc.obs[\"cell_types\"] == ct)])\n",
    "\n"
   ]
  },
  {
   "cell_type": "markdown",
   "metadata": {
    "pycharm": {
     "name": "#%% md\n"
    }
   },
   "source": [
    "# 4. Identifying TF-protein relationships\n",
    "correlations,"
   ]
  },
  {
   "cell_type": "code",
   "execution_count": null,
   "metadata": {
    "pycharm": {
     "name": "#%%\n"
    }
   },
   "outputs": [],
   "source": [
    "tf, tf_p_val = model[\"CD14+ Mono\"].get_TF_activites(pbmc[(pbmc.obs[\"cell_types\"] == \"CD14+ Mono\")])"
   ]
  },
  {
   "cell_type": "code",
   "execution_count": null,
   "metadata": {
    "pycharm": {
     "name": "#%%\n"
    }
   },
   "outputs": [],
   "source": [
    "for ct in np.unique(pbmc.obs[\"cell_types\"]):\n",
    "    TF[ct]=model[ct].get_projD(pbmc[(pbmc.obs[\"cell_types\"] == ct)])\n",
    "    TF_sig[ct]=model[ct].get_projD(pbmc[(pbmc.obs[\"cell_types\"] == ct)])"
   ]
  }
 ],
 "metadata": {
  "kernelspec": {
   "display_name": "Python 3",
   "language": "python",
   "name": "python3"
  },
  "language_info": {
   "codemirror_mode": {
    "name": "ipython",
    "version": 3
   },
   "file_extension": ".py",
   "mimetype": "text/x-python",
   "name": "python",
   "nbconvert_exporter": "python",
   "pygments_lexer": "ipython3",
   "version": "3.8.5"
  }
 },
 "nbformat": 4,
 "nbformat_minor": 1
}
