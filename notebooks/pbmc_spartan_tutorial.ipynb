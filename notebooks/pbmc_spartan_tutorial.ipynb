{
 "cells": [
  {
   "cell_type": "markdown",
   "metadata": {},
   "source": [
    "The pySPaRTAN package and the pipeline outlined in this chapter are designed around the Scanpy/scVerse ecosystem, which stores data as `AnnData` objects.  An AnnData object contains a data matrix with columns (observations) as cells and rows (variables) as genes or ADTs.  The object has dataframes `.obs` and `.var` containing information on each cell and each gene, respectively.  Additionally, the fields `.obsm` and `.varm` can be used to store additional dataframes with features describing the cells and genes.  For example, we will store the surface protein count matrix in `.obsm`."
   ]
  },
  {
   "cell_type": "markdown",
   "metadata": {},
   "source": [
    "## 1 Importing and pre-processing CITE-seq data\n",
    "\n",
    "Import all the packages used in the pipeline."
   ]
  },
  {
   "cell_type": "code",
   "execution_count": null,
   "metadata": {},
   "outputs": [],
   "source": [
    "import scanpy as sc\n",
    "import seaborn as sns\n",
    "import pandas as pd\n",
    "from matplotlib import pyplot as plt\n",
    "import numpy as np\n",
    "from sklearn.preprocessing import normalize\n",
    "\n",
    "import pySPaRTAN"
   ]
  },
  {
   "cell_type": "markdown",
   "metadata": {},
   "source": [
    "Load CITE-seq data into memory using one of Scanpy’s i/o functions. In this case, the counts for mRNA and protein ADTs are stored in the same .h5 file, and so we use the `sc.read_10x_h5` function. Refer to the Scanpy documentation for other formats, such as h5ad, loom, csv, or excel files, for example.\n",
    "\n",
    "After the data is loaded into an AnnData object, use the `var_names_make_unique` function appends a number to the end of gene names that are not unique.\n"
   ]
  },
  {
   "cell_type": "code",
   "execution_count": null,
   "metadata": {
    "pycharm": {
     "name": "#%%\n"
    }
   },
   "outputs": [
    {
     "name": "stderr",
     "output_type": "stream",
     "text": [
      "Variable names are not unique. To make them unique, call `.var_names_make_unique`.\n"
     ]
    }
   ],
   "source": [
    "#!wget https://cf.10xgenomics.com/samples/cell-exp/3.1.0/5k_pbmc_protein_v3_nextgem/5k_pbmc_protein_v3_nextgem_filtered_feature_bc_matrix.h5 -O ../data/cite-seq/5k_pbmc_protein_v3_nextgem_filtered_feature_bc_matrix.h5\n",
    "path=\"../data/cite-seq/5k_pbmc_protein_v3_nextgem_filtered_feature_bc_matrix.h5\"\n",
    "adata=sc.read_10x_h5(path, gex_only=False)\n",
    "\n",
    "adata.var_names_make_unique()"
   ]
  },
  {
   "cell_type": "markdown",
   "metadata": {
    "pycharm": {
     "name": "#%% md\n"
    }
   },
   "source": [
    "Separate the gene expression counts from the ADT counts. Variables are annotated as either “Antibody Capture” or “Gene Expression” in the `adata.var[\"feature_types\"]` field. We move the proteomics data (“Antibody Capture”) to a separate data frame."
   ]
  },
  {
   "cell_type": "code",
   "execution_count": null,
   "metadata": {
    "pycharm": {
     "name": "#%%\n"
    }
   },
   "outputs": [],
   "source": [
    "protein=adata[:,adata.var[\"feature_types\"]==\"Antibody Capture\"].copy()\n",
    "protein=protein[:,[x for x in protein.var_names if \"control\" not in x]]\n",
    "adata.obsm[\"protein_raw_counts\"]=protein.to_df()\n",
    "\n",
    "adata = adata[:, adata.var[\"feature_types\"] == \"Gene Expression\"]\n",
    "adata.layers[\"raw_counts\"] = adata.X.copy()\n"
   ]
  },
  {
   "cell_type": "markdown",
   "metadata": {
    "pycharm": {
     "name": "#%% md\n"
    }
   },
   "source": [
    "Some cells have a sequencing depth that is too low to use for our analysis.  We recommend filtering out cells where less than 5000 unique genes are sequenced, and cells where more than 30% of genes are originate from the mitochondria.  \n",
    "\n",
    "The function `sc.pp.filter_genes` is used to remove genes that are not present in any cells, `sc.pp.calculate_qc_metrics` computes the metrics used to filter cells and stores the results in `adata.obs` and `adata.var`.  "
   ]
  },
  {
   "cell_type": "code",
   "execution_count": null,
   "metadata": {
    "pycharm": {
     "name": "#%%\n"
    }
   },
   "outputs": [],
   "source": [
    "sc.pp.filter_cells(adata, min_genes=1000)\n",
    "sc.pp.filter_genes(adata, min_counts=0.03*adata.n_obs)\n",
    "adata.var['mt'] = adata.var_names.str.startswith('MT-')\n",
    "\n",
    "sc.pp.calculate_qc_metrics(adata, \n",
    "                           qc_vars=['mt'], \n",
    "                           percent_top=None,\n",
    "                           log1p=False,\n",
    "                           inplace=True)\n",
    "\n",
    "adata=adata[adata.obs.query(\n",
    "    \"n_genes_by_counts < 5000 and pct_counts_mt<30\").index]"
   ]
  },
  {
   "cell_type": "markdown",
   "metadata": {},
   "source": []
  },
  {
   "cell_type": "code",
   "execution_count": null,
   "outputs": [],
   "source": [
    "adata=adata[:, adata.var['mt']==False]"
   ],
   "metadata": {
    "collapsed": false,
    "pycharm": {
     "name": "#%%\n"
    }
   }
  },
  {
   "cell_type": "markdown",
   "metadata": {},
   "source": [
    "Use the sc.pp.normalize_total function to scale the raw count data so that the sum is 10^6 for each cell. Then, use sc.pp.log1p to log-transform the data so that it is more suitable for a linear model. The normalized, log transform counts are to be stored in `adata.layers[\"log1p\"]`.\n"
   ]
  },
  {
   "cell_type": "code",
   "execution_count": null,
   "metadata": {
    "pycharm": {
     "name": "#%%\n"
    }
   },
   "outputs": [
    {
     "name": "stderr",
     "output_type": "stream",
     "text": [
      "Trying to set attribute `.uns` of view, copying.\n"
     ]
    }
   ],
   "source": [
    "sc.pp.highly_variable_genes(\n",
    "    adata, \n",
    "    n_top_genes=5000,\n",
    "    subset=True,\n",
    "    flavor='seurat_v3')\n",
    "\n",
    "adata.X=sc.pp.normalize_total(adata,\n",
    "                              target_sum=10000, \n",
    "                              layer=\"raw_counts\", \n",
    "                              inplace=False)['X']\n",
    "\n",
    "sc.pp.log1p(adata)\n",
    "\n",
    "adata.layers[\"log1p\"]=normalize(\n",
    "    adata.X,\n",
    "    axis=1\n",
    ").todense()"
   ]
  },
  {
   "cell_type": "markdown",
   "metadata": {},
   "source": []
  },
  {
   "cell_type": "code",
   "execution_count": null,
   "metadata": {
    "pycharm": {
     "name": "#%%\n"
    }
   },
   "outputs": [],
   "source": [
    "adata.obsm[\"protein\"]=pySPaRTAN.clr(adata.obsm[\"protein_raw_counts\"].T).T\n",
    "\n",
    "adata.obsm[\"protein\"].loc[:]=normalize(adata.obsm[\"protein\"],\n",
    "                                       axis=1)\n"
   ]
  },
  {
   "cell_type": "markdown",
   "metadata": {},
   "source": [
    "## 1.2 Clustering and assigning cell-types\n",
    "SPaRTAN performs best when used to model data from different cell types separately.  Several methods exist for cell-type assignments from CITE-Seq data.  For the purposes of this demonstration, we use the Leiden algorithm to cluster the data using both gene and protein expression, and then manually map the clusters to cell types based on the mean expression of the marker genes and proteins for each cluster.  The process is ommited here, but is available on the SPaRTAN Github repository.  \n",
    "\n",
    "We use the marker genes and proteins in Table X to assign cell types to each cluster.\n",
    "\n",
    "\n",
    "| Cell Type          | Marker Genes         | Marker Proteins |\n",
    "|--------------------|----------------------|-----------------|\n",
    "| CD8+               | CD8A,  CD8B,  FCER1G | CD8a, CD4       |\n",
    "| Naive CD4+ T       | IL7R,  CCR7,  CD3E   | CD45RA, CD4     |\n",
    "| Memory CD4+        | IL7R, S100A4, CD3E   | CD45RO, CD4     |\n",
    "| NK                 | GNLY,  NKG7          | CD56            |\n",
    "| DC                 | FCER1A, CST3         |                 |\n",
    "| CD14+ Mono         | CD14, LYZ            | CD14            |\n",
    "| FCGR3A+/CD16+ Mono | FCGR3A, MS4A7        | CD16            |\n",
    "| B                  | MS4A1                | CD20,  CD19     |\n",
    "\n",
    "\n"
   ]
  },
  {
   "cell_type": "markdown",
   "metadata": {},
   "source": [
    "Once the cell type assignment has been completed, and the results are stored in a csv file with two columns, one for the cells barcode, and another for its cell type, we read in the data and store it in the field `adata.obs[\"cell_types\"]`."
   ]
  },
  {
   "cell_type": "code",
   "execution_count": null,
   "metadata": {},
   "outputs": [
    {
     "name": "stderr",
     "output_type": "stream",
     "text": [
      "Trying to set attribute `.obs` of view, copying.\n"
     ]
    }
   ],
   "source": [
    "ct_df=pd.read_csv(\"cell_types_PBMC.csv\",index_col=0)\n",
    "adata=adata[np.intersect1d(adata.obs_names, ct_df.index)]\n",
    "adata.obs[\"cell_types\"] = ct_df.loc[adata.obs_names]"
   ]
  },
  {
   "cell_type": "markdown",
   "metadata": {},
   "source": [
    "## 1.3 TF-Gene binding data\n",
    "\n",
    "A dataframe containing interactions between TFs and genes is loaded and stored in the AnnData object as follows.  The dataframe has a column for each TF and a row for each gene, with entries being either zero or one indicating if a TF and gene are recorded as interacting in the DoRethEA database.  We use an abridged version of the database, with TFs and genes being filtered out if they have too few interactions."
   ]
  },
  {
   "cell_type": "code",
   "execution_count": null,
   "metadata": {
    "pycharm": {
     "name": "#%%\n"
    }
   },
   "outputs": [],
   "source": [
    "tf_gene=pySPaRTAN.load_dorthea()"
   ]
  },
  {
   "cell_type": "markdown",
   "metadata": {
    "pycharm": {
     "name": "#%% md\n"
    }
   },
   "source": [
    "We store the dataframe in our AnnData object after keeping only the genes present in both the TF-gene interaction matrix and the CITE-seq dataset.  The dataframe is stored in the AnnData object as `adata.varm[\"tf_gene\"]`."
   ]
  },
  {
   "cell_type": "code",
   "execution_count": null,
   "metadata": {
    "pycharm": {
     "name": "#%%\n"
    }
   },
   "outputs": [],
   "source": [
    "common_genes=np.intersect1d(tf_gene.index, \n",
    "                            adata.var_names)\n",
    "tf_gene=tf_gene.loc[common_genes]\n",
    "adata= adata[:, common_genes]\n",
    "tf_gene.loc[:]=normalize(tf_gene)\n",
    "adata.varm[\"tf_gene\"]=tf_gene"
   ]
  },
  {
   "cell_type": "markdown",
   "metadata": {},
   "source": [
    "# 2. Fitting SPaRTAN Models for each cell-type\n",
    "\n",
    "To recap, after successfully completing part 1, we have an AnnData object with the following fields.\n",
    "\n",
    "- `adata.layers[\"log1p\"]`\n",
    "- `adata.obsm[\"protein\"]`\n",
    "- `adata.varm[\"tf_gene\"]`\n",
    "- `adata.obs[\"cell_type\"]`\n",
    "\n",
    "The prerequisite can be verified by printing the AnnData object and seeing each field present in the output."
   ]
  },
  {
   "cell_type": "code",
   "execution_count": null,
   "metadata": {
    "pycharm": {
     "name": "#%%\n"
    }
   },
   "outputs": [
    {
     "name": "stdout",
     "output_type": "stream",
     "text": [
      "AnnData object with n_obs × n_vars = 4216 × 2851\n",
      "    obs: 'n_genes', 'n_genes_by_counts', 'total_counts', 'total_counts_mt', 'pct_counts_mt', 'cell_types'\n",
      "    var: 'gene_ids', 'feature_types', 'genome', 'n_counts', 'mt', 'n_cells_by_counts', 'mean_counts', 'pct_dropout_by_counts', 'total_counts', 'highly_variable', 'highly_variable_rank', 'means', 'variances', 'variances_norm'\n",
      "    uns: 'hvg', 'log1p'\n",
      "    obsm: 'protein_raw_counts', 'protein'\n",
      "    varm: 'tf_gene'\n",
      "    layers: 'raw_counts', 'log1p'\n"
     ]
    }
   ],
   "source": [
    "print(adata)"
   ]
  },
  {
   "cell_type": "markdown",
   "metadata": {
    "pycharm": {
     "name": "#%% md\n"
    }
   },
   "source": [
    "In order to evaluate the model's performance, we will train the model using 80% of all cells in the dataset, and reserve the remaining 20% to be used only for testing the models ability to predict gene expression based on surface protein expression."
   ]
  },
  {
   "cell_type": "code",
   "execution_count": null,
   "metadata": {
    "pycharm": {
     "name": "#%%\n"
    }
   },
   "outputs": [],
   "source": [
    "adata.obs[\"training\"]= np.random.rand(adata.n_obs) < 0.8"
   ]
  },
  {
   "cell_type": "markdown",
   "metadata": {},
   "source": [
    "Because transcriptional regulation inter-cellular signaling are highly dependent on cell-types, we train SPaRTAN separately on separate cell types.  We start by demonstrating with only CD14+ monocytes.  From the entire dataset, we extract two subsets: one for training the CD14+ monocyte model and one for evaluating the model."
   ]
  },
  {
   "cell_type": "code",
   "execution_count": null,
   "metadata": {
    "pycharm": {
     "name": "#%%\n"
    },
    "scrolled": false
   },
   "outputs": [],
   "source": [
    "adata_cd8=adata[(adata.obs[\"cell_types\"] == \"CD8+\")]\n",
    "\n",
    "adata_cd8_training=adata[(adata.obs[\"cell_types\"] == \"CD8+\")\n",
    "                          & (adata.obs[\"training\"] == True)]\n",
    "adata_cd8_testing =adata[(adata.obs[\"cell_types\"] == \"CD8+\")\n",
    "                          & (adata.obs[\"training\"] == False)]"
   ]
  },
  {
   "cell_type": "markdown",
   "metadata": {},
   "source": [
    "The `SPaRTAN` class in pySPaRTAN is used to perform cross validation, fit the model, make predictions, infer TF activities, and estimate the correlation between proteins and TFs.  The class has the following parameters:\n",
    "\n",
    "- \n",
    "- \n",
    "-\n",
    "\n",
    "For our demonstration, we use cross validation and grid search to find the optimal values of `lamda` between 1e-5 and 10, and `alpha` between 0 and 1.  The model is initialized as follows:"
   ]
  },
  {
   "cell_type": "code",
   "execution_count": null,
   "metadata": {
    "pycharm": {
     "name": "#%%\n"
    },
    "scrolled": true
   },
   "outputs": [],
   "source": [
    "model_cd8= pySPaRTAN.SPaRTAN(lamda=0.01,\n",
    "                             alpha=0.5,\n",
    "                             solver=\"Kron\")"
   ]
  },
  {
   "cell_type": "markdown",
   "metadata": {
    "pycharm": {
     "name": "#%% md\n"
    }
   },
   "source": [
    "The simplest way to fit the model is by calling the `.fit()` function and providing the AnnData object containing the training data."
   ]
  },
  {
   "cell_type": "code",
   "execution_count": null,
   "metadata": {},
   "outputs": [],
   "source": [
    "model_cd8=model_cd8.fit(adata_cd8_training)"
   ]
  },
  {
   "cell_type": "markdown",
   "metadata": {
    "pycharm": {
     "name": "#%% md\n"
    }
   },
   "source": [
    "Alternatively, we can fit the model without using an AnnData structure by directly providing the three matrices needed: the gene expression (Y), the protein expression (P), and the tf-gene matrix (D)."
   ]
  },
  {
   "cell_type": "code",
   "execution_count": null,
   "metadata": {
    "pycharm": {
     "name": "#%%\n"
    }
   },
   "outputs": [],
   "source": [
    "gene_expression=adata_cd8_training.layers[\"log1p\"]\n",
    "protein=adata_cd8_training.obsm[\"protein\"]\n",
    "tf_gene_matrix=adata_cd8_training.varm[\"tf_gene\"]\n",
    "\n",
    "model_cd8=model_cd8.fit(Y=gene_expression,\n",
    "                          P=protein, \n",
    "                          D=tf_gene_matrix)"
   ]
  },
  {
   "cell_type": "markdown",
   "metadata": {
    "pycharm": {
     "name": "#%% md\n"
    }
   },
   "source": [
    "We can evaluate the performance  using the `.score` function, which predicts gene expression for each cell in the training set using the protein data and compares to the true gene expression."
   ]
  },
  {
   "cell_type": "code",
   "execution_count": null,
   "metadata": {
    "pycharm": {
     "name": "#%%\n"
    }
   },
   "outputs": [
    {
     "data": {
      "text/plain": "0.5812382602101843"
     },
     "execution_count": 17,
     "metadata": {},
     "output_type": "execute_result"
    }
   ],
   "source": [
    "protein_test=adata_cd8_testing.obsm[\"protein\"]\n",
    "\n",
    "gene_expression_test=np.asarray(\n",
    "    adata_cd8_testing.layers[\"log1p\"])\n",
    "\n",
    "model_cd8.score(P=protein_test.to_numpy(),Y=gene_expression_test)"
   ]
  },
  {
   "cell_type": "code",
   "execution_count": null,
   "metadata": {},
   "outputs": [
    {
     "data": {
      "text/plain": "0.5812382602101843"
     },
     "execution_count": 18,
     "metadata": {},
     "output_type": "execute_result"
    }
   ],
   "source": [
    "model_cd8.score(adata_cd8_testing)"
   ]
  },
  {
   "cell_type": "markdown",
   "metadata": {},
   "source": [
    "The process is repeated for each cell type in a for loop, storing the models in a dictionary."
   ]
  },
  {
   "cell_type": "code",
   "execution_count": null,
   "outputs": [
    {
     "name": "stdout",
     "output_type": "stream",
     "text": [
      "R2 value for B cells: \t0.6362734801182544\n",
      "R2 value for CD cells: \t0.7877450102410949\n",
      "R2 value for CD14+ Mono cells: \t0.46734054776563755\n",
      "R2 value for CD4+ Memory T cells: \t0.48387285920787687\n",
      "R2 value for CD4+ Naive T cells: \t0.4382191251714096\n",
      "R2 value for CD8+ cells: \t0.5812382602101843\n",
      "R2 value for FCGR3A+/CD16+ Mono cells: \t0.7541991024294825\n",
      "R2 value for NK cells: \t0.6220483620970839\n"
     ]
    }
   ],
   "source": [
    "models=dict()\n",
    "\n",
    "for ct in np.unique(adata.obs[\"cell_types\"]):\n",
    "    adata_training=adata[(adata.obs[\"cell_types\"] == ct)\n",
    "                         & (adata.obs[\"training\"] == True)]\n",
    "    adata_testing =adata[(adata.obs[\"cell_types\"] == ct)\n",
    "                         & (adata.obs[\"training\"] == False)]\n",
    "\n",
    "    models[ct]= pySPaRTAN.SPaRTAN(lamda=0.01,\n",
    "                                  alpha=0.5,\n",
    "                                  solver=\"Kron\")\n",
    "    models[ct].fit(adata_training)\n",
    "\n",
    "    print(\"R2 value for \"+ct+\" cells: \\t\"\n",
    "          +str(models[ct].score(adata_testing)))"
   ],
   "metadata": {
    "collapsed": false,
    "pycharm": {
     "name": "#%%\n"
    }
   }
  },
  {
   "cell_type": "markdown",
   "metadata": {},
   "source": []
  },
  {
   "cell_type": "markdown",
   "metadata": {
    "pycharm": {
     "name": "#%% md\n"
    }
   },
   "source": [
    "# 3. Infer TF Activites\n",
    "\n",
    "From the fitted model, TF activity is inferred from protein expression by calculating $WP^T$. TF activity for every CD14+ monocyte cell is calculated by the `get_TF_activites` function, using only the protein expression as input."
   ]
  },
  {
   "cell_type": "code",
   "execution_count": null,
   "metadata": {},
   "outputs": [],
   "source": [
    "tf = model_cd8.get_projD(adata_cd8.obsm[\"protein\"])"
   ]
  },
  {
   "cell_type": "markdown",
   "metadata": {},
   "source": [
    "The significance of the inferred TF activity is assessed using a permutation test.  We generate the distribution for an empirical null hypothesis by shuffling the genes for each cell (randomly permuting the rows of $Y$) a specified number of times (typically, 1000), re-fitting the model, and calculating TF activity.  For each TF in each cell, we compare the inferred TF activity to the empirical null distribution of 1000 inferred TF activities and calculate a p-value as the proportion of values in the null distribution that are higher in absolute value than the true inferred TF activity. The p-value has a minimum value inversely proportional to the number of trials (1/1000, typically). \n",
    "\n",
    "For each cell, P-values are corrected using Bonferroni procedure for multiple hypothesis testing, which is implemented as part of the statsmodel package (`statsmodels.stats.multitest.multipletests`).  We use an adjusted p-value of 0.15 for this example.\n",
    "\n",
    "The permutation test is done using the `get_TF_activites` function, this time specifying the number of permutations to use for the null distribution.\n"
   ]
  },
  {
   "cell_type": "code",
   "execution_count": null,
   "metadata": {
    "pycharm": {
     "name": "#%%\n"
    }
   },
   "outputs": [
    {
     "name": "stderr",
     "output_type": "stream",
     "text": [
      "100%|██████████| 100/100 [02:42<00:00,  1.62s/it]\n"
     ]
    }
   ],
   "source": [
    "tf, tf_p_val = model_cd8.get_projD(\n",
    "    adata_cd8.obsm[\"protein\"],\n",
    "    n_trials=100,\n",
    "    verbose=True\n",
    ")"
   ]
  },
  {
   "cell_type": "markdown",
   "metadata": {},
   "source": [
    "To identify TFs that are important in CD14+ monocytes, we look for TFs that have a p value of less than 0.15 in a high proportion of cells."
   ]
  },
  {
   "cell_type": "code",
   "execution_count": null,
   "metadata": {},
   "outputs": [
    {
     "data": {
      "text/plain": "ZKSCAN1    0.995037\nPAX5       0.992556\nTFAP4      0.992556\nATF4       0.987593\nBCL11A     0.985112\nMYC        0.975186\nHSF1       0.925558\nSPIB       0.900744\nGATA6      0.885856\nNR4A1      0.808933\nCREM       0.746898\nNCOA1      0.682382\nPRDM1      0.650124\nSP3        0.630273\nZBTB33     0.625310\nSPI1       0.518610\nNFE2       0.486352\nNR1H3      0.461538\nNR5A2      0.377171\nZBED1      0.352357\ndtype: float64"
     },
     "execution_count": 22,
     "metadata": {},
     "output_type": "execute_result"
    }
   ],
   "source": [
    "prop_sig=(tf_p_val<0.15).mean()\n",
    "prop_sig.sort_values(ascending=False).head(20)"
   ]
  },
  {
   "cell_type": "markdown",
   "metadata": {},
   "source": [
    "The inferred TF activity and corresponding p-values are stored in the AnnData object."
   ]
  },
  {
   "cell_type": "code",
   "execution_count": null,
   "metadata": {},
   "outputs": [],
   "source": [
    "adata_cd8.obsm[\"tf_activity\"]=tf\n",
    "adata_cd8.obsm[\"tf_p_val\"]=tf_p_val"
   ]
  },
  {
   "cell_type": "markdown",
   "metadata": {},
   "source": [
    "Repeat the process for each cell type, and create a dataframe with the proportion of cells for each cell type where each TF is significant. "
   ]
  },
  {
   "cell_type": "code",
   "execution_count": 25,
   "metadata": {
    "pycharm": {
     "name": "#%%\n"
    }
   },
   "outputs": [
    {
     "name": "stderr",
     "output_type": "stream",
     "text": [
      "  0%|          | 0/100 [00:00<?, ?it/s]"
     ]
    },
    {
     "name": "stdout",
     "output_type": "stream",
     "text": [
      "Calculating TF activities for B cells\n"
     ]
    },
    {
     "name": "stderr",
     "output_type": "stream",
     "text": [
      "100%|██████████| 100/100 [01:39<00:00,  1.01it/s]\n",
      "  0%|          | 0/100 [00:00<?, ?it/s]"
     ]
    },
    {
     "name": "stdout",
     "output_type": "stream",
     "text": [
      "Calculating TF activities for CD cells\n"
     ]
    },
    {
     "name": "stderr",
     "output_type": "stream",
     "text": [
      "100%|██████████| 100/100 [00:16<00:00,  6.12it/s]\n",
      "  0%|          | 0/100 [00:00<?, ?it/s]"
     ]
    },
    {
     "name": "stdout",
     "output_type": "stream",
     "text": [
      "Calculating TF activities for CD14+ Mono cells\n"
     ]
    },
    {
     "name": "stderr",
     "output_type": "stream",
     "text": [
      "100%|██████████| 100/100 [14:51<00:00,  8.92s/it]\n",
      "  0%|          | 0/100 [00:00<?, ?it/s]"
     ]
    },
    {
     "name": "stdout",
     "output_type": "stream",
     "text": [
      "Calculating TF activities for CD4+ Memory T cells\n"
     ]
    },
    {
     "name": "stderr",
     "output_type": "stream",
     "text": [
      "100%|██████████| 100/100 [09:32<00:00,  5.73s/it]\n",
      "  0%|          | 0/100 [00:00<?, ?it/s]"
     ]
    },
    {
     "name": "stdout",
     "output_type": "stream",
     "text": [
      "Calculating TF activities for CD4+ Naive T cells\n"
     ]
    },
    {
     "name": "stderr",
     "output_type": "stream",
     "text": [
      "100%|██████████| 100/100 [14:01<00:00,  8.42s/it]\n",
      "  0%|          | 0/100 [00:00<?, ?it/s]"
     ]
    },
    {
     "name": "stdout",
     "output_type": "stream",
     "text": [
      "Calculating TF activities for CD8+ cells\n"
     ]
    },
    {
     "name": "stderr",
     "output_type": "stream",
     "text": [
      "100%|██████████| 100/100 [02:32<00:00,  1.53s/it]\n",
      "  0%|          | 0/100 [00:00<?, ?it/s]"
     ]
    },
    {
     "name": "stdout",
     "output_type": "stream",
     "text": [
      "Calculating TF activities for FCGR3A+/CD16+ Mono cells\n"
     ]
    },
    {
     "name": "stderr",
     "output_type": "stream",
     "text": [
      "100%|██████████| 100/100 [01:04<00:00,  1.55it/s]\n",
      "  0%|          | 0/100 [00:00<?, ?it/s]"
     ]
    },
    {
     "name": "stdout",
     "output_type": "stream",
     "text": [
      "Calculating TF activities for NK cells\n"
     ]
    },
    {
     "name": "stderr",
     "output_type": "stream",
     "text": [
      "100%|██████████| 100/100 [01:43<00:00,  1.04s/it]\n"
     ]
    }
   ],
   "source": [
    "import time\n",
    "tf_ct=dict()\n",
    "tf=dict()\n",
    "tf_p_val=dict()\n",
    "tf_ct_p_vals=dict()\n",
    "tf_ct_mean=dict()\n",
    "for ct in np.unique(adata.obs[\"cell_types\"]):\n",
    "    print(\"Calculating TF activities for \"+ct+\" cells\")\n",
    "    time.sleep(0.1)\n",
    "    tf[ct], tf_p_val[ct] =models[ct].get_projD(\n",
    "        adata[adata.obs[\"cell_types\"] == ct].obsm[\"protein\"],\n",
    "        n_trials=100,\n",
    "        verbose=True\n",
    "    )\n",
    "    tf_ct_p_vals[ct]=(tf_p_val[ct]<0.15).mean()\n",
    "    tf_ct_mean[ct]=tf[ct].mean()\n",
    "\n",
    "adata.obsm[\"tf\"]=pd.concat(tf.values(),\n",
    "                           axis=0).sort_index()\n",
    "\n",
    "adata.obsm[\"tf_p_val\"]=pd.concat(tf_p_val.values(),\n",
    "                                 axis=0).sort_index()\n",
    "\n",
    "tf_ct_p_vals=pd.concat(tf_ct_p_vals, axis=1)\n",
    "tf_ct_mean=pd.concat(tf_ct_mean, axis=1)\n"
   ]
  },
  {
   "cell_type": "markdown",
   "source": [
    "tSNE plot..."
   ],
   "metadata": {
    "collapsed": false,
    "pycharm": {
     "name": "#%% md\n"
    }
   }
  },
  {
   "cell_type": "code",
   "execution_count": null,
   "outputs": [],
   "source": [
    "sc.tl.tsne(adata, use_rep=\"tf\")\n",
    "sc.pl.tsne(adata, color=\"cell_types\")"
   ],
   "metadata": {
    "collapsed": false,
    "pycharm": {
     "name": "#%%\n"
    }
   }
  },
  {
   "cell_type": "markdown",
   "metadata": {},
   "source": [
    "Create a dotplot of the importance of TFs across cell-types using seaborn.  We plot only the subset of TFs that are important to the transcriptional program of at least one cell-type."
   ]
  },
  {
   "cell_type": "code",
   "execution_count": null,
   "metadata": {
    "pycharm": {
     "name": "#%%\n"
    }
   },
   "outputs": [],
   "source": [
    "tfs_to_plot=tf_ct_p_vals.max(axis=1).sort_values(ascending=False).head(20).index\n",
    "\n",
    "tf_ct_mean=tf_ct_mean.divide(\n",
    "    np.sqrt(np.square(tf_ct_mean).sum(axis=1)),\n",
    "    axis=0)\n",
    "\n",
    "plot_df=pd.melt(tf_ct_mean.reset_index(), id_vars='index')\n",
    "\n",
    "plot_df['p_val']=pd.melt(\n",
    "    tf_ct_p_vals.reset_index(), id_vars='index')['value']\n",
    "plot_df.columns=[\"TF\", \"Cell_Type\", \"TF_Activity\", \"Proportion_Significant\"]\n",
    "\n",
    "plt.figure(figsize=(3,0.33*len(tfs_to_plot)))\n",
    "\n",
    "ax =sns.scatterplot(\n",
    "    data=plot_df.query(\"TF in @tfs_to_plot\"),\n",
    "    y=\"TF\", x=\"Cell_Type\", hue=\"TF_Activity\", size=\"Proportion_Significant\",\n",
    "    palette=\"PiYG\",sizes=(0, 250), hue_norm=(-0.8, 0.8)\n",
    ")\n",
    "ax.set_ylim(-0.5, -0.5+len(tfs_to_plot))\n",
    "ax.set_xticklabels(tf_ct_p_vals.columns,rotation = 90)\n",
    "plt.legend(bbox_to_anchor=(1.05,1),\n",
    "           loc='upper left',\n",
    "           borderaxespad=0)\n"
   ]
  },
  {
   "cell_type": "markdown",
   "metadata": {
    "pycharm": {
     "name": "#%% md\n"
    }
   },
   "source": [
    "# 4. Identifying TF-protein relationships\n",
    "\n",
    "The matrix $W$ in the model can be interpreted as interactions between TFs and proteins.  However, due to different proteins being expressed on different scales, we instead look at the correlations between protein expressions ($P$) and the inferred TF activity ($WP^T$).  The `get_tf_protein_cor` is used to compute the correlation matrix using all cells in the training data.  The function returns a data frame with TFs as columns and proteins as rows."
   ]
  },
  {
   "cell_type": "code",
   "execution_count": null,
   "metadata": {
    "pycharm": {
     "name": "#%%\n"
    },
    "scrolled": false
   },
   "outputs": [],
   "source": [
    "protein_tf=model_cd8.get_tf_protein_cor()\n",
    "protein_tf.head()"
   ]
  },
  {
   "cell_type": "code",
   "execution_count": null,
   "outputs": [],
   "source": [
    "sns.clustermap(\n",
    "    protein_tf.loc[tf_ct_p_vals.query(\"`CD8+`>0.1\").index],\n",
    "    cmap=\"bwr\",vmin=-1, vmax=1\n",
    ").fig.suptitle('CD8+ T Cells', y=1.05,fontsize=20)"
   ],
   "metadata": {
    "collapsed": false,
    "pycharm": {
     "name": "#%%\n"
    }
   }
  },
  {
   "cell_type": "markdown",
   "metadata": {
    "pycharm": {
     "name": "#%% md\n"
    }
   },
   "source": [
    "Repeat the process for each cell type of interest, and store the results in a dictionary."
   ]
  },
  {
   "cell_type": "code",
   "execution_count": null,
   "metadata": {
    "pycharm": {
     "name": "#%%\n"
    }
   },
   "outputs": [],
   "source": [
    "protein_tf=dict()\n",
    "for ct in np.unique(adata.obs[\"cell_types\"]):\n",
    "    protein_tf[ct]=models[ct].get_tf_protein_cor()"
   ]
  },
  {
   "cell_type": "code",
   "execution_count": null,
   "outputs": [],
   "source": [
    "sns.clustermap(\n",
    "    protein_tf[\"B\"].loc[tf_ct_p_vals.query(\"`B`>0.1\").index],\n",
    "    cmap=\"bwr\",vmin=-1, vmax=1\n",
    ").fig.suptitle('B Cells', y=1.05,fontsize=20)"
   ],
   "metadata": {
    "collapsed": false,
    "pycharm": {
     "name": "#%%\n"
    }
   }
  }
 ],
 "metadata": {
  "kernelspec": {
   "display_name": "Python 3",
   "language": "python",
   "name": "python3"
  },
  "language_info": {
   "codemirror_mode": {
    "name": "ipython",
    "version": 3
   },
   "file_extension": ".py",
   "mimetype": "text/x-python",
   "name": "python",
   "nbconvert_exporter": "python",
   "pygments_lexer": "ipython3",
   "version": "3.8.5"
  }
 },
 "nbformat": 4,
 "nbformat_minor": 1
}