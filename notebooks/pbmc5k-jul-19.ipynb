{
 "cells": [
  {
   "cell_type": "markdown",
   "metadata": {},
   "source": [
    "The pySPaRTAN package and the pipeline outlined in this chapter are designed around the Scanpy/scVerse ecosystem, which stores data as `AnnData` objects.  An AnnData object contains a data matrix with columns (observations) as cells and rows (variables) as genes or ADTs.  The object has dataframes `.obs` and `.var` containing information on each cell and each gene, respectively.  Additionally, the fields `.obsm` and `.varm` can be used to store additional dataframes with features describing the cells and genes.  For example, we will store the surface protein count matrix in `.obsm`."
   ]
  },
  {
   "cell_type": "markdown",
   "metadata": {},
   "source": [
    "## 3.1 Importing and pre-processing CITE-seq data\n",
    "\n",
    "Import all the packages used in the pipeline."
   ]
  },
  {
   "cell_type": "code",
   "execution_count": 1,
   "metadata": {},
   "outputs": [],
   "source": [
    "import scanpy as sc\n",
    "import seaborn as sns\n",
    "import pandas as pd\n",
    "from matplotlib import pyplot as plt\n",
    "import numpy as np\n",
    "from sklearn.preprocessing import normalize\n",
    "\n",
    "import pySPaRTAN"
   ]
  },
  {
   "cell_type": "markdown",
   "metadata": {},
   "source": [
    "Load CITE-seq data into memory using one of Scanpy’s i/o functions. In this case, the counts for mRNA and protein ADTs are stored in the same .h5 file, and so we use the `sc.read_10x_h5` function. Refer to the Scanpy documentation for other formats, such as h5ad, loom, csv, or excel files, for example.\n",
    "\n",
    "After the data is loaded into an AnnData object, use the `var_names_make_unique` function appends a number to the end of gene names that are not unique.\n"
   ]
  },
  {
   "cell_type": "code",
   "execution_count": 2,
   "metadata": {
    "pycharm": {
     "name": "#%%\n"
    }
   },
   "outputs": [
    {
     "name": "stderr",
     "output_type": "stream",
     "text": [
      "Variable names are not unique. To make them unique, call `.var_names_make_unique`.\n"
     ]
    }
   ],
   "source": [
    "#!wget https://cf.10xgenomics.com/samples/cell-exp/3.1.0/5k_pbmc_protein_v3_nextgem/5k_pbmc_protein_v3_nextgem_filtered_feature_bc_matrix.h5 -O ../data/cite-seq/5k_pbmc_protein_v3_nextgem_filtered_feature_bc_matrix.h5\n",
    "path=\"../data/cite-seq/5k_pbmc_protein_v3_nextgem_filtered_feature_bc_matrix.h5\"\n",
    "adata=sc.read_10x_h5(path, gex_only=False)\n",
    "\n",
    "adata.var_names_make_unique()"
   ]
  },
  {
   "cell_type": "markdown",
   "metadata": {
    "pycharm": {
     "name": "#%% md\n"
    }
   },
   "source": [
    "Separate the gene expression counts from the ADT counts. Variables are annotated as either “Antibody Capture” or “Gene Expression” in the `adata.var[\"feature_types\"]` field. We move the proteomics data (“Antibody Capture”) to a separate data frame."
   ]
  },
  {
   "cell_type": "code",
   "execution_count": 3,
   "metadata": {
    "pycharm": {
     "name": "#%%\n"
    }
   },
   "outputs": [],
   "source": [
    "protein=adata[:,adata.var[\"feature_types\"]==\"Antibody Capture\"].copy()\n",
    "protein=protein[:,[x for x in protein.var_names if \"control\" not in x]]\n",
    "adata.obsm[\"protein_raw_counts\"]=protein.to_df()\n",
    "\n",
    "adata = adata[:, adata.var[\"feature_types\"] == \"Gene Expression\"]\n",
    "adata.layers[\"raw_counts\"] = adata.X.copy()\n"
   ]
  },
  {
   "cell_type": "markdown",
   "metadata": {
    "pycharm": {
     "name": "#%% md\n"
    }
   },
   "source": [
    "Some cells have a sequencing depth that is too low to use for our analysis.  We recommend filtering out cells where less than 5000 unique genes are sequenced, and cells where more than 30% of genes are originate from the mitochondria.  \n",
    "\n",
    "The function `sc.pp.filter_genes` is used to remove genes that are not present in any cells, `sc.pp.calculate_qc_metrics` computes the metrics used to filter cells and stores the results in `adata.obs` and `adata.var`.  "
   ]
  },
  {
   "cell_type": "code",
   "execution_count": 4,
   "metadata": {
    "pycharm": {
     "name": "#%%\n"
    }
   },
   "outputs": [],
   "source": [
    "sc.pp.filter_cells(adata, min_genes=1000)\n",
    "sc.pp.filter_genes(adata, min_counts=0.03*adata.n_obs)\n",
    "adata.var['mt'] = adata.var_names.str.startswith('MT-')\n",
    "\n",
    "sc.pp.calculate_qc_metrics(adata, \n",
    "                           qc_vars=['mt'], \n",
    "                           percent_top=None,\n",
    "                           log1p=False,\n",
    "                           inplace=True)\n",
    "\n",
    "adata=adata[adata.obs.query(\n",
    "    \"n_genes_by_counts < 5000 and pct_counts_mt<30\").index]"
   ]
  },
  {
   "cell_type": "markdown",
   "metadata": {},
   "source": []
  },
  {
   "cell_type": "markdown",
   "metadata": {},
   "source": []
  },
  {
   "cell_type": "code",
   "execution_count": 5,
   "metadata": {
    "pycharm": {
     "name": "#%%\n"
    }
   },
   "outputs": [
    {
     "name": "stderr",
     "output_type": "stream",
     "text": [
      "Trying to set attribute `.uns` of view, copying.\n"
     ]
    }
   ],
   "source": [
    "sc.pp.highly_variable_genes(\n",
    "    adata, \n",
    "    n_top_genes=5000,\n",
    "    subset=True,\n",
    "    flavor='seurat_v3')\n",
    "\n",
    "adata.X=sc.pp.normalize_total(adata,\n",
    "                              target_sum=10000, \n",
    "                              layer=\"raw_counts\", \n",
    "                              inplace=False)['X']\n",
    "\n",
    "sc.pp.log1p(adata)\n",
    "\n",
    "adata.layers[\"log1p\"]=normalize(\n",
    "    adata.X,\n",
    "    axis=1\n",
    ").todense()"
   ]
  },
  {
   "cell_type": "markdown",
   "metadata": {},
   "source": [
    "The protein count data  *center log ratio* (CLR) transform using the `clr` function in pySPaRTAN.  The CLR transform scales the data by the geometric mean of each cell, and then log-tranforms the data."
   ]
  },
  {
   "cell_type": "code",
   "execution_count": 6,
   "metadata": {
    "pycharm": {
     "name": "#%%\n"
    }
   },
   "outputs": [],
   "source": [
    "adata.obsm[\"protein\"]=pySPaRTAN.clr(adata.obsm[\"protein_raw_counts\"].T).T\n",
    "\n",
    "adata.obsm[\"protein\"].loc[:]=normalize(adata.obsm[\"protein\"],\n",
    "                                       axis=1)\n"
   ]
  },
  {
   "cell_type": "markdown",
   "metadata": {},
   "source": [
    "## 1.2 Clustering and assigning cell-types\n",
    "SPaRTAN performs best when used to model data from different cell types separately.  Several methods exist for cell-type assignments from CITE-Seq data.  For the purposes of this demonstration, we use the Leiden algorithm to cluster the data using both gene and protein expression, and then manually map the clusters to cell types based on the mean expression of the marker genes and proteins for each cluster.  The process is ommited here, but is available on the SPaRTAN Github repository.  \n",
    "\n",
    "We use the marker genes and proteins in Table X to assign cell types to each cluster.\n",
    "\n",
    "\n",
    "| Cell Type          | Marker Genes         | Marker Proteins |\n",
    "|--------------------|----------------------|-----------------|\n",
    "| CD8+               | CD8A,  CD8B,  FCER1G | CD8a, CD4       |\n",
    "| Naive CD4+ T       | IL7R,  CCR7,  CD3E   | CD45RA, CD4     |\n",
    "| Memory CD4+        | IL7R, S100A4, CD3E   | CD45RO, CD4     |\n",
    "| NK                 | GNLY,  NKG7          | CD56            |\n",
    "| DC                 | FCER1A, CST3         |                 |\n",
    "| CD14+ Mono         | CD14, LYZ            | CD14            |\n",
    "| FCGR3A+/CD16+ Mono | FCGR3A, MS4A7        | CD16            |\n",
    "| B                  | MS4A1                | CD20,  CD19     |\n",
    "\n",
    "\n"
   ]
  },
  {
   "cell_type": "markdown",
   "metadata": {},
   "source": [
    "Once the cell type assignment has been completed, and the results are stored in a csv file with two columns, one for the cells barcode, and another for its cell type, we read in the data and store it in the field `adata.obs[\"cell_types\"]`."
   ]
  },
  {
   "cell_type": "code",
   "execution_count": 7,
   "metadata": {},
   "outputs": [
    {
     "name": "stderr",
     "output_type": "stream",
     "text": [
      "Trying to set attribute `.obs` of view, copying.\n"
     ]
    }
   ],
   "source": [
    "ct_df=pd.read_csv(\"cell_types_PBMC.csv\",index_col=0)\n",
    "adata=adata[np.intersect1d(adata.obs_names, ct_df.index)]\n",
    "adata.obs[\"cell_types\"] = ct_df.loc[adata.obs_names]"
   ]
  },
  {
   "cell_type": "markdown",
   "metadata": {},
   "source": [
    "## 1.3 TF-Gene binding data\n",
    "\n",
    "A dataframe containing interactions between TFs and genes is loaded and stored in the AnnData object as follows.  The dataframe has a column for each TF and a row for each gene, with entries being either zero or one indicating if a TF and gene are recorded as interacting in the DoRethEA database.  We use an abridged version of the database, with TFs and genes being filtered out if they have too few interactions."
   ]
  },
  {
   "cell_type": "code",
   "execution_count": 8,
   "metadata": {
    "pycharm": {
     "name": "#%%\n"
    }
   },
   "outputs": [],
   "source": [
    "tf_gene=pySPaRTAN.load_dorthea()"
   ]
  },
  {
   "cell_type": "markdown",
   "metadata": {
    "pycharm": {
     "name": "#%% md\n"
    }
   },
   "source": [
    "We store the dataframe in our AnnData object after keeping only the genes present in both the TF-gene interaction matrix and the CITE-seq dataset.  The dataframe is stored in the AnnData object as `adata.varm[\"tf_gene\"]`."
   ]
  },
  {
   "cell_type": "code",
   "execution_count": 9,
   "metadata": {
    "pycharm": {
     "name": "#%%\n"
    }
   },
   "outputs": [],
   "source": [
    "common_genes=np.intersect1d(tf_gene.index, \n",
    "                            adata.var_names)\n",
    "tf_gene=tf_gene.loc[common_genes]\n",
    "adata= adata[:, common_genes]\n",
    "tf_gene.loc[:]=normalize(tf_gene)\n",
    "adata.varm[\"tf_gene\"]=tf_gene\n",
    "\n"
   ]
  },
  {
   "cell_type": "markdown",
   "metadata": {},
   "source": [
    "# 2. Fitting SPaRTAN Models for each cell-type\n",
    "\n",
    "To recap, after successfully completing part 1, we have an AnnData object with the following fields.\n",
    "\n",
    "- `adata.layers[\"log1p\"]`\n",
    "- `adata.obsm[\"protein\"]`\n",
    "- `adata.varm[\"tf_gene\"]`\n",
    "- `adata.obs[\"cell_type\"]`\n",
    "\n",
    "The prerequisite can be verified by printing the AnnData object and seeing each field present in the output."
   ]
  },
  {
   "cell_type": "code",
   "execution_count": 10,
   "metadata": {
    "pycharm": {
     "name": "#%%\n"
    }
   },
   "outputs": [
    {
     "name": "stdout",
     "output_type": "stream",
     "text": [
      "AnnData object with n_obs × n_vars = 4216 × 2849\n",
      "    obs: 'n_genes', 'n_genes_by_counts', 'total_counts', 'total_counts_mt', 'pct_counts_mt', 'cell_types'\n",
      "    var: 'gene_ids', 'feature_types', 'genome', 'n_counts', 'mt', 'n_cells_by_counts', 'mean_counts', 'pct_dropout_by_counts', 'total_counts', 'highly_variable', 'highly_variable_rank', 'means', 'variances', 'variances_norm'\n",
      "    uns: 'hvg', 'log1p'\n",
      "    obsm: 'protein_raw_counts', 'protein'\n",
      "    varm: 'tf_gene'\n",
      "    layers: 'raw_counts', 'log1p'\n"
     ]
    }
   ],
   "source": [
    "print(adata)"
   ]
  },
  {
   "cell_type": "markdown",
   "metadata": {
    "pycharm": {
     "name": "#%% md\n"
    }
   },
   "source": [
    "In order to evaluate the model's performance, we will train the model using 80% of all cells in the dataset, and reserve the remaining 20% to be used only for testing the models ability to predict gene expression based on surface protein expression."
   ]
  },
  {
   "cell_type": "code",
   "execution_count": 11,
   "metadata": {
    "pycharm": {
     "name": "#%%\n"
    }
   },
   "outputs": [],
   "source": [
    "adata.obs[\"training\"]= np.random.rand(adata.n_obs) < 0.8"
   ]
  },
  {
   "cell_type": "markdown",
   "metadata": {},
   "source": [
    "Because transcriptional regulation inter-cellular signaling are highly dependent on cell-types, we train SPaRTAN separately on separate cell types.  We start by demonstrating with only CD14+ monocytes.  From the entire dataset, we extract two subsets: one for training the CD14+ monocyte model and one for evaluating the model."
   ]
  },
  {
   "cell_type": "code",
   "execution_count": 12,
   "metadata": {
    "pycharm": {
     "name": "#%%\n"
    },
    "scrolled": false
   },
   "outputs": [],
   "source": [
    "adata_cd14=adata[(adata.obs[\"cell_types\"] == \"CD14+ Mono\")]\n",
    "\n",
    "adata_cd14_training=adata[(adata.obs[\"cell_types\"] == \"CD14+ Mono\")\n",
    "                          & (adata.obs[\"training\"] == True)]\n",
    "adata_cd14_testing =adata[(adata.obs[\"cell_types\"] == \"CD14+ Mono\") \n",
    "                          & (adata.obs[\"training\"] == False)]"
   ]
  },
  {
   "cell_type": "markdown",
   "metadata": {},
   "source": [
    "The `SPaRTAN` class in pySPaRTAN is used to perform cross validation, fit the model, make predictions, infer TF activities, and estimate the correlation between proteins and TFs.  The class has the following parameters:\n",
    "\n",
    "- \n",
    "- \n",
    "-\n",
    "...\n",
    "\n",
    "For our demonstration, we use cross validation and grid search to find the optimal values of `lamda` between 1e-5 and 10, and `alpha` between 0 and 1.  The model is initialized as follows:"
   ]
  },
  {
   "cell_type": "code",
   "execution_count": 15,
   "metadata": {
    "pycharm": {
     "name": "#%%\n"
    },
    "scrolled": true
   },
   "outputs": [],
   "source": [
    "model_cd14= pySPaRTAN.SPaRTAN(lamda=[0.0001, 10],\n",
    "                    alpha=[0,0],\n",
    "                    solver=\"SVD\")"
   ]
  },
  {
   "cell_type": "markdown",
   "metadata": {
    "pycharm": {
     "name": "#%% md\n"
    }
   },
   "source": [
    "The simplest way to fit the model is by calling the `.fit()` function and providing the AnnData object containing the training data."
   ]
  },
  {
   "cell_type": "code",
   "execution_count": 16,
   "metadata": {},
   "outputs": [
    {
     "name": "stdout",
     "output_type": "stream",
     "text": [
      "fold: 0\n",
      "\t l: 0.0\ta: 0 \t score: 0.7229577211605152\n",
      "\t l: 0.0\ta: 0 \t score: 0.7183586064546786\n",
      "\t l: 0.001\ta: 0 \t score: 0.7037402754083919\n",
      "\t l: 0.005\ta: 0 \t score: 0.678314399603158\n",
      "\t l: 0.017\ta: 0 \t score: 0.6443922098485529\n",
      "\t l: 0.06\ta: 0 \t score: 0.6124572315606687\n",
      "\t l: 0.215\ta: 0 \t score: 0.5953392148927827\n",
      "\t l: 0.774\ta: 0 \t score: 0.5891481085529238\n",
      "\t l: 2.783\ta: 0 \t score: 0.5872367674380492\n",
      "\t l: 10.0\ta: 0 \t score: 0.5866834370634229\n",
      "fold: 1\n",
      "\t l: 0.0\ta: 0 \t score: 0.7064315759524724\n",
      "\t l: 0.0\ta: 0 \t score: 0.6812129141120755\n",
      "\t l: 0.001\ta: 0 \t score: 0.6483089824010977\n",
      "\t l: 0.005\ta: 0 \t score: 0.6148917111459842\n",
      "\t l: 0.017\ta: 0 \t score: 0.5824931887724564\n",
      "\t l: 0.06\ta: 0 \t score: 0.5447094860120332\n",
      "\t l: 0.215\ta: 0 \t score: 0.5191055652769221\n",
      "\t l: 0.774\ta: 0 \t score: 0.508887073946371\n",
      "\t l: 2.783\ta: 0 \t score: 0.5056019348174812\n",
      "\t l: 10.0\ta: 0 \t score: 0.5046350989478109\n",
      "fold: 2\n",
      "\t l: 0.0\ta: 0 \t score: 0.7030529201973207\n",
      "\t l: 0.0\ta: 0 \t score: 0.6796743323765178\n",
      "\t l: 0.001\ta: 0 \t score: 0.6489708531078761\n",
      "\t l: 0.005\ta: 0 \t score: 0.6209438407167369\n",
      "\t l: 0.017\ta: 0 \t score: 0.5928793390732543\n",
      "\t l: 0.06\ta: 0 \t score: 0.5578462530705969\n",
      "\t l: 0.215\ta: 0 \t score: 0.5349781714927564\n",
      "\t l: 0.774\ta: 0 \t score: 0.5259620750134499\n",
      "\t l: 2.783\ta: 0 \t score: 0.5230631834555663\n",
      "\t l: 10.0\ta: 0 \t score: 0.5222097230438646\n",
      "fold: 3\n",
      "\t l: 0.0\ta: 0 \t score: 0.7089525064687352\n",
      "\t l: 0.0\ta: 0 \t score: 0.687047055764928\n",
      "\t l: 0.001\ta: 0 \t score: 0.657577605829655\n",
      "\t l: 0.005\ta: 0 \t score: 0.6260913485589863\n",
      "\t l: 0.017\ta: 0 \t score: 0.592375051821768\n",
      "\t l: 0.06\ta: 0 \t score: 0.5537615514903726\n",
      "\t l: 0.215\ta: 0 \t score: 0.5288078404991566\n",
      "\t l: 0.774\ta: 0 \t score: 0.5189777244700648\n",
      "\t l: 2.783\ta: 0 \t score: 0.5158046118493441\n",
      "\t l: 10.0\ta: 0 \t score: 0.5148648100260071\n",
      "fold: 4\n",
      "\t l: 0.0\ta: 0 \t score: 0.7121921455575022\n",
      "\t l: 0.0\ta: 0 \t score: 0.6905464793588972\n",
      "\t l: 0.001\ta: 0 \t score: 0.6588028288844389\n",
      "\t l: 0.005\ta: 0 \t score: 0.6234831176693874\n",
      "\t l: 0.017\ta: 0 \t score: 0.5889244369653657\n",
      "\t l: 0.06\ta: 0 \t score: 0.5543372989960362\n",
      "\t l: 0.215\ta: 0 \t score: 0.5330095445391226\n",
      "\t l: 0.774\ta: 0 \t score: 0.5247464090940466\n",
      "\t l: 2.783\ta: 0 \t score: 0.5221007638861421\n",
      "\t l: 10.0\ta: 0 \t score: 0.5213209776602321\n"
     ]
    }
   ],
   "source": [
    "model_cd14=model_cd14.fit(adata_cd14_training)"
   ]
  },
  {
   "cell_type": "markdown",
   "metadata": {
    "pycharm": {
     "name": "#%% md\n"
    }
   },
   "source": [
    "Alternatively, we can fit the model without using an AnnData structure by directly providing the three matrices needed: the gene expression (Y), the protein expression (P), and the tf-gene matrix (D)."
   ]
  },
  {
   "cell_type": "code",
   "execution_count": 18,
   "metadata": {
    "pycharm": {
     "name": "#%%\n"
    }
   },
   "outputs": [],
   "source": [
    "gene_expression=adata_cd14_training.layers[\"log1p\"]\n",
    "protein=adata_cd14_training.obsm[\"protein\"]\n",
    "tf_gene_matrix=adata_cd14_training.varm[\"tf_gene\"]\n",
    "\n",
    "model_cd14=model_cd14.fit(Y=gene_expression, \n",
    "                          P=protein, \n",
    "                          D=tf_gene_matrix)"
   ]
  },
  {
   "cell_type": "markdown",
   "metadata": {
    "pycharm": {
     "name": "#%% md\n"
    }
   },
   "source": [
    "We can evaluate the performance  using the `.score` function, which predicts gene expression for each cell in the training set using the protein data and compares to the true gene expression."
   ]
  },
  {
   "cell_type": "code",
   "execution_count": 21,
   "metadata": {
    "pycharm": {
     "name": "#%%\n"
    }
   },
   "outputs": [
    {
     "data": {
      "text/plain": "0.46251829049725823"
     },
     "execution_count": 21,
     "metadata": {},
     "output_type": "execute_result"
    }
   ],
   "source": [
    "protein_test=adata_cd14_testing.obsm[\"protein\"]\n",
    "\n",
    "gene_expression_test=np.asarray(\n",
    "    adata_cd14_testing.layers[\"log1p\"])\n",
    "\n",
    "model_cd14.score(P=protein_test.to_numpy(),Y=gene_expression_test)"
   ]
  },
  {
   "cell_type": "code",
   "execution_count": 20,
   "metadata": {},
   "outputs": [
    {
     "data": {
      "text/plain": "0.46251829049725823"
     },
     "execution_count": 20,
     "metadata": {},
     "output_type": "execute_result"
    }
   ],
   "source": [
    "model_cd14.score(adata_cd14_testing)"
   ]
  },
  {
   "cell_type": "markdown",
   "metadata": {},
   "source": [
    "The process is repeated for each cell type in a for loop, storing the models in a dictionary."
   ]
  },
  {
   "cell_type": "code",
   "execution_count": 22,
   "metadata": {
    "pycharm": {
     "name": "#%%\n"
    }
   },
   "outputs": [
    {
     "name": "stdout",
     "output_type": "stream",
     "text": [
      "R2 value for B cells: \t0.5779714169846493\n",
      "R2 value for CD cells: \t0.7167130225070205\n",
      "R2 value for CD14+ Mono cells: \t0.42685534112870116\n",
      "R2 value for CD4+ Memory T cells: \t0.4520617376369506\n",
      "R2 value for CD4+ Naive T cells: \t0.4236645333693825\n",
      "R2 value for CD8+ cells: \t0.5128035785529972\n",
      "R2 value for FCGR3A+/CD16+ Mono cells: \t0.6296312035500657\n",
      "R2 value for NK cells: \t0.504907509066246\n"
     ]
    }
   ],
   "source": [
    "models=dict()\n",
    "\n",
    "for ct in np.unique(adata.obs[\"cell_types\"].tolist()):\n",
    "    adata_training=adata[(adata.obs[\"cell_types\"] == ct) \n",
    "                         & (adata.obs[\"training\"] == True)]\n",
    "    adata_testing =adata[(adata.obs[\"cell_types\"] == ct) \n",
    "                         & (adata.obs[\"training\"] == False)]\n",
    "\n",
    "    models[ct]= pySPaRTAN.SPaRTAN(lamda=0.001,\n",
    "                        alpha=0.001,\n",
    "                        solver=\"SVD\")\n",
    "    models[ct].fit(adata_training)\n",
    "\n",
    "    print(\"R2 value for \"+ct+\" cells: \\t\"\n",
    "          +str(models[ct].score(adata_testing)))"
   ]
  },
  {
   "cell_type": "markdown",
   "metadata": {},
   "source": [
    "The model for a particular cell type, say CD4+ Memory T cells for example, is stored as `model[\"CD4+ Memory T\"]`."
   ]
  },
  {
   "cell_type": "markdown",
   "metadata": {
    "pycharm": {
     "name": "#%% md\n"
    }
   },
   "source": [
    "# 3. Infer TF Activites\n",
    "\n",
    "From the fitted model, TF activity is inferred from protein expression by calculating $WP^T$. TF activity for every CD14+ monocyte cell is calculated by the `get_TF_activites` function, using only the protein expression as input."
   ]
  },
  {
   "cell_type": "code",
   "execution_count": null,
   "metadata": {},
   "outputs": [],
   "source": [
    "tf = model_cd14.get_projD(adata_cd14.obsm[\"protein\"])"
   ]
  },
  {
   "cell_type": "markdown",
   "metadata": {},
   "source": [
    "The significance of the inferred TF activity is assessed using a permutation test.  We generate the distribution for an empirical null hypothesis by shuffling the genes for each cell (randomly permuting the rows of $Y$) a specified number of times (typically, 1000), re-fitting the model, and calculating TF activity.  For each TF in each cell, we compare the inferred TF activity to the empirical null distribution of 1000 inferred TF activities and calculate a p-value as the proportion of values in the null distribution that are higher in absolute value than the true inferred TF activity. The p-value has a minimum value inversely proportional to the number of trials (1/1000, typically). \n",
    "\n",
    "For each cell, P-values are corrected using Bonferroni procedure for multiple hypothesis testing, which is implemented as part of the statsmodel package (`statsmodels.stats.multitest.multipletests`).  We use an adjusted p-value of 0.15 for this example.\n",
    "\n",
    "The permutation test is done using the `get_TF_activites` function, this time specifying the number of permutations to use for the null distribution.\n"
   ]
  },
  {
   "cell_type": "code",
   "execution_count": null,
   "metadata": {
    "pycharm": {
     "name": "#%%\n"
    }
   },
   "outputs": [],
   "source": [
    "tf, tf_p_val = model_cd14.get_projD(\n",
    "    adata_cd14.obsm[\"protein\"],\n",
    "    n_trials=100,\n",
    "    verbose=True\n",
    ")"
   ]
  },
  {
   "cell_type": "code",
   "execution_count": null,
   "metadata": {},
   "outputs": [],
   "source": [
    "tf"
   ]
  },
  {
   "cell_type": "markdown",
   "metadata": {},
   "source": [
    "To identify TFs that are important in CD14+ monocytes, we look for TFs that have a p value of less than 0.15 in a high proportion of cells."
   ]
  },
  {
   "cell_type": "code",
   "execution_count": null,
   "metadata": {},
   "outputs": [],
   "source": [
    "prop_sig=(tf_p_val<0.15).mean(axis=1)\n",
    "prop_sig"
   ]
  },
  {
   "cell_type": "markdown",
   "metadata": {},
   "source": [
    "The inferred TF activity and corresponding p-values are stored in the AnnData object."
   ]
  },
  {
   "cell_type": "code",
   "execution_count": null,
   "metadata": {},
   "outputs": [],
   "source": [
    "adata_cd14.obsm[\"tf_activity\"]=tf.T\n",
    "adata_cd14.obsm[\"tf_p_val\"]=tf_p_val.T"
   ]
  },
  {
   "cell_type": "markdown",
   "metadata": {},
   "source": [
    "Repeat the process for each cell type, and create a dataframe with the proportion of cells for each cell type where each TF is significant. "
   ]
  },
  {
   "cell_type": "code",
   "execution_count": null,
   "metadata": {
    "pycharm": {
     "name": "#%%\n"
    }
   },
   "outputs": [],
   "source": [
    "tf_ct=dict()\n",
    "tf=dict()\n",
    "tf_p_val=dict()\n",
    "tf_ct_p_vals=dict()\n",
    "tf_ct_mean=dict()\n",
    "for ct in np.unique(adata.obs[\"cell_types\"]):\n",
    "    print(\"Calculating TF activities for \"+ct+\" cells\")\n",
    "    tf[ct], tf_p_val[ct] =models[ct].get_projD(\n",
    "        adata[adata.obs[\"cell_types\"] == ct].obsm[\"protein\"],\n",
    "        n_trials=100 \n",
    "    )\n",
    "\n",
    "    tf_ct_p_vals[ct]=(tf_p_val[ct]<0.15).mean()\n",
    "    tf_ct_mean[ct]=tf[ct].mean()\n",
    "    \n",
    "adata.obsm[\"tf\"]=pd.concat(tf, axis=1, join=\"inner\").T\n",
    "adata.obsm[\"tf_p_val\"]=pd.concat(tf_p_val, axis=1, join=\"inner\").T\n",
    "tf_ct_p_vals=pd.concat(tf_ct_p_vals)\n",
    "tf_ct_mean=pd.concat(tf_ct_mean)\n",
    "pd.concat(tf, axis=1, join=\"inner\")"
   ]
  },
  {
   "cell_type": "markdown",
   "metadata": {},
   "source": [
    "Create a dotplot of the importance of TFs across cell-types using seaborn.  We plot only the subset of TFs that are important to the transcriptional program of at least one cell-type."
   ]
  },
  {
   "cell_type": "code",
   "execution_count": null,
   "metadata": {
    "pycharm": {
     "name": "#%%\n"
    }
   },
   "outputs": [],
   "source": [
    "tfs_to_plot=tf_ct.min().sort_values().tail(60).index\n",
    "tf_ct_mean=tf_ct_mean.divide(\n",
    "    np.sqrt(np.square(tf_ct_mean).sum(axis=1)),\n",
    "    axis=0)\n",
    "\n",
    "plot_df=pd.melt(tf_ct_mean.reset_index(), id_vars='index')\n",
    "\n",
    "plot_df['p_val']=pd.melt(\n",
    "    tf_ct_p_vals.reset_index(), id_vars='index')['value']\n",
    "plot_df.columns=[\"TF\", \"Cell_Type\", \"TF_Activity\", \"Proportion_Significant\"]\n",
    "\n",
    "ax =sns.scatterplot(\n",
    "    data=plot_df.query(\"Proportion_Significant>0.5\"),\n",
    "    y=\"Cell_Type\", x=\"TF\", hue=\"TF_Activity\", size=\"Proportion_Significant\",\n",
    "    palette=\"PiYG\",sizes=(0, 250), hue_norm=(-0.8, 0.8)\n",
    ")\n",
    "\n",
    "#ax.set_xticklabels(ax.get_xticklabels(),rotation = 90)\n",
    "plt.legend(bbox_to_anchor=(0,-2),\n",
    "           loc='upper left',\n",
    "           borderaxespad=0)\n"
   ]
  },
  {
   "cell_type": "markdown",
   "metadata": {
    "pycharm": {
     "name": "#%% md\n"
    }
   },
   "source": [
    "# 4. Identifying TF-protein relationships\n",
    "\n",
    "The matrix $W$ in the model can be interpreted as interactions between TFs and proteins.  However, due to different proteins being expressed on different scales, we instead look at the correlations between protein expressions ($P$) and the inferred TF activity ($WP^T$).  The `get_tf_protein_cor` is used to compute the correlation matrix using all cells in the training data.  The function returns a data frame with TFs as columns and proteins as rows."
   ]
  },
  {
   "cell_type": "code",
   "execution_count": null,
   "metadata": {
    "pycharm": {
     "name": "#%%\n"
    },
    "scrolled": false
   },
   "outputs": [],
   "source": [
    "protein_tf=model_cd14.get_tf_protein_cor()\n",
    "protein_tf.head()"
   ]
  },
  {
   "cell_type": "markdown",
   "metadata": {
    "pycharm": {
     "name": "#%% md\n"
    }
   },
   "source": [
    "Repeat the process for each cell type of interest, and store the results in a dictionary."
   ]
  },
  {
   "cell_type": "code",
   "execution_count": null,
   "metadata": {
    "pycharm": {
     "name": "#%%\n"
    }
   },
   "outputs": [],
   "source": [
    "protein_tf=dict()\n",
    "for ct in np.unique(adata.obs[\"cell_types\"]):\n",
    "    protein_tf[ct]=models[ct].get_tf_protein_cor()"
   ]
  },
  {
   "cell_type": "markdown",
   "metadata": {
    "pycharm": {
     "name": "#%%\n"
    }
   },
   "source": [
    "plot the results for the relevant TFs for each cell type ..."
   ]
  }
 ],
 "metadata": {
  "kernelspec": {
   "display_name": "Python 3",
   "language": "python",
   "name": "python3"
  },
  "language_info": {
   "codemirror_mode": {
    "name": "ipython",
    "version": 3
   },
   "file_extension": ".py",
   "mimetype": "text/x-python",
   "name": "python",
   "nbconvert_exporter": "python",
   "pygments_lexer": "ipython3",
   "version": "3.8.5"
  }
 },
 "nbformat": 4,
 "nbformat_minor": 1
}